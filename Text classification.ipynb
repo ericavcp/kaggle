{
 "cells": [
  {
   "cell_type": "code",
   "execution_count": 1,
   "metadata": {},
   "outputs": [],
   "source": [
    "import pandas as pd\n",
    "import numpy as np\n",
    "\n",
    "import collections\n",
    "\n",
    "import string\n",
    "import nltk\n",
    "import unicodedata\n",
    "\n",
    "from nltk.corpus import stopwords\n",
    "from nltk.tokenize import word_tokenize\n",
    "\n",
    "from sklearn import metrics\n",
    "from sklearn.model_selection import train_test_split\n",
    "\n",
    "#Naive Bayes\n",
    "from sklearn.feature_extraction.text import CountVectorizer, TfidfVectorizer, TfidfTransformer\n",
    "from sklearn.pipeline import Pipeline\n",
    "from sklearn.naive_bayes import MultinomialNB\n",
    "\n",
    "#LSTM\n",
    "import tensorflow as tf\n",
    "\n",
    "from keras.preprocessing.text import text_to_word_sequence\n",
    "from keras.preprocessing.text import one_hot\n",
    "from keras.preprocessing.sequence import pad_sequences\n",
    "from keras.models import Sequential\n",
    "from keras.layers import Dense\n",
    "from keras.layers import LSTM\n",
    "from keras.layers import Dropout\n",
    "from keras.layers import Bidirectional\n",
    "from keras.layers.embeddings import Embedding\n",
    "\n",
    "import matplotlib.pyplot as plt\n",
    "import matplotlib as mpl\n",
    "%matplotlib inline\n",
    "\n",
    "import warnings\n",
    "warnings.filterwarnings(\"ignore\")"
   ]
  },
  {
   "cell_type": "markdown",
   "metadata": {},
   "source": [
    "## Upload dataset"
   ]
  },
  {
   "cell_type": "code",
   "execution_count": 2,
   "metadata": {},
   "outputs": [],
   "source": [
    "df_train = pd.read_csv('train.csv')\n",
    "df_test = pd.read_csv('test.csv')\n",
    "df_sample = pd.read_csv('sample_submission.csv')"
   ]
  },
  {
   "cell_type": "code",
   "execution_count": 3,
   "metadata": {},
   "outputs": [],
   "source": [
    "df_train['dataset'] = 'train'\n",
    "df_test['dataset'] = 'test'"
   ]
  },
  {
   "cell_type": "code",
   "execution_count": 4,
   "metadata": {},
   "outputs": [],
   "source": [
    "df_aux = df_test.merge(df_sample, left_on='id', right_on='id')"
   ]
  },
  {
   "cell_type": "code",
   "execution_count": 5,
   "metadata": {},
   "outputs": [
    {
     "data": {
      "text/html": [
       "<div>\n",
       "<style scoped>\n",
       "    .dataframe tbody tr th:only-of-type {\n",
       "        vertical-align: middle;\n",
       "    }\n",
       "\n",
       "    .dataframe tbody tr th {\n",
       "        vertical-align: top;\n",
       "    }\n",
       "\n",
       "    .dataframe thead th {\n",
       "        text-align: right;\n",
       "    }\n",
       "</style>\n",
       "<table border=\"1\" class=\"dataframe\">\n",
       "  <thead>\n",
       "    <tr style=\"text-align: right;\">\n",
       "      <th></th>\n",
       "      <th>id</th>\n",
       "      <th>keyword</th>\n",
       "      <th>location</th>\n",
       "      <th>text</th>\n",
       "      <th>dataset</th>\n",
       "      <th>target</th>\n",
       "    </tr>\n",
       "  </thead>\n",
       "  <tbody>\n",
       "    <tr>\n",
       "      <th>0</th>\n",
       "      <td>0</td>\n",
       "      <td>NaN</td>\n",
       "      <td>NaN</td>\n",
       "      <td>Just happened a terrible car crash</td>\n",
       "      <td>test</td>\n",
       "      <td>0</td>\n",
       "    </tr>\n",
       "    <tr>\n",
       "      <th>1</th>\n",
       "      <td>2</td>\n",
       "      <td>NaN</td>\n",
       "      <td>NaN</td>\n",
       "      <td>Heard about #earthquake is different cities, s...</td>\n",
       "      <td>test</td>\n",
       "      <td>0</td>\n",
       "    </tr>\n",
       "    <tr>\n",
       "      <th>2</th>\n",
       "      <td>3</td>\n",
       "      <td>NaN</td>\n",
       "      <td>NaN</td>\n",
       "      <td>there is a forest fire at spot pond, geese are...</td>\n",
       "      <td>test</td>\n",
       "      <td>0</td>\n",
       "    </tr>\n",
       "    <tr>\n",
       "      <th>3</th>\n",
       "      <td>9</td>\n",
       "      <td>NaN</td>\n",
       "      <td>NaN</td>\n",
       "      <td>Apocalypse lighting. #Spokane #wildfires</td>\n",
       "      <td>test</td>\n",
       "      <td>0</td>\n",
       "    </tr>\n",
       "    <tr>\n",
       "      <th>4</th>\n",
       "      <td>11</td>\n",
       "      <td>NaN</td>\n",
       "      <td>NaN</td>\n",
       "      <td>Typhoon Soudelor kills 28 in China and Taiwan</td>\n",
       "      <td>test</td>\n",
       "      <td>0</td>\n",
       "    </tr>\n",
       "  </tbody>\n",
       "</table>\n",
       "</div>"
      ],
      "text/plain": [
       "   id keyword location                                               text  \\\n",
       "0   0     NaN      NaN                 Just happened a terrible car crash   \n",
       "1   2     NaN      NaN  Heard about #earthquake is different cities, s...   \n",
       "2   3     NaN      NaN  there is a forest fire at spot pond, geese are...   \n",
       "3   9     NaN      NaN           Apocalypse lighting. #Spokane #wildfires   \n",
       "4  11     NaN      NaN      Typhoon Soudelor kills 28 in China and Taiwan   \n",
       "\n",
       "  dataset  target  \n",
       "0    test       0  \n",
       "1    test       0  \n",
       "2    test       0  \n",
       "3    test       0  \n",
       "4    test       0  "
      ]
     },
     "execution_count": 5,
     "metadata": {},
     "output_type": "execute_result"
    }
   ],
   "source": [
    "df_aux.head()"
   ]
  },
  {
   "cell_type": "code",
   "execution_count": 6,
   "metadata": {},
   "outputs": [],
   "source": [
    "df = pd.concat([df_train, df_aux])"
   ]
  },
  {
   "cell_type": "code",
   "execution_count": 7,
   "metadata": {},
   "outputs": [
    {
     "data": {
      "text/html": [
       "<div>\n",
       "<style scoped>\n",
       "    .dataframe tbody tr th:only-of-type {\n",
       "        vertical-align: middle;\n",
       "    }\n",
       "\n",
       "    .dataframe tbody tr th {\n",
       "        vertical-align: top;\n",
       "    }\n",
       "\n",
       "    .dataframe thead th {\n",
       "        text-align: right;\n",
       "    }\n",
       "</style>\n",
       "<table border=\"1\" class=\"dataframe\">\n",
       "  <thead>\n",
       "    <tr style=\"text-align: right;\">\n",
       "      <th></th>\n",
       "      <th>id</th>\n",
       "      <th>keyword</th>\n",
       "      <th>location</th>\n",
       "      <th>text</th>\n",
       "      <th>target</th>\n",
       "      <th>dataset</th>\n",
       "    </tr>\n",
       "  </thead>\n",
       "  <tbody>\n",
       "    <tr>\n",
       "      <th>0</th>\n",
       "      <td>1</td>\n",
       "      <td>NaN</td>\n",
       "      <td>NaN</td>\n",
       "      <td>Our Deeds are the Reason of this #earthquake M...</td>\n",
       "      <td>1</td>\n",
       "      <td>train</td>\n",
       "    </tr>\n",
       "    <tr>\n",
       "      <th>1</th>\n",
       "      <td>4</td>\n",
       "      <td>NaN</td>\n",
       "      <td>NaN</td>\n",
       "      <td>Forest fire near La Ronge Sask. Canada</td>\n",
       "      <td>1</td>\n",
       "      <td>train</td>\n",
       "    </tr>\n",
       "    <tr>\n",
       "      <th>2</th>\n",
       "      <td>5</td>\n",
       "      <td>NaN</td>\n",
       "      <td>NaN</td>\n",
       "      <td>All residents asked to 'shelter in place' are ...</td>\n",
       "      <td>1</td>\n",
       "      <td>train</td>\n",
       "    </tr>\n",
       "    <tr>\n",
       "      <th>3</th>\n",
       "      <td>6</td>\n",
       "      <td>NaN</td>\n",
       "      <td>NaN</td>\n",
       "      <td>13,000 people receive #wildfires evacuation or...</td>\n",
       "      <td>1</td>\n",
       "      <td>train</td>\n",
       "    </tr>\n",
       "    <tr>\n",
       "      <th>4</th>\n",
       "      <td>7</td>\n",
       "      <td>NaN</td>\n",
       "      <td>NaN</td>\n",
       "      <td>Just got sent this photo from Ruby #Alaska as ...</td>\n",
       "      <td>1</td>\n",
       "      <td>train</td>\n",
       "    </tr>\n",
       "  </tbody>\n",
       "</table>\n",
       "</div>"
      ],
      "text/plain": [
       "   id keyword location                                               text  \\\n",
       "0   1     NaN      NaN  Our Deeds are the Reason of this #earthquake M...   \n",
       "1   4     NaN      NaN             Forest fire near La Ronge Sask. Canada   \n",
       "2   5     NaN      NaN  All residents asked to 'shelter in place' are ...   \n",
       "3   6     NaN      NaN  13,000 people receive #wildfires evacuation or...   \n",
       "4   7     NaN      NaN  Just got sent this photo from Ruby #Alaska as ...   \n",
       "\n",
       "   target dataset  \n",
       "0       1   train  \n",
       "1       1   train  \n",
       "2       1   train  \n",
       "3       1   train  \n",
       "4       1   train  "
      ]
     },
     "execution_count": 7,
     "metadata": {},
     "output_type": "execute_result"
    }
   ],
   "source": [
    "df.head()"
   ]
  },
  {
   "cell_type": "code",
   "execution_count": 8,
   "metadata": {},
   "outputs": [
    {
     "name": "stdout",
     "output_type": "stream",
     "text": [
      "<class 'pandas.core.frame.DataFrame'>\n",
      "Int64Index: 10876 entries, 0 to 3262\n",
      "Data columns (total 6 columns):\n",
      " #   Column    Non-Null Count  Dtype \n",
      "---  ------    --------------  ----- \n",
      " 0   id        10876 non-null  int64 \n",
      " 1   keyword   10789 non-null  object\n",
      " 2   location  7238 non-null   object\n",
      " 3   text      10876 non-null  object\n",
      " 4   target    10876 non-null  int64 \n",
      " 5   dataset   10876 non-null  object\n",
      "dtypes: int64(2), object(4)\n",
      "memory usage: 594.8+ KB\n"
     ]
    }
   ],
   "source": [
    "df.info()"
   ]
  },
  {
   "cell_type": "markdown",
   "metadata": {},
   "source": [
    "## Knowing the dataset"
   ]
  },
  {
   "cell_type": "code",
   "execution_count": 9,
   "metadata": {},
   "outputs": [
    {
     "data": {
      "text/plain": [
       "0    0.699246\n",
       "1    0.300754\n",
       "Name: target, dtype: float64"
      ]
     },
     "execution_count": 9,
     "metadata": {},
     "output_type": "execute_result"
    }
   ],
   "source": [
    "df['target'].value_counts(normalize=True)"
   ]
  },
  {
   "cell_type": "markdown",
   "metadata": {},
   "source": [
    "*Entendendo a distribuição das classes no dataset de treino: a base contém mais classes 0 do que 1 para a classificação dos desatres*"
   ]
  },
  {
   "cell_type": "code",
   "execution_count": 10,
   "metadata": {},
   "outputs": [
    {
     "data": {
      "text/plain": [
       "0    0.57034\n",
       "1    0.42966\n",
       "Name: target, dtype: float64"
      ]
     },
     "execution_count": 10,
     "metadata": {},
     "output_type": "execute_result"
    }
   ],
   "source": [
    "df_train['target'].value_counts(normalize=True)"
   ]
  },
  {
   "cell_type": "markdown",
   "metadata": {},
   "source": [
    "*Entretanto no dataset de treino as classes estão um pouco mais balanceadas do que no total. Vou usar o total para fazer os tratamentos de texto e vou usar apenas o dataset de treino para treinar o modelo*"
   ]
  },
  {
   "cell_type": "code",
   "execution_count": 11,
   "metadata": {},
   "outputs": [],
   "source": [
    "df.drop('id', axis=1, inplace=True)"
   ]
  },
  {
   "cell_type": "markdown",
   "metadata": {},
   "source": [
    "*O ID não contribui nada para o modelo, já que ele é único por tweet, por isso foi  excluído do modelo*"
   ]
  },
  {
   "cell_type": "code",
   "execution_count": 12,
   "metadata": {},
   "outputs": [],
   "source": [
    "df['location'] = df['location'].apply(lambda x: str(x).replace('nan', 'Not identified'))"
   ]
  },
  {
   "cell_type": "code",
   "execution_count": 13,
   "metadata": {},
   "outputs": [],
   "source": [
    "location = list(df['location'])"
   ]
  },
  {
   "cell_type": "code",
   "execution_count": 14,
   "metadata": {
    "scrolled": true
   },
   "outputs": [
    {
     "name": "stdout",
     "output_type": "stream",
     "text": [
      "Counter({'Not identified': 3638, 'USA': 141, 'New York': 109, 'United States': 65, 'London': 58, 'Canada': 42, 'Nigeria': 40, 'India': 35, 'Worldwide': 35, 'Los Angeles, CA': 34, 'UK': 33, 'Kenya': 32, 'Washington, DC': 31, 'Mumbai': 28, 'United Kingdom': 26, 'Australia': 25, 'California': 25, 'Los Angeles': 24, 'San Francisco': 23, 'Chicago, IL': 23, 'New York, NY': 22, 'California, USA': 21, 'NYC': 21, 'Florida': 21, 'San Francisco, CA': 20, 'Chicago': 17, 'Toronto': 16, 'Washington, D.C.': 16, 'Indonesia': 15, 'Ireland': 15, 'Everywhere': 15, 'ss': 14, 'Philippines': 14, 'Seattle': 14, 'Seattle, WA': 14, 'London, UK': 13, 'Texas': 13, 'New York City': 13, 'Earth': 13, 'Atlanta, GA': 13, 'Singapore': 13, 'Manchester': 13, 'Nashville, TN': 12, 'Denver, CO': 12, 'World': 12, 'Denver, Colorado': 12, 'London, England': 12, '304': 11, 'Memphis, TN': 11, 'Dallas, TX': 11, 'Calgary, Alberta': 11, 'Melbourne, Australia': 11, 'Paterson, New Jersey ': 11, 'San Diego, CA': 11, 'US': 10, 'Houston, TX': 10, 'Sacramento, CA': 10, 'Pennsylvania, USA': 10, 'Colorado': 10, ' Road to the Billionaires Club': 10, 'Austin, TX': 9, 'Global': 9, 'worldwide': 9, 'Brooklyn, NY': 9, 'Sydney': 9, 'Scotland': 9, 'Planet Earth': 9, 'Portland, OR': 9, 'Maryland': 9, 'Lagos': 9, '??????': 9, 'Indiana': 9, 'Philadelphia, PA': 8, 'South Africa': 8, 'Las Vegas': 8, 'Charlotte, NC': 8, 'Texas, USA': 8, 'Sydney, Australia': 8, 'Boston, MA': 8, 'Oklahoma City, OK': 8, 'Massachusetts': 8, 'Michigan': 8, 'Morioh, Japan': 8, 'Pedophile hunting ground': 8, 'in the Word of God': 8, 'Southern California': 8, 'New Jersey': 8, 'Phoenix, AZ': 7, 'California, United States': 7, 'England': 7, 'Pakistan': 7, 'Atlanta': 7, 'WorldWide': 7, 'Puerto Rico': 7, 'Tennessee': 7, 'Melbourne': 7, 'Orlando, FL': 7, 'Newcastle': 7, 'San Diego': 7, 'Calgary, AB': 6, 'North Carolina': 6, 'Switzerland': 6, 'North Carolina, USA': 6, 'Florida, USA': 6, 'Wisconsin': 6, 'Manhattan, NY': 6, 'Columbus, OH': 6, 'Cleveland, OH': 6, 'Paignton': 6, 'Oakland, CA': 6, 'NY': 6, 'Las Vegas, Nevada': 6, 'Nigeria ': 6, 'New York, USA': 6, 'Liverpool': 6, 'Toronto, Ontario': 6, 'MAD as Hell': 6, 'U.S.A': 6, 'Arizona': 6, 'Washington DC': 6, 'Coventry': 6, '?????': 6, 'Mumbai, Maharashtra': 6, 'Indianapolis, IN': 6, 'london': 6, 'china': 6, 'Birmingham': 5, 'Barbados': 5, 'St. Louis, MO': 5, 'Pennsylvania': 5, 'Happily Married with 2 kids ': 5, 'Tokyo': 5, 'Brasil': 5, 'San Jose, CA': 5, 'Sydney, New South Wales': 5, 'Baltimore, MD': 5, 'Vancouver, BC': 5, 'Glasgow': 5, 'Austin, Texas': 5, '??': 5, 'Cape Town': 5, 'Leeds, England': 5, 'New Hampshire': 5, 'World Wide': 5, 'Jamaica': 5, 'Massachusetts, USA': 5, 'Kansas City, MO': 5, 'Lagos, Nigeria': 5, 'The Netherlands': 5, 'San Antonio, TX': 5, 'Atlanta Georgia ': 5, 'Hong Kong': 5, 'Tampa, FL': 5, 'Anchorage, AK': 5, 'Japan': 5, 'Manchester, England': 5, 'Los Angeles, California': 5, 'Hawaii, USA': 5, 'Calgary': 5, 'Kansas City': 5, 'Portland, Oregon': 5, 'Midwest': 5, 'Germany': 5, 'Asheville, NC': 5, 'Washington State': 5, 'Las Vegas, NV': 5, 'Asia': 5, 'Raleigh, NC': 5, 'Italy': 5, 'Toronto, Canada': 5, 'Narnia': 5, 'Detroit, MI': 5, 'New Jersey, USA': 5, 'Iraq|Afghanistan| RSA |Baghdad': 5, 'Orlando': 5, 'Baton Rouge, LA': 4, 'Boston': 4, 'Subconscious LA': 4, 'Republic of Texas': 4, 'Connecticut': 4, 'Oregon, USA': 4, 'America': 4, 'Memphis': 4, 'Gotham City': 4, 'Your screen': 4, 'Leicester': 4, 'Georgia': 4, 'MA': 4, 'New Delhi, Delhi': 4, 'mumbai': 4, 'London UK': 4, 'Virginia': 4, 'Dublin, Ireland': 4, 'Seattle, Washington': 4, 'Chicago, Illinois': 4, 'Europe': 4, 'San Francisco Bay Area': 4, 'Oregon': 4, 'Sacramento': 4, 'Miami, FL': 4, 'Illinois, USA': 4, 'Geneva': 4, 'New York, New York': 4, 'Does it really matter!': 4, 'Edinburgh': 4, 'Nottingham, England': 4, 'Port Harcourt, Nigeria': 4, 'Buffalo, NY': 4, 'Nairobi-KENYA': 4, 'U.S.': 4, 'Madison, WI': 4, 'New Zealand': 4, 'Here.': 4, 'Calgary, Alberta, Canada': 4, 'British Columbia, Canada': 4, 'Breaking News': 4, 'Bend, Oregon': 4, 'canada': 4, 'Haddonfield, NJ': 4, 'Brazil': 4, \"Jakarta/Kuala Lumpur/S'pore\": 4, 'China': 4, 'Rocky Mountains': 4, 'The Universe': 4, 'Dubai, UAE': 4, 'Venezuela': 4, 'Anonymous': 4, '?': 4, 'United States of America': 4, 'Jupiter': 4, 'Houston': 4, 'Live On Webcam': 3, 'Abuja': 3, 'Arlington, TX': 3, 'Nairobi, Kenya': 3, 'FiNot identifiedcial News and Views': 3, 'nyc': 3, 'New Orleans, LA': 3, 'Karachi': 3, 'PA': 3, 'Oakland': 3, '#FLIGHTCITY UK  ': 3, 'Nowhere. Everywhere.': 3, 'East Coast': 3, 'Hollywood, CA': 3, 'Milwaukee, WI': 3, 'NYC :) Ex- #Islamophobe': 3, 'Dubai': 3, 'Scotland, United Kingdom': 3, 'Buy Give Me My Money ': 3, 'Utah': 3, 'Washington D.C.': 3, 'iTunes': 3, 'Jacksonville, FL': 3, 'Rio de Janeiro': 3, 'Mo.City': 3, 'Kama | 18 | France ': 3, '???': 3, 'Malaysia': 3, 'Santa Cruz, CA': 3, 'Oklahoma City': 3, 'CA': 3, 'Edmonton, Alberta': 3, 'Des Moines, IA': 3, 'SWMO': 3, 'Mumbai , India': 3, 'NJ': 3, 'Epic City, BB.': 3, 'New Orleans ,Louisiana': 3, 'England, United Kingdom': 3, 'Dublin City, Ireland': 3, 'Tulsa, Oklahoma': 3, 'Sweden': 3, 'Roanoke, VA': 3, 'Alabama': 3, 'http://www.amazon.com/dp/B00HR': 3, 'Victoria, British Columbia': 3, 'Nairobi': 3, 'los angeles, ca': 3, 'Stockholm, Sweden': 3, 'Azeroth': 3, 'Portugal': 3, 'Inexpressible Island ': 3, 'Wales': 3, 'Sydney Australia': 3, 'Kingston, Jamaica': 3, 'Johannesburg, South Africa': 3, 'California ': 3, 'Ontario, Canada': 3, 'Vancouver': 3, '21.462446,-158.022017': 3, 'Islamabad': 3, 'U.K.': 3, 'State College, PA': 3, 'Adelaide, Australia': 3, 'Somewhere in the Canada': 3, 'Dubai, United Arab Emirates': 3, 'Brisbane': 3, '???????????': 3, '????': 3, 'everywhere': 3, 'Macclesfield': 3, 'Michigan, USA': 3, 'Manila, Philippines': 3, 'Virginia, USA': 3, 'Honduras': 3, 'Winston-Salem, NC': 3, 'uk': 3, 'Naperville': 3, 'USA ': 3, 'new york': 3, 'CA via Brum': 3, 'ARGENTINA': 3, 'Desde Republica Argentina': 3, 'Alaska, USA': 3, 'world': 3, 'Karachi Pakistan': 3, 'Five down from the Coffeeshop': 3, 'Vancouver, British Columbia': 3, 'Alaska': 3, 'Birmingham, England': 3, 'Africa': 3, 'Chevy Chase, MD': 3, 'West': 3, 'Gold Coast, Australia': 3, 'india': 3, 'Corpus Christi, Texas': 3, 'New York ': 3, 'hell': 3, 'Calgary, Canada': 3, 'Calgary, AB, Canada': 3, 'NIFC': 3, 'Kolkata': 3, 'NIGERIA': 3, 'Louisville, KY': 3, 'France': 3, 'Mesa, AZ': 3, 'Baltimore': 3, 'Dundee': 3, 'Leesburg, FL': 3, 'Victoria, BC': 3, 'Huntsville, AL': 3, 'Haysville, KS': 3, 'Tennessee, USA': 3, 'Lynchburg, VA': 3, 'America of Founding Fathers': 3, 'Upstairs.': 3, 'FCT, Abuja ': 3, 'Finland': 3, 'Durham, NC': 3, 'Tulsa, OK': 3, 'Auckland, New Zealand': 3, 'texas': 3, 'Evansville, IN': 3, 'they/them ': 3, 'South, USA': 3, 'Mountains': 3, 'Taylor Swift': 3, 'DMV': 3, 'Helsinki': 3, '140920-21 & 150718-19 BEIJING': 3, 'Edmonton': 3, 'Ottawa': 3, 'Pretoria': 2, 'New Hanover County, NC': 2, 'Maldives': 2, 'Manchester, NH': 2, 'Wilmington, NC': 2, 'Charlotte': 2, 'Instagram - @heyimginog ': 2, 'Somewhere Only We Know ?': 2, 'Belgium': 2, '19.600858, -99.047821': 2, 'Palo Alto, CA': 2, 'Hyderabad Telangana INDIA': 2, 'Eagle Pass, Texas': 2, 'bangalore': 2, 'Somewhere Out There': 2, 'Israel': 2, 'Cambridge, MA': 2, 'Arizona ': 2, 'Amsterdam': 2, 'VISIT MY YOUTUBE CHANNEL.': 2, 'Swaning Around': 2, 'CA physically- Boston Strong?': 2, 'Yeezy Taught Me , NV': 2, 'Rock Hill, SC': 2, 'Chandler, AZ': 2, 'ColoRADo': 2, 'Buenos Aires, Argentina': 2, 'Helsinki, Finland': 2, 'Kent': 2, 'Studio': 2, 'Mexico! ^_^': 2, 'Campinas Sp': 2, '? ': 2, 'Jerusalem': 2, 'Eldoret, kenya': 2, 'EARTH ': 2, 'SF Bay Area': 2, 'Orange County, California': 2, 'Adelaide, South Australia': 2, 'Location': 2, 'ph': 2, 'Score More Goals Buying @': 2, 'Score Team Goals Buying @': 2, 'NC': 2, 'West Virginia, USA': 2, 'Silver Spring, MD': 2, 'Washington, D.C., area': 2, 'Budapest, Hungary': 2, 'Columbus': 2, 'Fresno, CA': 2, '302': 2, 'Intramuros, Manila': 2, 'va': 2, 'Ottawa, Canada': 2, 'Maryland, USA': 2, 'Ontario Canada': 2, 'Washington, USA': 2, 'Ideally under a big tree': 2, \"Dime's Palace\": 2, 'The World': 2, 'Ewa Beach, HI': 2, 'Buenos Aires': 2, 'Oklahoma': 2, 'St Paul, MN': 2, 'Missouri, USA': 2, 'Charlotte NC': 2, 'Lincoln, NE': 2, 'Knoxville, TN': 2, 'Odawara, Japan': 2, 'Silicon Valley': 2, 'Mackay, QLD, Australia': 2, 'Madison, GA': 2, 'St Charles, MD': 2, 'In Hell': 2, 'Selma2Oakland': 2, 'dallas': 2, 'Erie, PA': 2, 'Gainesville, FL': 2, 'DC': 2, 'Cherry Creek Denver CO': 2, 'Paradise, NV': 2, 'y/e/l': 2, 'Mid north coast of NSW': 2, 'Trinidad and Tobago': 2, 'Melbourne Australia': 2, 'The Internet & NYC': 2, 'indiana': 2, 'Bronx, New York': 2, 'Brooklyn, New York': 2, 'Santa Monica, CA': 2, 'Welt': 2, 'Tyler, TX': 2, 'Evanston, IL': 2, 'Colombia': 2, 'Jersey City, NJ': 2, 'Abuja, Nigeria': 2, 'Suplex City': 2, 'San Jose, California': 2, 'Spokane, WA': 2, 'Perth, Western Australia': 2, 'Houston, Texas': 2, 'Medford, NJ': 2, 'Riverside, CA': 2, 'USA , AZ': 2, 'Charleston, SC': 2, 'Cleveland, Ohio': 2, 'GLOBAL': 2, 'online ': 2, 'Trinidad & Tobago': 2, 'HTX': 2, 'Miami': 2, 'hyderabad': 2, 'Columbia, SC': 2, 'Unknown': 2, 'Newcastle Upon Tyne, England': 2, 'South Stand': 2, \"Spare 'Oom\": 2, 'Milton Keynes ': 2, 'To The Right of You!': 2, 'Blackpool': 2, 'ÌÏT: 10.614817868480726,12.195582811791382': 2, 'Berlin, Germany': 2, 'Bristol, UK': 2, '617-BTOWN-BEATDOWN': 2, 'Karachi, Pakistan': 2, 'Wellington': 2, 'Glasgow, Scotland': 2, 'Lisbon, Portugal': 2, 'San Jose': 2, 'Washington, DC & Charlotte, NC': 2, 'Alexandria, VA': 2, 'Palo Alto, California': 2, 'Chicagoland': 2, 'New Delhi': 2, 'Philadelphia, PA ': 2, 'the insane asylum. ': 2, 'Lagos Nigeria': 2, 'Istanbul': 2, 'Chile': 2, 'New England': 2, 'Norway': 2, 'Thailand': 2, 'Montreal': 2, 'Waco, Texas': 2, 'Boise, Idaho': 2, 'Patra-Greece.': 2, 'Georgia, USA': 2, 'Moscow': 2, 'Manchester, UK': 2, 'REPUBLICA DOMINICANA': 2, 'Indonesia\\n': 2, 'The Meadow': 2, 'Bournemouth': 2, 'Dorset, UK': 2, 'Vancouver BC': 2, 'USA, Haiti, Nepal': 2, 'Philadelphia, PA USA': 2, 'Lima, Peru': 2, 'los angeles': 2, 'Visit our  dedicated website @': 2, 'Na:tinixw / Hoopa, Berkeley': 2, 'USA (Formerly @usNOAAgov)': 2, 'Philadelphia': 2, 'icon: cheese3d': 2, 'U.S.A. - Global Members Site': 2, 'scandinavia': 2, 'Phoenix': 2, 'Renfrew, Scotland': 2, 'Kuala Lumpur, Malaysia': 2, 'Alexandria, VA, USA': 2, 'Reddit': 2, 'Augusta, GA': 2, 'Torrance, CA': 2, 'Olympia, WA': 2, 'CA, AZ & NV': 2, 'Auckland': 2, 'Nevada, USA': 2, 'Rochester, NY': 2, 'Portland, Ore. ': 2, 'Hackney, London': 2, 'Queensland, Australia': 2, 'WA State': 2, 'Washington': 2, 'Minna, Nigeria': 2, 'sydney, australia': 2, 'Moncton, New Brunswick': 2, 'Yamaku Academy, Class 3-4': 2, 'Winnipeg': 2, 'Oakland, Ca': 2, 'London, United Kingdom': 2, 'Rhode Island': 2, 'Orlando, Fl': 2, 'Bakersfield, California': 2, 'Ukraine': 2, '???? ???????': 2, '??? ???? ??????': 2, 'Bangalore': 2, 'Also follow ?': 2, 'In the potters hands': 2, 'The North': 2, '434': 2, 'TX': 2, 'Halifax': 2, 'SÌ£o Paulo': 2, 'Newark, NJ': 2, 'Niagara Falls, Ontario': 2, 'Nashville, Tennessee': 2, 'Bandung': 2, 'Cincinnati, OH': 2, 'Melbourne, Victoria': 2, 'Chorley, Lancashire, UK': 2, 'Derby': 2, 'Vietnam': 2, 'Global-NoLocation': 2, 'Estados Unidos': 2, 'Redding, California, USA': 2, 'alberta, canada': 2, 'far away': 2, 'Heaven': 2, ' Queensland, Australia': 2, 'Cleveland, OH - San Diego, CA': 2, 'Muntinlupa City, Philippines': 2, 'Jackson, MS': 2, 'International Action': 2, 'Riyadh': 2, 'Charleston, WV': 2, 'Houston TX': 2, 'Sarasota, FL': 2, 'West Chester, PA': 2, 'Mongolia': 2, 'brisbane, australia': 2, 'rome': 2, 'EastCarolina': 2, 'Roaming around the world': 2, 'Cumming, GA': 2, '#BlackLivesMatter': 2, 'Berlin - Germany': 2, 'Books Published, USA': 2, 'Bronx NY': 2, 'World Wide Web': 2, 'Emirates': 2, 'Peru': 2, 'Louisiana': 2, 'Russia': 2, 'Bristol': 2, 'probably watching survivor': 2, '??9?': 2, 'Jakarta': 2, 'LA': 2, 'Greensboro, North Carolina': 2, 'Rotterdam, The Netherlands': 2, 'Reddit ': 2, 'Victoria, Australia, Earth': 2, 'New Sweden': 2, 'Realville': 2, 'Fresno': 2, 'West Hollywood, CA': 2, 'Hell': 2, 'Ashburn, VA': 2, '107-18 79TH STREET': 2, 'Detroit, Michigan': 2, 'The Internet': 2, 'somewhere USA ': 2, 'Boston MA': 2, 'the burrow': 2, 'Sacramento, California': 2, 'Korea': 2, 'EIC': 2, 'Winnipeg, Manitoba': 2, 'Canada ': 2, 'Federal Capital Territory': 2, 'Street of Dallas': 2, 'Lyallpur, Pakistan': 2, 'Dallas Fort-Worth': 2, 'Mumbai, India': 2, 'Macon, GA': 2, 'Detroit': 2, 'anzio,italy': 2, 'SoCal': 2, 'Bangalore, India': 2, 'Los Angeles ': 2, 'missouri USA': 2, 'russia': 2, 'Dunwoody, GA': 2, 'Burlington, VT': 2, 'vancouver usa': 2, 'Fairfax, VA': 2, 'San Diego California 92101': 2, '#HarleyChick#PJNT#RunBenRun': 2, 'Sand springs oklahoma': 2, 'U.S.A.   FEMA Region 5': 2, 'Ohio, USA': 2, 'A little house in the outback.': 2, 'Accra,Ghana': 2, 'ON': 2, 'MNL': 2, 'tx': 2, 'Pittsburgh': 2, 'Somalia': 2, 'Above the snake line - #YoNews': 2, '???  Dreamz': 2, 'The American Wasteland (MV)': 2, 'Ohio': 2, 'Hollywood': 2, 'Decatur, GA': 2, 'Huntington, WV': 2, 'Western New York': 2, 'Mackem in Bolton': 2, 'Ottawa, Ontario': 2, 'Cimahi,West Java,Indonesia': 2, 'Bukittinggi  ?? Sumatera Barat': 2, 'Paris': 2, 'Chicago IL': 2, 'New Delhi, India': 2, 'Enfield, UK': 2, 'South Carolina, USA': 2, 'El Dorado, Arkansas': 2, 'Gurgaon, Haryana. ': 2, 'Austin': 2, 'The Jewfnited State': 2, 'Minneapolis, MN': 2, 'The Triskelion': 2, 'Portsmouth, UK': 2, 'cork': 2, 'Louavul, KY': 2, 'IG : Sincerely_TSUNAMI': 2, '??????????????': 2, 'Hawaii': 2, 'Dhaka': 2, 'Costa Rica': 2, 'Northern Colorado': 2, 'Incognito': 2, '( ?å¡ ?? ?å¡), ': 2, 'St. Louis': 2, 'Get our App': 2, 'Jakarta, Indonesia': 2, 'Yogya Berhati Nyaman': 2, 'Kashmir!': 2, 'New Delhi,India': 2, 'Vancouver, Canada': 2, 'London ': 2, 'Gresham, OR': 2, 'New Orleans': 2, 'Missoula, MT': 2, 'St. Charles MO': 2, 'Quezon City, National Capital Region': 2, 'Somewhere on the Earth': 2, 'US of Eh': 2, 'Pasadena, CA': 2, 'Arizona, USA': 2, 'Kampala, Uganda': 2, 'Narbin city  ': 2, 'UK.': 2, 'w/ @_ridabot, probably': 2, 'Cape Town, South Africa': 2, 'england': 2, 'Chicagoland and the world!': 2, 'Tulsa': 2, 'Ontario CA': 2, 'darwins, au ': 2, 'france': 2, 'Richmond, VA, USA': 2, 'Pune': 2, 'Northwest Arkansas': 2, 'Pittsburgh, PA': 2, '#Bitcoinland': 2, 'Springfield, MO': 2, 'Eugene, OR': 2, 'Est. September 2012 - Bristol': 1, 'AFRICA': 1, 'World Wide!!': 1, 'Paranaque City': 1, 'milky way': 1, 'GREENSBORO,NORTH CAROLINA': 1, 'England.': 1, 'Sheffield Township, Ohio': 1, 'Anaheim': 1, 'Sao Paulo, Brazil': 1, 'hollywoodland ': 1, 'Edmonton, Alberta - Treaty 6': 1, 'INot identifiedg Pamantasan': 1, 'Twitter Lockout in progress': 1, 'Concord, CA': 1, 'CLVLND': 1, 'Santa Clara, CA': 1, 'Walker County, Alabama': 1, 'Norf Carolina': 1, 'San Mateo County, CA': 1, 'Njoro, Kenya': 1, \"Your Sister's Bedroom\": 1, 'South Bloomfield, OH': 1, 'global': 1, 'Alberta | Sask. | Montana': 1, 'Hagerstown, MD': 1, 'Gloucestershire , UK': 1, 'dope show': 1, 'Oshawa, Canada': 1, 'Baker City Oregon': 1, 'marysville ca ': 1, 'Hermosa Beach, CA': 1, 'Salt Lake City, Utah': 1, 'Spain but Opa-Locka, FL': 1, 'Jaipur, India': 1, 'y(our) boyfriends legs ': 1, 'New Mexico, USA': 1, 'Mumbai india': 1, 'sri lanka': 1, 'Not a U.S resident': 1, 'Lehigh Valley, PA': 1, 'Thrissur': 1, 'Havenford': 1, '92': 1, 'Fashion Heaven. IG: TMId_': 1, 'italy': 1, 'Jackson': 1, 'New York / Worldwide': 1, 'West Wales': 1, 'Swindon,England ': 1, 'Williamstown, VT': 1, 'Loveland Colorado': 1, '|| c h i c a g o ||': 1, 'L. A.': 1, 'Lexington': 1, 'Hannover, Germany': 1, 'Playa': 1, 'Davidson, NC': 1, 'Higher Places': 1, 'Horsemind, MI': 1, 'Boksburg': 1, 'V-RP @OZRP_ ?MV, AU, R18+?': 1, 'Greater Manchester, UK': 1, 'The Canopy Kingdom': 1, 'the own zone layer ': 1, 'Trancy Manor': 1, 'South 37': 1, 'West Lancashire, UK.': 1, '\\x89Û¢ Views From The Six \\x89Û¢': 1, 'University of Toronto': 1, 'Albany/NY': 1, 'Wild Wild Web': 1, 'Spain': 1, 'Coolidge, AZ': 1, 'Ljubljana, Slovenia': 1, 'Tacoma,Washington': 1, 'BIG D  HOUSTON/BOSTON/DENVER': 1, 'sindria': 1, 'Elk Grove, CA, USA': 1, 'The Shire': 1, 'Albuquerque': 1, 'San Antonio-ish, TX': 1, 'Harlingen, TX': 1, 'Buffalo NY': 1, 'Alphen aan den Rijn, Holland': 1, 'Wrigley Field': 1, 'probably the strip club': 1, 'Here And There': 1, 'Rotterdam, Zuid-Holland': 1, 'Derry, 17 ': 1, 'Toronto, ON': 1, 'The Orwellion police-state': 1, 'Castaic, CA': 1, 'East Kilbride': 1, 'middle eastern palace': 1, 'Perthshire ': 1, 'twitch.tv/naturalemblem26': 1, 'cyprus': 1, 'Harlem, New York': 1, 'Burbank,CA': 1, 'Spokane, Washington': 1, 'Our Empire State': 1, 'Kingston, Pennsylvania': 1, 'Zero Branco': 1, 'bajaur': 1, '\\x89ÛÊ\\x89ÛÊ\\x89ÛÊ': 1, 'Miami,FL': 1, 'North-East Region, Singapore': 1, 'Jerusalem, Israel': 1, 'Menasha, WI': 1, 'Bleak House': 1, 'heccfidmss@gmail.com': 1, 'toronto': 1, '[ Blonde Bi Fry. ]': 1, 'Winston Salem, North Carolina': 1, 'WASHINGTON,DC': 1, ' snapchat // fvck_casper ': 1, 'Selena | Britney | Hilary': 1, 'Freeport IL. USA': 1, 'Tucson, Az': 1, 'Seattle WA': 1, 'Bellevue NE': 1, 'West Bank, Gaza Strip': 1, '\\x89Û¢FLG\\x89Û¢': 1, 'Online 24/7. Not even kidding.': 1, 'rowyso dallas ': 1, 'Halton, Ontario': 1, 'portland, oregon': 1, 'FIMAK A.S Ist Bolge Muduru': 1, 'London.': 1, '#UNITE THE BLUE  ': 1, 'Dayton, Ohio': 1, 'Port Jervis, NY': 1, 'City Of Joy': 1, '1/3 of the blam squad ': 1, 'CCH ': 1, 'atx': 1, 'MAURITIUS': 1, 'AKRON OHIO USA': 1, 'london / st catharines ?': 1, 'Peshawar': 1, 'LEALMAN, FLORIDA': 1, '#GDJB #ASOT': 1, 'Groningen, Netherlands, Europe': 1, 'Livingston, IL  U.S.A.': 1, 'Arundel ': 1, 'Anna Maria, FL': 1, 'israel': 1, 'The Hammock, FL, USA': 1, '??????????????????': 1, 'SÌ£o Paulo SP,  Brasil': 1, \"in Dimitri's arms\": 1, 'Oslo, Norway': 1, 'Loughton, Essex, UK': 1, 'guaravitas': 1, 'NEW YORK': 1, 'London, Kent & SE England.': 1, 'South Central Wales': 1, 'Jersey City, New Jersey': 1, '505 W. Maple, Suite 100': 1, 'Freeport il ': 1, 'Danville, VA': 1, 'UK Great Britain ': 1, 'Jerusalem!': 1, 'Use #TMW in tweets get #RT': 1, 'West Richland, WA': 1, 'CHICAGO (312)': 1, 'British girl in Texas': 1, 'Wilmington, DE': 1, 'Oxford, MS': 1, 'Pelham, AL': 1, 'Arkansas, Jonesboro': 1, 'Across the Atlantic': 1, 'Melbourne, Florida': 1, 'Over the Moon...': 1, 'Extraterrestrial Highway': 1, 'Espoo, Finland': 1, 'OES 4th Point. sisSTAR & TI': 1, 'Netherlands,Amsterdam-Virtual ': 1, 'Hudson Valley, NY': 1, 'timeline kamu': 1, 'Searching for Bae ': 1, 'Eagle Mountain, Texas ': 1, 'Temecula, CA': 1, 'Atlanta,Ga': 1, 'Raleigh Durham, NC': 1, 'ducked off . . . ': 1, 'Tripsburg, ms.': 1, 'Durham N.C ': 1, 'Delhi': 1, 'ARIZONA': 1, 'Penn Hills, PA': 1, 'Karachi ': 1, 'seattle wa': 1, 'SOUTHERN CALIFORNIA DESERT': 1, 'My contac 27B80F7E 08170156520': 1, 'Pig Symbol, Alabama': 1, 'THE WORLD T.G.G / M.M.M ': 1, 'Between the worlds ': 1, 'State of Georgia': 1, 'Lima-Peru': 1, 'Saltillo, Coahuila de Zaragoza': 1, 'Suitland': 1, 'Konoha': 1, 'Swag Francisco': 1, 'Saint Marys, GA': 1, 'Essex/Brighton': 1, 'Pennsylvania, PA': 1, 'Rockford, IL': 1, 'AZ': 1, 'Vero Beach , FL': 1, 'IN': 1, 'In the middle of no where': 1, 'dmv ?? fashion school @ KSU. ': 1, 'Nice places ': 1, 'Quantico, VA': 1, 'Island Lake, IL': 1, 'Live Oak, TX': 1, 'Gages Lake, IL': 1, 'Madisonville TN': 1, 'Basketball City, USA ': 1, 'AEP': 1, 'Alberta Pack': 1, '#expelcl*y': 1, 'My heart is a ghost town!': 1, 'The Great State of Texas': 1, 'Alicante, Valencia': 1, 'Greensboro, NC': 1, ' Indiana': 1, 'the local dump': 1, '#SOUTHAMPTON ENGLAND': 1, '?205?478?': 1, 'Waterford MI': 1, 'Iowa, USA': 1, 'california mermaid ? ': 1, 'New York ? ATL': 1, 'USA/SO FLORIDA via BROOKLYN NY': 1, 'H / pez & sophia ': 1, 'Queens, NY': 1, 'Vancouver, BC.': 1, 'wherever the $$$ at': 1, 'Purgatory, USA': 1, 'Daruka (near Tamworth) NSW': 1, 'IJmuiden, The Netherlands': 1, 'University Heights, Ohio': 1, 'Central Illinois': 1, 'Baton Rouge': 1, 'PSN: Pipbois ': 1, 'Colombo,Sri Lanka.': 1, 'Johannesburg, South Africa ': 1, \"Me mammy's belly\": 1, 'UK & Ibiza': 1, 'Laventillemoorings ': 1, 'Detroit, MI, United States': 1, 'Guelph Ontario Canada': 1, 'Waterfront': 1, 'columbus ohio': 1, 'Waukesha, WI': 1, 'Himalayan Mountains': 1, 'Colorado/WorldWide': 1, 'Houston,  TX': 1, 'lakewood colorado': 1, 'THE 6IX': 1, 'The ?? below ???': 1, \"Conversing In Janet's CafÌ¬\": 1, \"???????, ??'??????\": 1, 'Cairo, Egypt': 1, 'Bug Forest': 1, 'canberra': 1, 'International': 1, 'Htx': 1, 'PunPunlÌ¢ndia': 1, 'Itirapina, SÌ£o Paulo': 1, 'North Jersey': 1, 'Biloxi, Mississippi': 1, 'Brecksville, OH': 1, 'Walthamstow, London': 1, 'Ivano-Frankivsk': 1, 'Sunshine Coast, Queensland': 1, 'England,UK,Europe,Sol 3.': 1, 'Nashua NH': 1, '65': 1, 'Westchester': 1, 'Lynnfield, MA': 1, 'Level 3 Garrison, Sector G': 1, 'Shity land of Northern Ireland': 1, 'Christchurch New Zealand': 1, 'peekskill. new york, 10566 ': 1, 'PH': 1, 'Storybrooke ': 1, 'under the blanket': 1, 'Isolated City In World Perth': 1, 'Brazil ': 1, 'AUS': 1, 'Inverness, Nova Scotia': 1, 'L/S/Z/L/T/H/C/H/R/A/S/C': 1, '801 SL,UT': 1, 'fluffy cloud': 1, 'The 5th Dimension. ': 1, 'July 11th, 2015. ?': 1, 'The Grey Area': 1, 'Cobblestone': 1, 'ÌÏT: 30.307558,-81.403118': 1, 'Cosmic Oneness': 1, 'Guildford, UK': 1, 'Nowhere Islands/Smash Manor': 1, 'kisumu': 1, 'Making Worldwide Change Near U': 1, 'ATX': 1, 'LA/OC/Vegas': 1, 'London/Outlaw Country ': 1, 'Grimsby, England': 1, 'Gotham': 1, 'Manchester, The World, England': 1, 'sitting on Eddie Vedders lap,': 1, 'Greenville,SC': 1, 'have car; will travel': 1, 'ATL ? SEA ': 1, 'ÌÏT: 39.982988,-75.261624': 1, '#EngleWood CHICAGO ': 1, '302???? 815': 1, 'New Your': 1, 'PURPLE BOOTH STUDIO\\x89ã¢': 1, 'Cloud 9': 1, 'Former Yugoslav Republic of Macedonia': 1, '3?3?7?SLOPelousas??2?2?5?': 1, '316': 1, \"#WhereverI'mAt\": 1, 'Huber Heights, OH': 1, 'Miami ??': 1, 'Every where': 1, \"401 livin'\": 1, 'MI': 1, 'EPTX': 1, 'WESTSIDE OF PHILLY 7? BLOCK??': 1, 'LONG ISLAND, NY': 1, 'washington, d.c.': 1, 'WAISTDEEP, TX': 1, 'D.C. - Baltimore - Annapolis': 1, '#937??#734': 1, 'Fife, WA': 1, 'Bushkill pa': 1, 'In the Shadows...': 1, 'southwest, Tx': 1, 'ANYWEHERE !!': 1, 'Menlo Park. SFO. The World.': 1, 'Speaking the Truth in Love': 1, 'Aarhus, Central Jutland': 1, 'wny': 1, 'Bolton & Tewkesbury, UK': 1, \"travelling to tae's pants\": 1, 'keli x': 1, 'ChicagoRObotz': 1, \"whs '17\": 1, 'NV': 1, 'lagos nigeria': 1, '[Gia.] | #KardashianEmpire': 1, 'Sunrise Manor, NV': 1, 'Oxford, OH': 1, 'Dundas, Ontario': 1, 'IDN': 1, 'Netherlands': 1, 'DaKounty, Pa': 1, 'DÌ_sseldorf, Germany': 1, 'Old Blighty': 1, 'The land of New Jersey. ': 1, 'Atlanta Georgia': 1, 'MY RTs ARE NOT ENDORSEMENTS': 1, 'Kabul, Tuebingen, Innsbruck': 1, 'Light and dark, form and void': 1, 'Nairobi, Kenya ': 1, 'Erbil': 1, 'Stockton on tees Teesside UK': 1, 'Screwston, TX': 1, 'My old New England home': 1, 'melbourne': 1, 'Ikeja, Nigeria': 1, 'Warwick, RI @Dollarocracy also': 1, 'texas a&m university': 1, 'Shipwreck Cove': 1, 'Overland Park, KS': 1, 'Toronto-Citizen of Canada & US': 1, 'North East USA': 1, 'VitÌ_ria (ES)': 1, 'Buscame EL tu Melte': 1, 'Wiltshire': 1, 'PROUD INDIANS': 1, 'Pittsburgh PA': 1, 'MUM-DEL': 1, 'Playa del Carmen, Mexico': 1, 'NY, CT & Greece': 1, 'Quincy MA': 1, 'KurveZ@GearHeadCentral.net': 1, 'Ziam af ': 1, 'GO BLUE! HAIL YES!!': 1, 'Outside The Matrix, I Think.': 1, 'somewhere over a rainbow': 1, 'Bombardment Bay': 1, 'Savannah, GA': 1, 'Intermountain West': 1, 'Auburn, AL': 1, 'taken by piper curda': 1, 'Scotland ': 1, 'Nigeria, Global': 1, 'Fort Walton Beach, Fl': 1, 'Groton, CT': 1, 'Brisbane Australia': 1, 'NY Capital District': 1, 'Peoria': 1, 'Reading UK': 1, 'Concord, NH ': 1, 'CORNFIELDS': 1, 'Worcester, MA': 1, 'nj': 1, 'MA via PA': 1, 'toronto \\x89Û¢ dallas': 1, 'San Diego CA': 1, 'germany': 1, ' Nxgerxa': 1, 'Port Charlotte, FL': 1, 'Belleville, Illinois': 1, 'Long Island NY & San Francisco': 1, '956': 1, 'Escondido, CA': 1, 'Chicago Area': 1, 'Upper St Clair, PA': 1, '627': 1, 'Blogland': 1, 'Isle of Man': 1, 'Hampton Roads, VA': 1, 'Gameday': 1, 'Earthling (For now!)': 1, 'Black Canyon New River, AZ': 1, 'Caracas, Venezuela.': 1, 'Charlottetown': 1, '??t?a': 1, 'LiÌ¬ge': 1, 'Spokane, Washington 99206': 1, 'taco bell': 1, 'Australian Capital Territory': 1, '[ kate + they/them + infp-t ]': 1, 'please H? ?:??': 1, 'we?it \\x89Û¢ ixwin': 1, 'Santiago Bernabeau': 1, 'Whiterun, Skyrim': 1, 'Greenpoint, Brooklyn': 1, 'a botanical garden probably': 1, 'Nelspruit, South Africa': 1, 'midwest': 1, 'Copenhagen, Capital Region of Denmark': 1, 'Spying on your thoughts': 1, 'seattle grace mercy death': 1, 'Tucson, Arizona ': 1, 'Charlotte County Florida': 1, 'Head Office: United Kingdom': 1, 'iPhone: -27.499212,153.011072': 1, 'Queen Creek AZ': 1, 'London/Bristol/Guildford': 1, 'Canberra, Australian Capital Territory': 1, 'beacon hills ': 1, 'somewhere outside': 1, 'Wolmers Trust School for Boys ': 1, 'Loughborough.': 1, 'Selangor': 1, 'Canadian bread': 1, \"Le Moyne '16\": 1, 'Hoxton, London': 1, 'Las Vegas, NV USA': 1, 'Heinz Field ': 1, 'Skyport de la Rosa': 1, 'The Low-Cal Calzone Zone': 1, '50% Queanbeyan - 50% Sydney': 1, 'Insula Barataria': 1, 'everywhere ': 1, 'Afghanistan, USA': 1, 'Inglewood, CA': 1, 'Absecon, NJ': 1, 'Williamsbridge, Bronx, New Yor': 1, 'Northern Kentucky, USA': 1, 'Mostly Yuin.': 1, 'Rochelle, GA': 1, 'south of heaven ': 1, 'El Dorado, KS': 1, '1648 Queen St. West, Toronto.': 1, 'Toledo, OH': 1, 'Fairfield, California': 1, 'Trinity, Bailiwick of Jersey': 1, 'LIVERPOOL': 1, 'Boulder, CO': 1, 'Hospital, bc of SKH vid.': 1, 'Hartford  London Hong Kong': 1, \"In @4SkinChan 's arms\": 1, 'Wellington, New Zealand': 1, '?? ??': 1, 'New Brunswick, NJ': 1, 'City of Angels, CA': 1, 'Morganville, Texas.': 1, 'America | New Zealand ': 1, \"Lytham St Anne's \": 1, 'Ylisse': 1, 'All around the world baby': 1, '@UntmdOutdoors #T.O.R.K ': 1, 'Lima, PerÌ¼': 1, 'Piedmont Area, North Carolina': 1, 'Buxton, Venice, and Nottingham': 1, 'Quito, Ecuador.': 1, ' Bouvet Island': 1, 'Shirley, NY': 1, 'Paonia, Colorado ': 1, 'Lurking': 1, 'N?? Y???.': 1, 'Littleton, CO, USA': 1, 'Virginia, United States': 1, 'Center for Domestic Preparedness': 1, 'Ukraine and Ireland': 1, 'Beaumont, TX': 1, 'Annapolis, MD': 1, 'Harris County, Texas': 1, 'North Ferriby, East Yorkshire': 1, 'Ames, Iowa': 1, 'Moscow, Russia': 1, 'Mankato, MN': 1, 'Orbost, Victoria, Australia': 1, ' Somewhere.': 1, ' Neverland ': 1, 'At Da Laundry Mat Wit Nivea ': 1, 'norway': 1, '$ad $hawty': 1, 'NY || live easy? ': 1, 'BestCoast': 1, 'BC': 1, 'Colchester Essex ': 1, 'livin life in the 610': 1, 'Inside your mind.': 1, '36 & 38': 1, 'New York, NY ': 1, 'Slappin and Smackin ': 1, \"DRAW A CIRCLE THAT'S THE EARTH\": 1, 'Madrid, Comunidad de Madrid': 1, 'Highland Park, CA': 1, 'Swan River': 1, 'Kolkata, India': 1, 'Melrose': 1, 'Jubail IC, Saudi Arabia': 1, 'Sugarhouse, UT': 1, 'lugo': 1, 'Blackpool, England, UK.': 1, 'Fakefams': 1, 'In the clouds...': 1, 'Sandton, South Africa': 1, '#Bummerville otw': 1, 'Brighton and Hove': 1, 'Pompano Beach, FL': 1, 'JKT48-Muse-A7X': 1, 'Behind The Obama Curtain': 1, 'Worldwide.': 1, 'LiVE MÌ\\x81S': 1, 'Henderson, NV': 1, 'CAMARILLO, CA': 1, 'manchester, uk.': 1, 'Eugene, Oregon': 1, 'they/her': 1, 'Paris ': 1, '(he/him)': 1, \"I'm standing behind you\": 1, 'Alexandria, Egypt.': 1, 'instagram- Chloe_Bellx': 1, 'on the web': 1, '#ForeverWithBAP 8 ': 1, 'GOT7SupportPH': 1, 'wherever-the-fuck washington': 1, 'From NY. In Scranton, PA': 1, 'Live mÌÁs': 1, 'Melton, GA': 1, \"Greg's place\": 1, 'Viejo': 1, 'Kansas, The Free State! ~ KC': 1, 'Silang, Cavite / ParaÌ±aque': 1, 'Fort Smith, AR': 1, 'planeta H2o': 1, 'www.youtube.com?Malkavius2': 1, 'The Forever Girl': 1, 'EspÌ_rito Santo': 1, 'Ormond By The Sea, FL': 1, 'Maryland,Baltimore': 1, 'Yadkinville, NC': 1, 'Dallas, Texas. ': 1, 'Roanoke VA': 1, 'Unnamed City': 1, 'Peterborough, On': 1, '-6.152261,106.775995': 1, \"@protectingtitan's side.\": 1, 'Eau Claire, Wisconsin': 1, 'St. Joseph, Minnesota': 1, 'From a torn up town MANCHESTER': 1, 'Waco TX': 1, 'Cape Cod, Massachusetts USA': 1, 'bk. ': 1, 'Lansing, Michigan': 1, 'Peterborough, Ont.': 1, 'On the court ': 1, 'Traverse City, MI': 1, 'See the barn of bleakness': 1, 'Hertfordshire ': 1, 'ÌÏT: 41.252426,-96.072013': 1, 'Greeley, CO': 1, \"'soooota\": 1, 'NY, NY': 1, 'Arvada, CO': 1, 'Vancouver, Colombie-Britannique': 1, 'Irving , Texas': 1, 'SEATTLE, WA USA': 1, 'East Atlanta, Georgia': 1, 'Saint Lucia': 1, 'Peterborough, Ontario, Canada': 1, 'North Highlands, CA': 1, '60th St (SS)': 1, 'USA, WA': 1, 'btwn a rock and a hard place': 1, 'Aix-en-Provence, France': 1, 'I-75 in Florida': 1, 'Darlington': 1, '  Melbourne, Australia': 1, 'Kenton, Ohio': 1, 'Galatians 2:20 ': 1, 'Lancaster, Pennsylvania, USA': 1, 'In my own world!!!': 1, 'Definitely NOT the stables': 1, 'Cuernavaca, Morelos, MÌ©xico.': 1, 'Va Beach, Virginia': 1, '52.479722, 62.184971': 1, 'The Pig Sty': 1, 'Bangor, Co.Down': 1, 'Weston super mare': 1, 'Victoria, Tx.': 1, 'Pakistan, Islamabad': 1, 'Gujranwala, Pakistan': 1, 'Lindenhurst': 1, 'Somewhere': 1, 'too far': 1, 'Kingswinford': 1, 'i love the smurfs 2': 1, 'International ': 1, \"Viterbo BFA Acting '18\": 1, 'Kaneohe': 1, 'Houma La': 1, \"EastAtlanta ??#WestGeorgia'18\": 1, 'San Diego, Texas.': 1, '05/04/2014 18:23 ?': 1, 'Bolivar, MO': 1, 'taking pain like pleasure': 1, 'San Fransokyo': 1, 'Washington, DC NATIVE': 1, 'w. Nykae ': 1, 'honeymoon avenue': 1, 'Toronto, Worldwide ': 1, '11/4/14': 1, \"wherever there's netflix\": 1, '#HAMont': 1, 'Conroe, TX': 1, 'Ontario, Canada. ': 1, 'Guayaquil': 1, 'bahstun/porta reeko': 1, 'Bucks County, Pa': 1, 'Sunny South florida ': 1, 'Rio': 1, 'Neverland': 1, 'Chicago - Lake Buena Vista': 1, 'Liberty Lake, WA': 1, 'Ankara - Malatya - ad Orontem': 1, 'antioch, california': 1, 'somewhere in cali ': 1, 'Im Around ... Jersey': 1, 'Garden Grove': 1, 'BKI-KUA': 1, 'urÌ£nus': 1, 'A.A.S my Aztec Princess': 1, 'turner fenton': 1, 'KLA,Uganda': 1, 'Uganda': 1, '253': 1, 'Elkhart, IN': 1, 'Pon Di Gully': 1, 'Benedict College': 1, 'IM LOST ': 1, 'Hamilton, ON': 1, 'Des Moines, Iowa ': 1, 'Rural Northern Nevada': 1, 'Republic of the Philippines': 1, 'Philippines ': 1, 'Vancouver (HQ) and worldwide': 1, 'Quezon City, Philippines': 1, 'Hartford,  connecticut': 1, 'Sioux Falls, SD': 1, 'Cornwall': 1, 'Beside Basketball': 1, 'Rome, Italy': 1, 'Tafekop Ga-Matsepe': 1, 'Vilnius': 1, 'Made in America': 1, 'PS4, now stop asking': 1, 'Cheshire. London. #allover': 1, 'Bartholomew County, Indiana': 1, 'U.S': 1, 'My mind is my world': 1, 'Catskills': 1, 'Right here': 1, 'Lawrence, KS via Emporia, KS': 1, 'http://twitch.tv/jcmonkey': 1, 'Marysville, MI': 1, 'New Haven, Connecticut': 1, 'Austin | San Diego': 1, '??? ?? ??????? ': 1, 'Pontevedra, Galicia': 1, 'London/New York': 1, '261 5th Avenue New York, NY ': 1, 'Rockville, Maryland': 1, 'Your Conversation': 1, 'USAoV': 1, 'Bhopal, Madhya Pradesh, India.': 1, '#LemonGang ': 1, 'ayr': 1, 'Loughborough, England': 1, 'Killarney': 1, 'Lahar & Gwalior': 1, 'Lincoln, IL': 1, 'Spinning through time.': 1, 'Hailing from Dayton ': 1, 'Instagram: trillrebel_': 1, 'ALWAYS DYING NEVER RESTING': 1, '2005 |-/': 1, 'Uruguay / Westeros / Gallifrey': 1, 'Jersey - C.I': 1, 'Afghanistan': 1, 'Atmosphere': 1, 'somewhere in Portugal': 1, 'dundalk ireland': 1, 'Sochi, KDA, RU': 1, 'ÌÏT: -26.695807,27.837865': 1, \"You're not 19 forever   \": 1, 'Kettering, OH': 1, 'ATL??AL??': 1, 'UPTOWN ': 1, 'PROV': 1, 'Novi, MI': 1, 'on the go': 1, 'The UK': 1, 'mpls. ': 1, 'Kensington, MD': 1, 'Buffalo/DC': 1, 'Sylacauga, Alabama': 1, 'Cyprus': 1, 'kansas': 1, 'Los Angeles,CA, USA': 1, 'Carry On Jutta!!!': 1, 'Home of the Takers.': 1, '?s????ss? a?????': 1, 'Alicante, Spain': 1, 'Mooresville, NC': 1, 'Mooseknuckle, Maine': 1, 'Palermo, Sicily': 1, 'AsunciÌ_n-PY / TÌ_bingen-GER': 1, 'Voorhees, NJ': 1, 'Wakanda': 1, 'Weyburn': 1, \"UGA '15 Alumnus - Economics \": 1, 'the void, U.S.A': 1, 'london town..': 1, 'Tennessee/Gallifrey': 1, 'Amman, Jordan': 1, 'Columbia Heights, MN': 1, 'Top Secret': 1, 'Top secret bunker ': 1, 'Belbroughton, England': 1, '772 Temperance Permenence': 1, '46.950109,7.439469': 1, 'In the Shadows': 1, 'Campo Grande-MS': 1, 'nbc washington': 1, 'Hamilton, Ontario Canada': 1, 'IRAQ': 1, 'World news': 1, 'labuan, malaysia': 1, 'right next to you': 1, 'CT ? NYC': 1, 'www.tmgcgart.com': 1, 'Melbourne-ish': 1, 'Brackley Beach, PE, Canada': 1, '518': 1, 'eARth 3': 1, 'Enniscrone & Aughris, Sligo ': 1, 'Mostly Wellington, NZ ': 1, 'Atlanta, Ga': 1, 'Fort Fizz, Ohio': 1, 'Fort Lauderdale, FL': 1, 'Raleigh (Garner/Cleveland) NC': 1, 'Newcastle upon Tyne': 1, 'walking the tightrope': 1, 'Frascati': 1, 'College Station, TX': 1, 'Bishops Lydeard, England': 1, 'Up a hill': 1, 'Clearwater, FL': 1, '#????? Libya#': 1, 'balvanera': 1, 'Aro Diaspora': 1, 'Nigeria, WORLDWIDE': 1, 'ÌÏT: 0.0,0.0': 1, 'Eastbourne England': 1, 'State of Dreaming': 1, 'Wema building': 1, 'Fruit Bowl': 1, 'Hooters on Peachtree': 1, 'Otsego, MI': 1, 'ATL, GA': 1, 'Uyo, Akwa Ibom State, Nigeria': 1, 'us-east-1a': 1, 'RhodeIsland': 1, 'Napa, CA': 1, 'KOLKATA': 1, 'golborne, north west england.': 1, 'NYHC': 1, 'sweden': 1, 'ARBAILO': 1, 'Bagalkote Karnataka ': 1, 'Shrewsbury': 1, 'Terre Haute, IN': 1, 'NH via Boston, MA': 1, 'QUEENS.': 1, 'ATL ??': 1, 'Beautiful British Columbia': 1, 'Birmingham UK': 1, 'Medford, Oregon': 1, 'Catalonia, Spain': 1, 'Kilkenny': 1, 'Halifax, Nouvelle-Ìäcosse': 1, 'Murray Hill, New Jersey': 1, 'aggressive cannoli eater ': 1, '11202': 1, 'Atlantic, IA': 1, 'ÌÏT: 36.142163,-95.979189': 1, 'Arthas US': 1, 'Funtua, Nigeria': 1, 'US-PR': 1, 'ÌøåÀå_T: 40.736324,-73.990062': 1, 'Washington, DC 20009': 1, 'Washington, Krasnodar (Russia)': 1, 'at my home': 1, 'District of Gentrification/ DC': 1, 'Washington, D.C. ': 1, '#MadeInNorthumberland': 1, 'Jamshedpur, Jharkhand': 1, 'eritrean': 1, 'Dayton, OH': 1, 'Dorset, United Kingdom': 1, 'A small federal enclave': 1, 'Pune, mostly ': 1, 'Kwara, Nigeria': 1, 'The Desert of the Real': 1, 'lee london': 1, 'DC, frequently NYC/San Diego': 1, 'Enterprise, Alabama': 1, 'åø\\\\_(?)_/åø': 1, 'Washington DC / Nantes, France': 1, 'Kalamazoo, Michigan': 1, 'SEC Country': 1, \"L'Enfant Plaza Metro Station\": 1, 'Durban, South Africa': 1, 'Texas-USA\\x89ã¢ ?': 1, 'Arlington, VA and DC': 1, 'Headed To The Top': 1, 'Mumbai (India)': 1, 'Coimbatore': 1, 'Chicago, IL 60607': 1, 'Minneapolis,MN,US': 1, 'Chicago, IL ': 1, 'NYC area': 1, 'Chicago,Illinois': 1, 'ÌÏT: 33.209923,-87.545328': 1, 'Lahti, Finland': 1, 'Here there and everywhere': 1, 'Boulder': 1, 'Temporary Towers': 1, 'Pueblo, CO': 1, 'Birmingham, UK': 1, 'Houston, Texas ! ': 1, 'North East, England': 1, '[marvel\\x89Û¢dragon age\\x89Û¢wicdiv]': 1, 'NBO': 1, 'St. Louis Mo.': 1, 'Birdland, New Meridian, FD': 1, 'Monterrey, MÌ©xico': 1, 'infj ': 1, 'on twitter': 1, '2B Hindhede Rd, Singapore': 1, 'Kalimantan Timur, Indonesia': 1, 'Prehistoric Earth': 1, 'san gabriel la union': 1, 'Middle Earth / Asgard / Berk': 1, 'Quilmes , Arg': 1, 'Richmond, VA': 1, 'Romania': 1, '???????? ?????????.': 1, 'Johannesburg ': 1, 'Alvin, TX': 1, 'Wilbraham, MA': 1, 'Jerseyville, IL': 1, 'The Citadel, Oldtown, Westeros': 1, 'Trackside California': 1, 'he/him or she/her (ask)': 1, 'Some pum pum': 1, 'Paulton, England': 1, 'SEA Server': 1, 'todaysbigstock.com': 1, 'buenos aires argentina': 1, 'everydaynigerian@gmail.com': 1, 'Surulere Lagos,Home Of Swagg': 1, 'MontrÌ©al, QuÌ©bec': 1, 'ÌÏT: 6.4682,3.18287': 1, 'Live4Heed??': 1, 'North Port, FL': 1, 'BodÌü, Norge': 1, 'In my studio': 1, 'Queens New York': 1, 'Cuttack, Orissa': 1, 'All Around the World': 1, 'Valle Del Sol': 1, 'New York NYC': 1, 'Hickville, USA': 1, 'Silesia, Poland': 1, 'Balikesir - Eskisehir': 1, '??????? ??????? ????????': 1, 'Soul Somalia/Body Montreal': 1, 'Yooooooo': 1, 'Jersey': 1, 'ÌÏT: 19.123127,72.825133': 1, 'denver colorado': 1, 'Milton/Tallahassee': 1, 'Paname City': 1, 'KÌ¦ln, Nordrhein-Westfalen': 1, 'Broomfield, CO': 1, 'Brasil,SP': 1, 'Ottawa,Ontario Canada': 1, 'Memphis,TN/ World Wide': 1, 'In My Lab Creating ': 1, 'Bronx NYC / M-City NY': 1, 'Bikini bottom': 1, 'back in japan ??????????': 1, \"Sharkatraz/Bindle's Cleft, PA\": 1, 'Northern Ireland': 1, 'Bangalore. India': 1, 'Bangkok Thailand': 1, 'Brisbane.': 1, 'PG Chillin!': 1, 'FOLLOWS YOU everywhere you go': 1, '-?s?s?j??s-': 1, 'Brum/Lestah ': 1, 'Chester ': 1, 'Banbridge': 1, 'Port Orange, FL': 1, 'probably petting an animal': 1, 'Varies ': 1, 'ACCRA GHANA': 1, 'St Joseph de Beauce': 1, 'Wasington, DC': 1, '  News': 1, 'Newport, Wales, UK': 1, 'iTunes - RSS': 1, 'contactSimpleNews@gmail.com': 1, 'Upper manhattan, New York': 1, 'Devon/London ': 1, 'ITALY': 1, 'Atlanta g.a.': 1, 'EVERYWHERE': 1, 'Mount Vernon, NY': 1, 'Jackson TN': 1, 'Los Angeles, London, Kent': 1, 'Portoviejo-Manabi-Ecuador': 1, 'chillin at ceder rapids': 1, 'en el pais de los arrechos': 1, 'Hinton, W.Va.': 1, 'In Your Notifications ': 1, 'Fort Worth, Texas': 1, 'Dappar (Mohali) Punjab': 1, 'nearest trash can ': 1, 'Morocco': 1, 'Asia Pacific   ': 1, 'Ojodu,Lagos': 1, 'Kelowna, BC': 1, '48.870833,2.399227': 1, 'UK  & Germany': 1, 'Manila': 1, 'Magnolia': 1, '(Spain)': 1, 'Palestine ': 1, 'Chappaqua NY and Redlands CA': 1, 'NYC-LA-MIAMI': 1, 'Okanagan Valley, BC': 1, 'Caribbean': 1, 'San Francisco , CA': 1, 'Las Cruces, NM': 1, 'Meereen ': 1, 'Football Field': 1, 'i luv raquel': 1, 'austin, texas': 1, 'Macon, Georgia': 1, 'Ashxjonespr@gmail.com': 1, 'miami': 1, 'Abuja,Nigeria': 1, 'At Work': 1, 'Waialua, Hawaii': 1, 'Coconut Creek, Florida': 1, '@notoriousD12': 1, 'Morris, IL': 1, 'Lynwood, CA': 1, 'Where the money at': 1, 'mi': 1, 'Gainesville/Tampa, FL': 1, 'Saint Louis, Missouri': 1, \"it's a journey \": 1, 'Jonesboro, Arkansas USA': 1, 'Layang-Layang, Perak': 1, 'somewhere in Indiana ': 1, 'Inside your webcam. Stop that.': 1, \"R'lyeh, South Pacific\": 1, 'taking bath do not disturb': 1, 'Alberta, VA': 1, 'The Howling': 1, 'United Kingdom,Fraserburgh': 1, 'WorldWideWeb': 1, 'Dreieich, Germany': 1, 'Pembroke NH': 1, 'Bayonne, NJ': 1, 'Colorado Springs': 1, 'IG: AyshBanaysh': 1, 'fl': 1, 'Halfrica': 1, 'Jacksonville Beach, FL': 1, 'Richmond Heights, OH': 1, 'Tampa': 1, 'All around the world!': 1, 'In The Mansion': 1, 'Numa casa de old yellow bricks': 1, '94123': 1, 'Hendersonville, NC': 1, 'New Jersey/ D.R.': 1, 'CT & NY': 1, 'South Korea GMT+9': 1, 'Hughes, AR': 1, 'University of Chicago': 1, 'yorkshire\\n': 1, 'Coasts of Maine & California': 1, 'Pittsburgh ': 1, 'San Diego, California': 1, 'Idaho': 1, 'Beirut, Lebanon': 1, 'El Paso, Texas': 1, 'qosqo': 1, 'Lubbock, TX': 1, \"Lizzy's Knee\": 1, 'D(M)V  ': 1, 'Marrakech MÌ©dina, Marrakech - Tensift - Al Haouz': 1, 'Ellensburg to Spokane': 1, 'SD |Norway| KSA': 1, 'A sofa': 1, '\\x89Û¢5\\x89Û¢12\\x89Û¢14\\x89Û¢ | åÈ#SaviourSquadåÇ': 1, 'Pocatello, ID': 1, 'Room 234': 1, 'Near Yosemite': 1, 'The Harbinger.': 1, 'chicago': 1, 'Dutch/English/German': 1, 'oklahoma': 1, 'One World': 1, 'TÌÁchira - Venezuela': 1, 'a box': 1, 'Barcelona, Spain': 1, 'Okuma Town, Fukushima': 1, 'rzl ?': 1, 'Orm': 1, '#keepthefaith J&J': 1, 'Global Edition': 1, 'Saline, MI': 1, 'BOT ACCOUNT': 1, '#otrakansascity': 1, 'Dalkeith, Scotland': 1, 'Durand, MI': 1, 'Forging my Story': 1, 'Mass': 1, '14/cis/istj ': 1, 'Michigan ': 1, \"where I'm supposed to be\": 1, 'Kutztown, PA': 1, 'Cairo, Egypt.': 1, 'not so cool KY': 1, 'Hampshire UK': 1, 'Oblivion?': 1, 'South West, England': 1, 'Redondo Beach, CA': 1, 'Newcastle, England': 1, 'Planet Eyal, Shandral System': 1, 'Columbus ?? North Carolina': 1, 'denmark': 1, 'Davao City': 1, 'Based out of Portland, Oregon': 1, 'Kuwait': 1, 'Wildomar, CA': 1, 'buhh': 1, 'We are global!': 1, 'Adelaide': 1, 'University of Limerick': 1, 'Sacae Plains': 1, 'Southern Maine': 1, 'Antioch, CA ': 1, 'Bakersfield, CA': 1, 'Nagpur': 1, 'Surrey & Manchester': 1, 'Calgary,AB, Canada': 1, 'Fort Myers, Florida': 1, 'Im In Route ': 1, 'North Hastings Ontario': 1, 'U.S. Northern Virginia': 1, 'M!$$!$$!PP!': 1, 'Cochrane, Alberta, Canada': 1, 'Leduc, Alberta, Canada': 1, 'Chapel Hill, NC': 1, '204, 555 11 Ave. S.W.': 1, 'USA, Alabama': 1, 'Orange County, NY': 1, 'Henderson, Nevada': 1, 'Whippany, NJ': 1, 'Kodiak, AK': 1, 'Park Ridge, Illinois': 1, 'Fredonia,NY': 1, 'Glendale, CA': 1, 'Kuwait ': 1, 'Fleet/Oxford, UK': 1, 'Bahrain': 1, '@ ForSL/RP': 1, 'Nevada (wishing for Colorado)': 1, 'Kokomo, In': 1, 'Kenosha, WI 53143': 1, 'London/Surrey ': 1, 'CLT': 1, 'Cydia': 1, 'Tallahassee Florida': 1, 'Waterloo, Ont': 1, '17-Feb': 1, 'New Britain, CT': 1, 'LA - everywhere': 1, \"wrapped arnd hyuk's finger\": 1, 'Sevier County.': 1, 'Rochester': 1, 'Gold Coast, Qld, Australia': 1, 'Nashville': 1, 'FLYEST HIPPIE YOU KNOW ': 1, 'An eight-sided polygon': 1, 'Konoha Village': 1, 'St. Catharines, Ontario': 1, '//??//': 1, \"FSC '19\": 1, '\\x89Û¢901\\x89Û¢': 1, 'Gold Coast': 1, 'North West England UK': 1, 'Manchester UK': 1, 'TV5, Philippines': 1, 'Harpurhey, Manchester, UK': 1, 'Benton City, Washington': 1, 'Chicago, but Philly is home': 1, 'seoul': 1, 'Hensley Street, Portland': 1, 'MIchigan': 1, 'Eureka, California, USA': 1, 'EIU  Chucktown/LaSalle IL': 1, 'Northern California U.S.A.': 1, 'Yellowknife, NT': 1, 'ÌÏT: 43.631838,-79.55807': 1, 'Yellowknife': 1, 'US: 44.414510,8.942499': 1, 'Tri-Cities, Wash.': 1, 'The Empire/First Order': 1, 'Brisbane, Queensland': 1, ' |IG: imaginedragoner': 1, 'London / Berlin / Online': 1, 'Williamsburg, VA': 1, 'emily | helen | shelley ': 1, 'New Orleans, Louisiana': 1, 'Spring Grove, IL': 1, 'The Windy City': 1, 'Bloomington, IN': 1, 'Whitby, ON': 1, 'Kajang ? UiTM Puncak Alam': 1, '? Philly Baby ?': 1, 'Cleveland, TN': 1, 'they/them': 1, 'my deli': 1, 'Trost District': 1, '?????? in Yokohama Japan': 1, 'LFC x GSW': 1, 'Elmwood Park, NJ': 1, 'South east of U.K': 1, 'lrhcthband;four - bournemouth': 1, 'Antigua ?? NYC ': 1, 'zboyer@washingtontimes.com': 1, 'Wonderland\\x89ÛÓ ?????? ???? ??????': 1, 'elizabeth king': 1, 'Chicago Heights, IL': 1, 'S.F. Bay area': 1, ' Blood Indian Reserve': 1, 'On the toilet having a dump ': 1, 'City of London, London': 1, 'Long Island, NY': 1, 'Palestine Texas': 1, 'Kauai, Hawaii': 1, 'East London. ': 1, 'Jammu and Kashmir': 1, 'Terlingua, Texas': 1, 'Somewhere in Jersey': 1, 'Stay Fly?': 1, 'Los Angeles... CA... USA': 1, 'Florida but I wanna be n Texas': 1, 'Kyiv, Ukraine': 1, 'JamDung': 1, 'PanamÌÁ ': 1, 'Earth, Milky Way, Universe': 1, 'Edappally,Kochi': 1, 'In #Fairie, where else? ;-)': 1, 'Rogersville, MO': 1, 'Telangana': 1, 'Chatham, IL': 1, 'Charter Member of the VRWC': 1, 'Wood Buffalo, Alberta': 1, 'Nakhon Si Thammarat': 1, 'Somewhere with Clyde': 1, 'Quincy': 1, 'Varanasi': 1, 'Laredo, TX': 1, 'Thane': 1, 'New South Wales, Australia': 1, 'Poconos': 1, 'Jaipur, Rajasthan, India': 1, 'Play For Ryan ??': 1, 'Dimapur': 1, 'New York City ,NY': 1, 'Wolverhampton/Brum/Jersey': 1, 'Chamblee, Georgia': 1, 'Official Website': 1, '#WashingtonState #Seattle': 1, 'TechFish ': 1, \"United States where it's warm\": 1, 'Hope Road, Jamaica ': 1, 'jersey ': 1, 'WestEnd, Puritan Ave ': 1, 'Youngstown, OH': 1, 'Nantes, France': 1, \"St. John's, NL, Canada\": 1, 'Caserta-Roma, Italy ': 1, 'Pekanbaruå¡Batam Islandå¡Medan': 1, 'oman muscat al seeb ': 1, 'Jogja, Indonesia Slowly Asia': 1, 'Avon, OH': 1, 'Just Happy to Be Anywhere': 1, 'Lima, Ohio': 1, 'Lowell, MA': 1, 'playing soccer & eating pizza': 1, 'Hueco Mundo': 1, 'Boston \\x89Û¢ Cape Cod ?': 1, 'Rafael castillo': 1, 'Fort Wayne, IN': 1, 'Enterprise, NV': 1, 'Grand Rapids MI': 1, 'Utica NY': 1, 'Nunya': 1, 'Houston, TX  ': 1, 'Christiana,Tennessee': 1, 'Bishops Stortford, England': 1, 'Earth ': 1, 'Brentwood, NY': 1, 'Chippenham/Bath, UK': 1, 'Yewa zone': 1, 'sitting on the fence, New York': 1, 'Carregado': 1, 'Largo, MD': 1, 'mexico': 1, 'Cape Town, Khayelitsha': 1, 'Stanford University': 1, 'Midwestern USA': 1, 'Bedford IN ': 1, 'Thibodaux, LA': 1, 'In the moment': 1, 'Alliston Ontario': 1, 'SaudI arabia - riyadh ': 1, 'New York. NY': 1, 'Athens - Nicosia': 1, 'Bremerton, WA': 1, 'Tulalip, Washington': 1, 'Hilton Head, SC  ': 1, '2 high 2 come down ': 1, 'Wrex': 1, 'big boy \\x89Û¢ 0802': 1, 'Brooklyn': 1, 'St.Cloud, MN': 1, 'on a catwalk somewhere': 1, '  å_ ': 1, 'Zac Newsome loves me': 1, 'louisville, kentucky': 1, 'Makai': 1, 'Fort Valley,GA/Fayetteville,AR': 1, 'the road to success': 1, 'The Desert': 1, 'Yuba City, CA': 1, 'University of South Florida': 1, 'the moon': 1, 'Woodcreek HS, Roseville, CA': 1, 'Here & There': 1, 'District 12 - Orange County': 1, \"Plain O' Texas\": 1, 'SouthEast Asia': 1, 'Saipan, CNMI': 1, 'Orange County, Calif.': 1, 'lost in my thoughts': 1, 'Orange County, CA': 1, 'Tallahassee, FL': 1, 'Laguna Beach, Calif. ': 1, ' Nevada Carson City,Freeman St': 1, 'LA ??': 1, 'Aracaju - Sergipe': 1, 'Long Eaton åá Derbyshire åá UK': 1, 'Portage, IN / Worldwide': 1, 'Victoria, BC  Canada': 1, 'Roads/Trails Everywhere': 1, 'Liberty Township, Ohio': 1, 'Aberdeenshire': 1, 'A Hoop Somewhere': 1, 'Bloomington, Indiana': 1, 'Basking Ridge, NJ': 1, 'Stalybridge, Tameside': 1, 'Franklin, TN near Nashville': 1, 'St. Louis, Missouri': 1, 'Louisville, KY ': 1, 'Freeport Ny': 1, '650/559': 1, 'dreamy lake': 1, 'houstn': 1, \"St. Patrick's Purgatory\": 1, '@cockerelshoes': 1, 'manaus': 1, 'Sioux Falls, S.D. ': 1, 'Republica Dominicana': 1, 'Eastlake, OH': 1, 'Hillsville/Lynchburg, VA': 1, 'Some where': 1, 'Travelling around the world ': 1, ' 616 \\x89Û¢ Kentwood , MI ': 1, '? Jet Life ?': 1, 'Fairy Tail! ': 1, 'Santo Domingo Alma Rosa ': 1, 'Somewhere Around You': 1, 'Houston |??| Corsicana': 1, 'Bacon': 1, 'Some other mansion': 1, 'Astley, Manchester': 1, 'Bow, NH': 1, 'Frome, Somerset, England': 1, 'Mars': 1, 'Essex, England': 1, 'new york, ny': 1, 'somewhere too cold for me': 1, 'Leeds': 1, 'Wahpeton, ND': 1, 'Northampton, MA': 1, 'Ventura': 1, 'Le Memenet': 1, 'Lubbock, Texas': 1, 'Mississauga, Ontario': 1, 'Delhi ': 1, 'Keighley, England': 1, 'Pomfret/Providence': 1, 'East Lansing, MI': 1, 'Rocketing through the galaxy': 1, 'boston': 1, 'Warrandyte, Australia': 1, 'Aix-en-Provence/Utrecht': 1, 'Van Buren, MO': 1, 'Hawaii USA': 1, 'Waddesdon': 1, 'Rock Springs, WY': 1, 'Tampa-St. Petersburg, FL': 1, 'Huntsville, Alabama': 1, 'Nova Scotia, Canada': 1, 'Metro Manila': 1, 'I ACCEPT SONG REQUESTS': 1, 'Honolulu, Hawaii': 1, 'Miami Beach, Fl': 1, 'Huntsville AL': 1, \"don't run\": 1, 'West Midlands': 1, 'Ocean City, NJ': 1, 'belleville': 1, 'Kualar Lumpur, Malaysia': 1, 'Nadiad ,Gujarat , India!!': 1, 'South of D.C.': 1, 'Adventist - Lesson Sabbath': 1, 'Passamaquoddy': 1, '\\x89Û¢III.XII.MMXI\\x89Û¢': 1, 'Sherwood, Brisbane, Australia': 1, 'Timaru District, New Zealand': 1, 'Cameroon': 1, 'St Austell, Cornwall': 1, 'Ogba, Lagos, Nigeria': 1, 'North America': 1, 'PDX': 1, 'Shelby County': 1, 'port matilda pa': 1, 'Concord, N.C.': 1, 'Slatina,Romania': 1, 'Los Angeles for now': 1, '????????????': 1, 'Western Washington': 1, 'Montana ': 1, 'Cape Cod': 1, 'Nicola Valley': 1, 'Tips on my blog at': 1, 'Duncan': 1, 'Texas ': 1, 'Based in CA - Serve Nationwide': 1, 'Lansdale,Pennsylvania': 1, 'Carol Stream, Illinois': 1, 'Calgary/Airdrie/RedDeer/AB': 1, 'Hattiesburg, MS': 1, 'Arkansas': 1, 'Dagenham, Essex': 1, 'Inside the Beltway (DC Area)': 1, 'Windsor,Ontario': 1, 'Brasil, Fortaleza ce': 1, 'Paradise City': 1, 'Rapid City, South Dakota': 1, 'antoine fisher ': 1, 'Between Dire and Radiant': 1, 'Bay Area, CA': 1, 'Watch Those Videos -': 1, 'Ab, Canada': 1, 'Newton Centre, Massachusetts': 1, 'Kicking Horse Pass': 1, 'Suginami-ku, Tokyo, Japan': 1, 'Somewhere ': 1, 'Virgo Supercluster': 1, 'facebook.com/tradcatknights': 1, 'Wyoming, MI (Grand Rapids)': 1, 'Iliff,Colorado  ': 1, 'Dicky Beach': 1, 'Not Los Angeles, Not New York.': 1, 'The barn': 1, 'where the wild things are': 1, '?semekeepschanging@soyeh?': 1, 'i love you zayn': 1, 'WORLD WIDE': 1, 'England ': 1, 'Sumter, SC': 1, \"Someday I'll live in England. \": 1, 'Hogsmeade': 1, '5/5 access / rt link please x': 1, 'å_: ?? ÌÑ ? : ?': 1, '10-Jul': 1, 'The South & WestCoast ': 1, 'Hogwarts': 1, '?@symbolicjensen?': 1, 'Contoocook Valley Region of Ne': 1, 'Alameda, CA': 1, 'Lancashire, United Kingdom': 1, 'a van down by the river': 1, 'Giddy, Greenland': 1, 'Roppongi, Minato, Tokyo ': 1, 'Pleasanton, CA': 1, 'Portsmouth, VA': 1, \"Dil's Campsite\": 1, 'ilford': 1, 'Nashville, Tn': 1, 'SWinfo@dot.state.al.us': 1, 'Far Away From Home': 1, 'Mysore, Karnataka': 1, 'Fort Worth,  Texas ': 1, 'Greenfield, Massachusetts': 1, 'London, Riyadh': 1, 'Crayford, London': 1, 'Arnhem, the Netherlands': 1, 'Pacific Northwest': 1, 'Somewhere in Spain': 1, 'Frisco, TX': 1, 'Malaysia/Jordan': 1, 'Somewhere out there': 1, 'Planet of da Bathing Apes': 1, 'Maricopa, AZ': 1, 'liverpool ': 1, 'Albuquerque New Mexico': 1, 'New York Brooklyn': 1, 'Nebraska, Colorado & The GLOBE': 1, 'Rheinbach / Germany': 1, 'jeddah | Khartoum': 1, 'United Hoods of the Globe': 1, 'Jubail IC, Saudi Arabia.': 1, '?????? ??? ?????? ????????': 1, 'Right next to Compton': 1, '11th dimension, los angeles': 1, '570 Vanderbilt; Brooklyn, NY': 1, '??????????? ???????????..? ': 1, '?????? ???? ??????': 1, 'Silvermoon or Ironforge': 1, 'Benicia, CA ': 1, \"Riyadh ')\": 1, 'Innerhalb der LÌ_cke': 1, 'eating strawberry shitsickles': 1, 'Near Richmond, VA': 1, 'am everywhere': 1, 'Miami, Florida': 1, 'Washington state': 1, 'Fort Collins, CO': 1, 'Free State, South Africa': 1, 'Fresno, California': 1, 'RSN: Tru': 1, 'El Paso, TX': 1, 'South Pasadena, CA': 1, 'perth, australia ': 1, 'Chiyoda Ward, Tokyo': 1, 'Athens,Greece': 1, 'IN our hearts  Earth Global ': 1, 'tokyo': 1, 'between ideas & 3-5pm AEST': 1, 'Zimbabwe': 1, 'Starling City': 1, 'The Great State of Maine ': 1, 'Glenview to Knoxville ': 1, 'Cape Neddick, ME': 1, 'Mariveles, Bataan': 1, 'ÌÏT: 40.562796,-75.488849': 1, 'Melbourne, FL': 1, 'New Chicago': 1, 'Australia ': 1, 'Victorville, CA': 1, ' Eugene, Oregon': 1, 'THANJAVUR': 1, 'westwestwestwestwestwestwest': 1, 'NYC metro': 1, 'Heathrow': 1, 'OK': 1, 'Tampa, Fl': 1, 'TonyJ@Centralizedhockey.com': 1, 'Pune, Maharashtra': 1, 'cuba': 1, 'Brazos Valley, Texas': 1, ' Miami Beach': 1, '#1 Vacation Destination,HAWAII': 1, 'Haiku, Maui, Hawaii': 1, 'NAWF SIDE POKING OUT ': 1, 'Vineyard': 1, '@potteratthedisc': 1, 'Anderson, SC': 1, 'The Epicenter, and Beyond': 1, '??? ??? ????? ??? ???.': 1, 'Somewhere Powerbraking A Chevy': 1, 'Mexico City': 1, 'The Globe': 1, 'Chicopee MA': 1, 'Srinagar,Kashmir': 1, 'DFW, Texas': 1, 'Piedmont Triad, NC': 1, 'MD': 1, ' Tropical SE FLorida': 1, 'Ikorodu': 1, 'Lucknow, India': 1, 'Doghouse': 1, 'someplace living my life': 1, 'Centurion ': 1, 'Avon': 1, 'Orlando,FL  USA': 1, 'North London': 1, 'come here in 20 minutes for an ass kicking': 1, 'Milton Keynes, England': 1, 'Scottsdale. AZ': 1, 'Saskatchewan, Canada': 1, 'North West London': 1, 'Rockland County, NY': 1, 'Atlantic Highlands, NJ': 1, 'Sutton, London UK': 1, 'Alameda and Pleasanton, CA': 1, 'Madison, WI & St. Louis MO': 1, 'Bay Area': 1, 'California or Colorado': 1, 'Carterville': 1, 'Corpus - Las Vegas - Houston': 1, 'Spring Tx': 1, 'Georgia, U.S.A.': 1, 'Riverview, FL ': 1, 'beijing .China': 1, 'Somewhere in China.': 1, 'Cambridge, Massachusetts': 1, 'Lahore': 1, 'Saint Paul': 1, 'Shah Alam,Malaysia': 1, 'ÌÏT: 35.223347,-80.827834': 1, 'Plano, Texas': 1, 'mnl': 1, 'Nairobi , Kenya': 1, 'England & Wales Border, UK': 1, 'Zeerust, South Africa': 1, 'Boston, Massachusetts': 1, 'The Main ': 1, 'The windy plains of Denver': 1, 'Sunbury, Ohio': 1, 'Sunnyvale, CA': 1, 'Land of Lincoln': 1, 'NYC&NJ': 1, 'swindon': 1, 'Croydon': 1, 'Toronto, ON, Canada': 1, 'San Jose, CA, USA': 1, 'UK, Republic of Ireland and Australia': 1, 'Milton keynes': 1, 'Pontefract UK': 1, 'the Dirty D': 1, 'Paducah, KY': 1, 'Asia European Continent Korea ': 1, 'Athens, Greece': 1, 'Proudly Canadian!': 1, 'Cascadia': 1, 'County Durham, United Kingdom': 1, 'Dundee, UK': 1, 'Detroit Tigers Dugout': 1, 'st.louis county missouri ': 1, 'Detroit/Windsor': 1, 'EGYPT': 1, 'The Circle of Life': 1, 'i got 1/13 menpa replies, omg': 1, 'Pocatello, Idaho': 1, 'Medan,Indonesia': 1, 'Santa Maria, CA': 1, 'Oklahoma, USA': 1, 'Chicago, Il': 1, 'Clayton, NC': 1, 'Bandar Lampung, Indonesia': 1, 'buffalo / madrid / granada': 1, 'HI\\x89Û¢UT\\x89Û¢AS': 1, 'di langit 7 bidadari (^,^ )': 1, 'Coventry, UK': 1, 'Norman, Oklahoma': 1, 'Rapid City, Black Hills, SD': 1, 'Memphis, in the Tennessees': 1, 'winston-salem north carolina': 1, 'Elchilicitanierraversal ': 1, '(RP)': 1, \" 45å¡ 5'12.53N   14å¡ 7'24.93E\": 1, 'Asheboro, NC': 1, 'Holland MI via Houston, CLE': 1, 'SoDak': 1, 'Waverly, IA': 1, 'Why should you know?': 1, 'Photo : Blue Mountains ': 1, 'Bedford, England': 1, 'Aperture Science Test Facility': 1, 'Wandsworth, London': 1, 'im definitely taller than you.': 1, 'london essex england uk': 1, '{Detailed}': 1, 'Fairgrounds Resident': 1, 'English Midlands': 1, 'Antarctica': 1, 'Magnolia, Fiore ': 1, 'cereal aisle #17:i4': 1, \"i'm a Citizen of the World\": 1, 'Leicester, England': 1, 'by a piano probably. ': 1, 'Fiore, Lamia Scale': 1, 'Chattanooga TN': 1, 'Earth-616': 1, 'wisco': 1, 'Leaving Bikini Bottom': 1, \"Eww, I'm not Paul Elam\": 1, 'Hemel Hempstead': 1, 'Chester Football Club': 1, 'ANDY 4 LEADER X': 1, 'Tama, Iowa': 1, 'Minneapolis - St. Paul': 1, 'Las Vegas aka Hell': 1, 'St. Louis, Mo': 1, 'Vancouver Canada': 1, ' The World': 1, 'Own planet!!': 1, 'Vancouver, BC, Canada': 1, 'Ecuador': 1, 'Stay Tuned ;) ': 1, 'Cimerak - Pangandaran': 1, 'Cottonwood Arizona': 1, 'Wausau, Wisconsin': 1, 'BOSTON-LONDON': 1, 'GLOBAL/WORLDWIDE': 1, 'North Dartmouth, Massachusetts': 1, 'The Waystone Inn': 1, '?? Made in the Philippines ??': 1, 'Boston/Montreal ': 1, 'Manavadar, Gujarat': 1, 'Pueblo, Colorado': 1, 'PG County, MD': 1, 'Somewhere between Chicago & Milwaukee': 1, 'InterplanetaryZone': 1, 'WORLDWIDE-BOSTON': 1, 'Jersey Shore': 1, 'laying on the bass': 1, 'Hustletown': 1, '? miranda ? 521 mi': 1, 'Oldenburg // London': 1, '#partsunknown': 1, 'Proudly frozen Canuck eh !!': 1, 'IL': 1, 'KSU 2017': 1, 'Colorado, USA': 1, 'Storybrooke / The Moors': 1, 'NOLA ?? TX': 1, \"neil's kitchen  |  32215\": 1, 'The shores of Lake Kilby': 1, 'Two Up Two Down': 1, 'Flushing, Queens': 1, ' Quantico Marine Base, VA.': 1, 'Bozeman, Montana': 1, 'Hearts & Minds': 1, 'highlands&slands scotland': 1, 'Crouch End, London': 1, 'Ealing, London': 1, 'Malibu/SantaFe/Winning!': 1, 'London, Greater London, UK': 1, 'Edinburgh, Scotland': 1, 'Nottingham': 1, 'Tring ': 1, 'Co. Tyrone Northern Ireland': 1, 'Birmingham & Bristol': 1, \"IUPUI '19\": 1, 'potters bar': 1, 'Chiswick, London': 1, 'plymouth': 1, 'The Pumpkin Carriage of Dreams': 1, 'Holly Springs, NC ': 1, 'Notts': 1, 'South, England': 1, 'home ': 1, 'Orlando/Cocoa Beach, FL': 1, 'Birmingham and the Marches': 1, 'MÌ©xico D.F.': 1, 'Greenwich Meridian': 1, 'lia\\x89Û¢dani\\x89Û¢laura': 1, 'Oneonta, NY/ Staten Island, NY': 1, 'in my own personal hell (:': 1, 'Jonesboro, AR MO, IOWA USA': 1, 'sÌ£o luis': 1, 'Aurora, IL': 1, 'on to the next adventure': 1, 'Suburban Detroit, Michigan': 1, 'Guatemala': 1, 'Leitchfield Kentucky': 1, 'Littleton, CO': 1, 'Austin TX': 1, 'Marbella. Spain': 1, 'Hammersmith, London': 1, 'Ashford, Kent, United Kingdom': 1, 'Dhaka, Bangladsh': 1, '#goingdownthetoilet Illinois': 1, 'Under Santa Barbara Skies': 1, 'Fukushima city Fukushima.pref': 1, 'Norwalk, CT': 1, 'USA, North Dakota': 1, 'japon': 1, 'Eaubonne, 95, France': 1, 'Pluto': 1, 'Anywhere I like': 1, 'Phoenix, Arizona, USA': 1, 'Paris (France)': 1, 'Den Helder, Rijkswerf': 1, 'SE London(heart is by the sea)': 1, 'Warsaw': 1, 'Aztec NM': 1, 'Fort Calhoun, NE': 1, 'Bournemouth, Dorset, UK': 1, 'Somecity, Somerset, MD': 1, 'Dover, DE': 1, 'Cavite, Philippines': 1, 'M!A: None': 1, 'Purfleet': 1, 'The Memesphere': 1, '21 | PNW': 1, 'Miami via Lima': 1, 'Cymru araul': 1, 'NEWCASTLE': 1, 'Jump City': 1, 'Dudetown': 1, 'Ondo': 1, 'Bhubneshwar': 1, 'cedar rapids ia': 1, \"satan's colon\": 1, 'Valparaiso ': 1, 'prob turning up with sheen': 1, '#freegucci': 1, 'Waterloo, ON': 1, 'The dark': 1, 'Reading MA': 1, 'Wynne, AR': 1, 'The Wood': 1, 'Palmyra, NJ': 1, '1313 W.Patrick St, Frederick': 1, 'Danbury, CT': 1, 'Mid West': 1, 'leyland': 1, \"don't buy the s*n\": 1, 'Overton NV': 1, 'Born in Baltimore Living in PA': 1, 'Elizabeth, NJ': 1, 'a feminist, modernist hag.': 1, 'kissimmee,fl.': 1, '828/704(Soufside)/while looking goofy in NJ': 1, 'Merica!': 1, 'DC Metro area': 1, 'Illinois': 1, 'Turkmenistan': 1, '23 countries and counting!': 1, 'Ontario': 1, 'Montgomery, AL': 1, 'Amarillo': 1, 'Sydney, NSW': 1, 'Central Coast, California': 1, 'Clean World': 1, 'Goa, India': 1, 'England, Great Britain.': 1, 'San Luis Obispo, CA': 1, 'Kamloops, BC': 1, 'Pensacola, FL': 1, 'Corpus Christi': 1, 'EspaÌ±a, Spain': 1, 'New York City, NY': 1, 'LAGOS': 1, 'NJ/NYC': 1, 'Eagle River Alaska': 1, 'ÌÏT: 6.488400524109015,3.352798039832285': 1, 'Nottingham, United Kingdom': 1, 'Akure city in ondo state ': 1, 'Anywhere': 1, 'Ile-Ife,Osun state, Nigeria': 1, 'Fukuoka, Japan': 1, 'kano': 1, '?? ?+254? ? \\\\??å¡_??å¡_???å¡_?/??': 1, 'Dammam- KSA': 1, 'Pro-American and Anti-#Occupy': 1, 'The Kingdom of Fife, Scotland': 1, 'Everett, WA': 1, 'The P (South Philly)': 1, 'VONT ISLAND, LAGOS': 1, 'Leeds, UK': 1, 'www.facebook.com/stuntfm': 1, 'Miami?Gainesville': 1, 'illinois. united state ': 1, 'Royton': 1, 'the Refrigerator ': 1, 'Leeds, United Kingdom': 1, 'Linton Hall, VA': 1, 'The Internetz': 1, 'Charleston, IL': 1, 'Charlotte, NC | KÌ¦ln, NRW': 1, 'Topeka, KS': 1, 'Palm Bay, FL (Kissimmee)': 1, 'Manhattan': 1, \"elena's bed // info on link\": 1, 'Elsewhere, NZ': 1, '518 åá NY': 1, 'The Shady Hyenatown of Finland': 1, 'Maryland ': 1, 'East TN.': 1, 'Milwaukee WI': 1, 'Torry Alvarez love forever ? ?': 1, 'Petaluma, CA': 1, '?^åá??åá?^?? ??': 1, 'Oxford / bristol': 1, 'PARACHUTE': 1, 'Near Warrington': 1, '|-/': 1, 'Pawnee': 1, 'Derbyshire, United Kingdom': 1, 'VCU': 1, 'McLean, VA': 1, 'South Florida': 1, 'Positive 852': 1, 'Kansas City, Mo.': 1, 'US, PA': 1, 'h+l': 1, 'Stratford, CT': 1, 'MI,USA': 1, 'Houston ': 1, 'South africa': 1, 'Bucharest': 1, 'Joshua Tree, CA': 1, 'Area 8 ': 1, 'Bangalore, INDIA': 1, 'ÌÏT: 40.707762,-74.014213': 1, 'Killa Hill, CO': 1, 'Southern Califorina': 1, 'all over the world': 1, 'San Diego, Calif.': 1, 'Geneva. And beyond. ': 1, 'NYC, New York': 1, 'VÌ_a LÌÁctea': 1, 'New York, United States': 1, 'Some Where in this World': 1, 'Livonia, MI': 1, 'Karolinska vÌ_gen 18, Solna': 1, 'I Heard #2MBikers': 1, 'Ebola': 1, 'Broadview Heights, Ohio': 1, 'Poplar, London': 1, 'LP, MN USA': 1, 'La Grange Park, IL': 1, 'Warszawa': 1, '#MayGodHelpUS': 1, 'Darnley, Prince Edward Island': 1, 'Gloucester, MA': 1, 'Alberta ': 1, 'Yobe State': 1, 'Coventry, Rhode Island': 1, 'La Puente, CA': 1, 'music.': 1, 'Thailand Malaysia Indonesia ': 1, 'Sicamous, British Columbia': 1, 'North Memphis/Global Citizen': 1, 'Bridport, England': 1, 'Porto Alegre, Rio Grande do Sul': 1, 'North Vancouver, BC': 1, 'Pioneer Village, KY': 1, 'ECSU16': 1, 'North': 1, 'Ames, IA': 1, 'Augusta, Maine, 04330': 1, 'Ad Majorem Dei Glorium': 1, 'Aurora, Ontario ': 1, ' Baku & Erzurum ': 1, 'Statute Of Limitations_': 1, 'paradise': 1, ' BC, US, Asia or Europe.': 1, 'St PetersburgFL': 1, 'EspaÌ±a': 1, 'Tarragona': 1, 'Warri': 1, 'Skyhold': 1, 'Amman,Jordan': 1, 'tripoli international airport': 1, 'NYC,US - Cali, Colombia': 1, 'QLD Australia': 1, 'Geneva, Switzerland': 1, 'Big NorthEast Litter Box': 1, 'Surry Hills, Sydney': 1, 'Thornton  Colorado': 1, 'Wanderlust': 1, 'watford': 1, 'West Hollywood': 1, 'The Multiverse': 1, 'Jammu | Kashmir | Delhi': 1, 'southern california': 1, 'Philadelphia, Pennsylvania USA': 1, 'Huntley, IL': 1, 'The green and pleasant land.': 1, 'Leeds, U.K.': 1, 'Westerland': 1, 'Kuala Lumpur': 1, 'Surabaya': 1, '#iminchina': 1, '?????????????, Thailand ': 1, '17th Dimension': 1, 'USA - Canada - Europe - Asia': 1, 'Paris, France': 1, 'Here, there and everywhere': 1, 'Belgrade': 1, 'Cardiff, UK': 1, 'Bossland': 1, 'Uppsala, Sweden': 1, 'East London': 1, 'Montana, USA': 1, 'Utah, USA': 1, 'Frankfort, KY': 1, 'In Space': 1, 'Sligo and Galway, Ireland': 1, 'Tipperary (Long Way) ': 1, 'Malang': 1, 'hertfordshire.': 1, 'Dublin': 1, 'SURROUNDED BY WEEABOOS': 1, 'Vidalia GA': 1, 'Vista, CA': 1, 'Serva Fidem': 1, 'Bellville, Ohio': 1, 'trapped in America': 1, 'tri state': 1, 'Upstate New York': 1, 'Chicora ?? Oakland': 1, 'heart of darkness, unholy ?': 1, 'Colonial Heights, VA': 1, 'The Weird Part of Wonderland': 1, 'Cassadaga Florida': 1, 'Columbus, Georgia': 1, 'Phoenix Az': 1, 'Spain - China - Latin America.': 1, 'Chester, IL': 1, 'West Africa': 1, 'Made Here In Detroit ': 1, 'Dallas, Tejas': 1, 'ATLANTA , GEORGIA ': 1, '| CA \\x89Û¢ GA  |': 1, 'Depok': 1, 'London / Birmingham': 1, 'Yulee, FL': 1, 'austin tx': 1, 'Garrett': 1, 'followurDREAMS(& my instagram)': 1, 'sheffield // rotherham': 1, 'Wailuku, Maui': 1, 'Lima, OH': 1, 'Long Beach, CA': 1, 'Belfast': 1, 'fujo garbage heaven ': 1, 'New York - Connecticut': 1, 'snapchat~ maddzz_babby ': 1, '2,360 miles away': 1, 'Florida Forever': 1, '#RedSoxNation': 1, 'youtube.com/channel/UCHWTLC9B4ZjUGh7yDlb55Iw': 1, 'CA ??DC': 1, 'MÌ©rida, YucatÌÁn': 1, 'Scituate, MA': 1, 'hkXfYMhEx': 1, 'Hamilton County, IN': 1, 'Dakar': 1, 'In your head': 1, 'The Sanctuary Network, Rome': 1, 'Tractor land aka Bristol': 1, 'Adventuring in Narnia': 1, 'Asgard': 1, 'Unite. Bless. Wallahi ': 1, 'sneaking glances at Thancred': 1, 'ljp/4': 1, 'Charlotte, North Carolina': 1, 'Nirvana': 1, 'ny': 1, 'Mentor OH': 1, 'Trumann, Arkansas': 1, '18 \\x89Û¢ CC': 1, '1D | 5SOS | AG': 1, 'PA.USA': 1, 'm3, k, a, d': 1, 'pissing off antis': 1, \"'SAN ANTONIOOOOO'\": 1, 'sisterhood': 1, '3000 miles from everyone': 1, 'livin in a plastic world': 1, 'with Doflamingo': 1, '21, Porto': 1, 'access to njh/5 and cth/4': 1, 'Massachusetts ': 1, 'rio de janeiro | brazil': 1, 'Moore, OK': 1, '\\x89Û¢OlderCandyBloom\\x89Û¢': 1, 'Justin and Ariana follow': 1, '[@blackparavde is my frankie]': 1, 'Daddy Kink Central': 1, 'Wakefield, West Yorkshire': 1, \"Namjoon's pants\": 1, 'Mogadishu, New Jersey': 1, 'All around the world': 1, ' Jariana Town': 1, 'Honeymoon Ì£ve.': 1, 'Aveiro, Portugal': 1, 'justin & ari follow || tvd': 1, '9/1/13': 1, 'JDB/LJC/AGB/TW/PLL': 1, 'nap queen': 1, 'amsterdayum 120615 062415': 1, 'lesa * she/her': 1, 'Griffin :3': 1, \"xiumin's nonexistent solos\": 1, 'marvel | books | hp | tmr': 1, 'blackfalds.': 1, 'San Juan, Puerto Rico': 1, 'Freddy Fazbears pizzeria': 1, 'BrasÌ_lia': 1, 'POFFIN': 1, '#Gladiator \\x89Û¢860\\x89Û¢757\\x89Û¢': 1, 'W.I.T.S Academy': 1, 'Where ever i please': 1, 'Melbourne, Australia.': 1, 'Sheffield/Leeds': 1, 'PLFD cuh..': 1, 'lost in history': 1, '5-Feb': 1, 'labyrinthia': 1, '??+ ... ??+': 1, 'garowe puntland somalia': 1, 'Third rock from the Sun': 1, 'Lives in London': 1, 'Lakewood, Tennessee': 1, 'Smash Manor/Kanto': 1, 'Bokaro Steel City, Jharkhand': 1, 'Hatteras, North Carolina': 1, '412 NW 5th Ave. Portland OR': 1, 'Madison, Wisconsin, USA': 1, 'Mogadishu, Somalia': 1, 'the azure cloud': 1, 'Perenjori, WA': 1, 'Unknown ': 1, 'Atlanta(ish), GA': 1, 'ill yorker': 1, 'White Plains, NY': 1, 'B&B near Alton Towers': 1, 'Alger-New York-San Francisco': 1, '\\x81Êwagger!Ì\\x90ominicanÌ÷': 1, 'Texas af': 1, 'Hinterestland': 1, 'Greenpoint': 1, 'ÌÏT: 42.910975,-78.865828': 1, 'Cypress, CA 90630': 1, 'North East Unsigned Radio': 1, 'Every Where in the World': 1, 'Fountain Valley, CA': 1, 'Haarlem': 1, 'Queensland': 1, 'HOMRA.': 1, 'Ciudad AutÌ_noma de Buenos Aires, Argentina': 1, 'Not where I want to be, yet': 1, 'Duval, WV 25573, USA ?': 1, 'Rhyme Or Reason?': 1, 'hey Georgia': 1, 'nc': 1, 'kenya': 1, 'My subconscious': 1, ' New England': 1, 'UAE,Sharjah/ AbuDhabi': 1, 'The Web': 1, 'Paris.': 1, 'Am International': 1, 'Team Slytherin': 1, 'Michel Delving.': 1, 'Hame': 1, 'Brizzle City !': 1, 'texasss': 1, 'Diamondville': 1, 'The TARDIS': 1, 'Honolulu,Hawaii ': 1, 'Flipadelphia': 1, 'high way 99': 1, '... -.- -.--': 1, 'Canada Eh! ': 1, '828??864??803': 1, 'Nomad, USA': 1, 'Greater Los Angeles Bearia': 1, 'victoria mozÌ£o ': 1, 'miami x dallas ': 1, 'Hamburg, DE': 1, 'Nanaimo, BC, Canada': 1, 'Los Angles, CA': 1, 'az': 1, 'Crato - CE ': 1, 'Ventura, Ca': 1, 'MedellÌ_n, Antioquia': 1, 'BrowardCounty // Florida ': 1, 'Soufside': 1, 'Dalston, Hackney': 1, 'WORLDWI$E ': 1, 'atlanta': 1, '3.28.15|7.20.15|7.25.15': 1, 'cigarknub@gmail.com': 1, 'Ktx': 1, 'PSA Nursing ': 1, 'Narnia, Maryland': 1, 'Winnipeg, MB, Canada': 1, 'Bronx, NY': 1, 'Wakefield MA': 1, 'Hampshire, UK': 1, 'Louisiana, USA': 1, 'This Is Paradise. Relax. ': 1, 'Deployed in the Middle East': 1, 'teh internets': 1, 'Neath, South Wales': 1, 'Porthcawl': 1, 'In the spirit world': 1, \"Mpela'zwe \": 1, 'State College, Pa': 1, 'mind ya business': 1, 'nor*cal': 1, 'West Palm Beach, Florida': 1, 'philly': 1, 'Johns Creek, GA': 1, ' New Delhi ': 1, ' Alberta': 1, '#BossNation!': 1, 'pittsboro': 1, 'NC || OR': 1, 'EspaÌ±a - Spain - Espagne': 1, '#PhanTrash': 1, 'Desert Storm?? |BCHS|': 1, 'Santiago de Chile': 1, 'CamaquÌ£/Pelotas': 1, 'Austin/Los Angeles': 1, 'U.S.A and Canada': 1, 'In a crazy genius mind': 1, 'hatena bookmark': 1, 'Docker container': 1, 'philly ': 1, 'south africa eastern cape': 1, 'Amazon Seller , Propagandist': 1, 'NJ/NY/NM/NE/ND': 1, '3???2???????': 1, 'Stateless Global Citizen': 1, 'Halton Region': 1, 'Los Angeles, Calif.': 1, 'Warm Heart Of Africa': 1, 'ÌÏT: 27.9136024,-81.6078532': 1, 'VÌ_sterÌ´s, Sweden': 1, 'Reality': 1, 'Roadside': 1, 'London/Lagos/FL ÌÏT: 6.6200132,': 1, 'The Land of MAss Stupidity': 1, 'dorito land': 1, 'Gidi': 1, 'Email: Lovethterry@gmail.com': 1, 'Homs- Syria': 1, 'lagos. Unilag': 1, 'Did anybody see me here ??': 1, 'Na waffi': 1, 'Saudi Arabia': 1, 'Garden City, NY': 1, 'africa': 1, 'Birmingham, United Kingdom': 1, 'nigeria': 1, 'Minority Privilege, USA': 1, 'Principality of Zeron': 1, 'GCC': 1, 'On a beach ': 1, 'EARTH': 1, 'Tokyo & Osaka': 1, 'mainly California': 1, '18 | 509 ': 1, 'glasgow': 1, 'Bon Temps Louisiana': 1, 'my house': 1, 'Beacon Hills': 1, 'West Coast, USA': 1, 'Gaborone, Botswana': 1, 'Bracknell': 1, '{GoT | Modern AU | Lizz}': 1, 'Cardiff, Wales': 1, 'NAIROBI  KENYA ': 1, 'In your mind': 1, 'Essex': 1, 'oxford': 1, 'Gloucester': 1, 'i beg vines sorry ': 1, 'toledo': 1, 'Semarang, Indonesia': 1, 'Lincoln City Oregon': 1, 'Fountain City, IN ': 1, 'gaffney, sc ': 1, '???????, Texas': 1, 'Camberwell, Melbourne': 1, 'Kansas': 1, 'ava': 1, 'nj/ny': 1, 'Back East in PA': 1, '? icon by @Hashiren_3 ?': 1, 'EveryWhere': 1, 'Trapped in my Conscience ': 1, 'death star': 1, 'Brentwood,TN': 1, 'Auburn ': 1, 'Harlem, NY or Chocolate City': 1, 'Polmont ': 1, 'Predjama, Eslovenia.': 1, 'Tn': 1, 'South Asia': 1, 'Reading a romance novel': 1, 'Bulgaria': 1, 'AUSTRALIA-SOUTHAFRICA-CAMBODIA': 1, 'Port Williams NS': 1, 'Dallas, TX ': 1, 'SÌ£o Paulo, Brasil': 1, 'WORLD': 1, 'Stowmarket': 1, 'Philadelphia, Pennsylvania': 1, 'Lake Monticello, VA': 1, 'Sao Paulo': 1, 'WV, love the blue and gold': 1, 'Berlin, NY, DC, Malibu': 1, 'Shanghai': 1, 'Anywhere Safe': 1, 'Marietta, GA': 1, 'Numenor': 1, 'Salt Lake City, UT': 1, 'Earth 0': 1, 'Lancaster, CA': 1, 'Reston, VA, USA': 1, 'Jeddah_Saudi Arabia.': 1, 'toronto, ontario': 1, 'Bangalore City, India': 1, 'peshawar pakistan ': 1, 'Beit El - Israel': 1, 'Sanganer, Rajasthan': 1, 'Loading...': 1, 'Chennai': 1, 'BILASPUR,CHHATTISGARH,495001': 1, \"Niall's arms\": 1, 'proudly South African': 1, '????? ???? ????': 1, 'Charleston S.C.': 1, 'Hyrule': 1, 'front row at a show': 1, 'Arlington, VA': 1, 'God.Family.Money': 1, 'Kwajalein/Virginia/Dayton, OH': 1, 'BiÌ±an,Laguna': 1, 'Atlanta, Georgia USA': 1, 'Gander NF': 1, 'nowhere': 1, 'Palm Desert, CA': 1, 'Palma, Islas Baleares': 1, 'IndiLand ': 1, 'Baydestrian': 1, 'gamertag: bexrayandvav ': 1, 'WORDLDWIDE': 1, '73101': 1, 'South Carolina': 1, 'Tornado Alley, USA ': 1, 'Nicoma Park, OK': 1, 'Lethbridge, Alberta, Canada': 1, 'Killafornia made me ': 1, 'Lethbridge, AB, Canada': 1, 'God is Love. ': 1, 'cognitive dissoNot identifiedce town': 1, 'I O W A': 1, \"Wherever I'm sent\": 1, 'Fort Knox, KY 40121': 1, 'california': 1, 'Providence RI / Lisnaskea ': 1, 'Dindigul,TamilNadu.': 1, 'khartoum sudan': 1, '  ': 1, 'Kentucky, USA': 1, 'New Jersey/New York': 1, '#SandraBland': 1, \"'Merica\": 1, 'Harper Woods, MI': 1, 'dubai ': 1, 'staggering on tenement roofs': 1, 'houston': 1, 'Orlando ': 1, 'Noida, NCR, India': 1, 'MÌ©xico': 1, 'NYC / International': 1, 'PA, USA': 1, 'call me peach or sam lo': 1, 'LITTLETON, CO, USA, TERRAN': 1, 'shoujo hell ': 1, '10 Steps Ahead.  Cloud 9': 1, 'central chazifornia': 1, '????s ?? ????Ìø????Ì¡a': 1, 'T E X A S | wwat 8.24.14': 1, '876 Jamrock.': 1, 'å_å_Los Mina City\\x89ã¢': 1, 'St Louis, MO': 1, 'WORLDWIDE!': 1, 'Greensburg, PA': 1, 'Like us on Face ': 1, 'Montgomery County, MD': 1, 'Cambridge, Massachusetts, U.S.': 1, 'LOCAL ATLANTA NEWS 4/28/00 - 4/28/15 FREELANCER': 1, 'Your notifications': 1, 'Methville, CA': 1, 'I rap to burn shame.': 1, 'Los Angeles New York': 1, 'www.aprylpooley.com': 1, ' Little Rock, AR': 1, 'Gumptown': 1, 'Minneapolis/St. Paul': 1, 'Kirkwall': 1, 'dublin ': 1, 'ELVY': 1, 'Tunbridge Wells': 1, 'lowestoft': 1, 'North East / Middlesbrough ': 1, 'Londonstan': 1, 'Tring, UK': 1, 'Stage with Trey Songz': 1, 'Hampstead, London.': 1, 'Tamworth': 1, 'Kawartha Lakes, Ontario, Canad': 1, 'YA MOTHA BED': 1, 'Indiana, USA': 1, 'Illumination ': 1, 'Bathtub de Bett ': 1, 'Chasing My Dreams w/Jass??': 1, 'Rochester Hills, MI': 1, 'Davis, California': 1, 'Displaced Son of TEXAS!': 1, 'on twitter ': 1, 'Wolverhampton': 1, 'North Carolina ': 1, 'Manila City': 1, 'Kleenex factory': 1, 'Land Of The Kings': 1, 'Winter Park, Colorado': 1, '#ODU': 1, 'ona block w/ my BOY ??': 1, 'East Islip, NY': 1, 'but i love kaylen ??': 1, 'COMING SOON': 1, 'Gotham City,USA': 1, 'BROKE NIGGAS DREAM!!': 1, 'Las Vegas, NV ': 1, 'å¡å¡Midwest \\x89Û¢\\x89Û¢': 1, 'Riverdale, GA ': 1, 'Plano,TX': 1, 'Midwest City, OK': 1, 'Galapa / AtlÌÁntico': 1, 'STL ?NOLA': 1, 'instagram: bribriony': 1, 'Long Island': 1, 'Downtown Oklahoma City': 1, 'Seattle native in Prescott, AZ': 1, 'Savage States of America': 1, 'Whole World ': 1, 'Ibadan,Oyo state': 1, 'ngapain?': 1, 'Tema,Accra': 1, 'phuket thailand': 1, 'Unites States': 1, 'Santiago,RepÌ¼blica Dominicana': 1, 'Wilmington, Delaware': 1, 'iamdigitalent.com': 1, 'Evergreen Colorado': 1, 'The Peach State': 1, 'Halifax, Nova Scotia': 1, 'Deadend, UK': 1, 'Chester': 1, 'eBooks, North America': 1, 'Sydney & Worldwide': 1, 'Scotts Valley, CA': 1, 'IG/SC:bjfordiani': 1, 'Wisconsin, USA': 1, 'East Aurora, NY': 1, 'Woosley': 1, 'Hamilton, Ontario CA': 1, 'maryland': 1, 'Attock': 1, 'INDIA': 1, 'CPT & JHB, South Africa': 1, 'Oregon and Washington': 1, \"Yuuko-san's shop\": 1, 'Watertown, Mass.': 1, 'Milky Way galaxy ': 1, 'us': 1, '??? ???? ?f glory. ?': 1, 'Your Six': 1, 'ÌÏT: 1.50225,103.742992': 1, 'Newcastle, OK': 1, 'Oshawa/Toronto': 1, 'Very SW CA, USA....Draenor': 1, 'Amsterdam & Worldwide': 1, '3rd Eye Chakra': 1, 'Perth, Australia': 1, ' ? ??????? ? ( ?? å¡ ? ? ? å¡)': 1, 'Ted&Qz Inc, Ireland, Europe': 1, 'Santiago de Cmpostela Galicia': 1, 'cleveland, oh': 1, 'West Coast, Cali USA': 1, 'right here': 1, 'nashville, tn ': 1, 'Somewhere else...': 1, 'In a graveyard ': 1, 'Downtown Churubusco, Indiana': 1, 'Host of #MindMoversPodcast': 1, 'The D': 1, 'Still. ??S.A.N.D.O.S??': 1, \"We're All Mad Here\": 1, 'New Hampshire, USA': 1, 'ca(NADA) ': 1, 'T-Ville': 1, '//RP\\\\ ot @Mort3mer\\\\\\\\': 1, 'BROOKLYN, NYC': 1, 'åÊ(?\\x89Û¢`?\\x89Û¢å«)??': 1, 'New York 2099': 1, 'Halifax, NS, Canada': 1, 'UK,singer,songwriter,?2 act': 1, 'kediri,,jawa timur': 1, 'MI - CA': 1, 'Central Florida': 1, 'CT, USA': 1, 'www.twitch.tv/PKSparkxx': 1, 'statesboro/vidalia': 1, 'New Jersey, usually': 1, 'Haveli, Maharashtra': 1, 'Slateport City, Hoenn': 1, 'jayankondacholapuram.tamilnadu': 1, 'Denver Colorado. Fun Times': 1, 'Not Of This World': 1, 'ohio': 1, 'Proud @BuckMasonUSA supporter!': 1, 'Ely, Cambridgeshire': 1, 'GrC Founder, 8,000 Subscribers': 1, 'Beirut/Toronto': 1, 'Regalo Island': 1, 'california | oregon | peru |': 1, 'N. California USA': 1, 'Multinational *****': 1, 'rural ohio (fuck)': 1, 'Vermont, USA': 1, 'Hawthorne, NE': 1, '??? ?????????????': 1, 'Kernow': 1, 'Holly, MI': 1, 'Somewhere between here & there': 1, 'CHICAGO': 1, 'Frostburg': 1, 'Canterbury kent': 1, \"The Sun's Corona\": 1, 'Harbour Heights, FL': 1, 'Sheff/Bangor/Salamanca/Madrid': 1, 'Stamford & Cork (& Shropshire)': 1, '#KaumElite;#F?VOR;#SMOFC': 1, 'Richardson TX': 1, 'London, Sydney': 1, 'Internet': 1, 'Where I Need To Be': 1, 'Here, unless there.  ': 1, 'NEPA/570': 1, 'pettyville, usa': 1, 'Phila.': 1, 'brooklyn, NYC': 1, \"Atlanta - FAU class of '18\": 1, 'Bristol, England': 1, 'Twitterville': 1, 'Eastern Iowa': 1, 'Fort Walton Beach, FL': 1, 'Toronto, Bob-Lo, Miami Beach': 1, 'planet earth': 1, 'nap central': 1, 'Olathe, KS': 1, 'Madrid': 1, 'Hartford, Connecticut': 1, 'New Jersey ': 1, 'Cedar Island, Clinton CT 06413': 1, 'West Vancouver, B.C.': 1, 'Tucson, AZ': 1, 'Vail Valley': 1, 'Amsterdam | San Francisco': 1, 'Ashland, Oregon': 1, 'Riverside, California.': 1, 'Around the world': 1, 'Lancaster California': 1, '?? Cloud Mafia ??': 1, 'Eddyville, Oregon 97343': 1, 'Galveston, Texas': 1, 'Palm Beach County, FL': 1, 'Georgia ? Tennessee': 1, 'Gettysburg, PA': 1, 'Florida USA': 1, 'Hermitage, PA': 1, 'calgary,ab': 1, 'Newton, NJ 07860': 1, 'she/her/your majesty/empress': 1, 'LYNBROOK': 1, 'Argus Industries \\\\m/666\\\\m/': 1, 'Friendswood, TX': 1, 'Sugar Land, TX': 1, '(a) property of the universe': 1, 'Home is where we park it!': 1, 'Webster, TX': 1, 'Maracay y Nirgua, Venezuela': 1, 'North Cack/919': 1, 'Scottsdale, AZ': 1, 'Victoria, Canada': 1, 'FILM OUT LATE 2015': 1, 'Miami,Fla': 1, 'santo domingo': 1, 'Worldwide - Global': 1, 'Suva, Fiji Islands.': 1, 'Americas Newsroom': 1, 'Fredericksburg, Virginia': 1, \"Wherever I'm needed\": 1, 'Charlotte ': 1, 'Sale, England': 1, 'Newcastle, England ': 1, 'in my head': 1, 'Rutherfordton, NC': 1, 'Lake Highlands': 1, 'Charlotte, N.C.': 1, 'iPhone: 33.104393,-96.628624': 1, 'KADUNA, NIGERIA': 1, 'Shady Pines ': 1, 'Wales, United Kingdom': 1, ' Alex/Mika/Leo|18|he/she/they': 1, '?Gangsta OC / MV RP; 18+.?': 1, 'Earth: Senseless nonsense': 1, 'Not Steven Yeun / AMC.': 1, 'cody, austin follows ?*?': 1, 'moss chamber b': 1, '1/10 Taron squad': 1, 'Argentina': 1, ' ?currently writing a book?': 1, 'Lebanon, Tennessee': 1, 'Pratt-on-Wye': 1, 'Somerset, UK': 1, 'Atlanta, Georgia': 1, 'SF Bay Area, California / Greater Phoenix, AZ': 1, 'Alabama, USA': 1, 'Primum non nocere': 1, 'Gwersyllt, Wales': 1, 'Greenville': 1, 'Greenville, S.C.': 1, 'Innsmouth, Mass.': 1, '709?': 1, 'Norwich': 1, 'Canada BC': 1, 'Plano, IL': 1, 'scumbernauld': 1, 'khanna': 1, 'Bangkok': 1, 'Punjab': 1, 'No ID, No VOTE!!!': 1, 'Maharashtra': 1, \"Xi'an, China\": 1, \"Robin Hood's County \": 1, 'Milwaukee County': 1, 'Click the link below, okay ': 1, 'probably not home': 1, '6': 1, 'At your back': 1, 'Livingston, MT': 1, '  Glasgow ': 1, 'Denton, Texas': 1, 'TN': 1, '#NewcastleuponTyne #UK': 1, 'Lincoln': 1, \"Niall's place | SAF 12 SQUAD |\": 1, 'Los Angeles, Califnordia': 1, 'threeonefive. ': 1, 'Whoop Ass, Georgia': 1, 'scarborough, ontario': 1, '121 N La Salle St, Suite 500': 1, 'Wandering': 1, 'Homewood, PA': 1, 'Bexhill': 1, 'Anime World': 1, 'Cowtown, Caliii !!': 1, 'All Motorways, UK': 1, 'Frankfurt, Germany': 1, 'Las Vegas ': 1, 'Midland, Mi': 1, 'SÌ£o Vicente, SÌ£o Paulo': 1, 'Vault 101, Fallout': 1, 'Davis, CA': 1, 'In your hearts and minds': 1, 'Runcorn': 1, 'Lake Charles, LA': 1, 'inland empire ca': 1, 'Muscat': 1, 'USA - Global Online Sales ': 1, 'Istanbul, TÌ_rkiye': 1, 'High in Prague with Aya': 1, 'born on september 1st': 1, 'eileenborut,webster, tx': 1, 'upstate NY': 1, 'Salem, MA': 1, 'High Desert': 1, 'Plovdiv, Bulgaria': 1, 'Rhode Island, USA': 1, 'U.S.A.': 1, 'Wayne, NJ': 1, 'Az': 1, 'Wheeler,Wis.': 1, 'Spring Lake Park, MN': 1, 'DMZ, AZ': 1, 'Instagram:marissatunis': 1, 'Akron, Ohio ': 1, 'Currently Somewhere On Earth': 1, 'Irvine, CA': 1, 'Somewhere in the Internet...': 1, 'Arlington': 1, '1996???????????': 1, 'Northwest': 1, 'Phuket': 1, 'West Covina CA': 1, '#Capulets #5SOSfam #5quadfam ': 1, 'Bowling Green, Ky': 1, 'Logansport, Indiana': 1, 'Rexburg ID': 1, 'West Michigan': 1, 'ITUNES RADIO [Hiphop/Rap]': 1, 'Saginaw, Mich.': 1, 'Lawrence, KS': 1, 'Duo lane': 1, 'Reality Based World': 1, '3rd terrestrial planet, Sun': 1, 'Nanaimo, BC': 1, 'San Luis Obispo, California': 1, 'chi town        ': 1, 'Indianapolis': 1, 'venezuela': 1, 'My own little world.': 1, 'Twitter': 1, 'between here and there': 1, 'Revolutionary Road, USA': 1, 'Lucknow': 1, '1937 Germany ': 1, 'N.Y.C': 1, 'Superior, WI': 1, 'Down, down, baby...,SC.': 1, 'Turin': 1, 'Saint Andrews, Scotland': 1, 'KATONG PLAZA #02-10': 1, 'Valusia': 1, 'Midland, MI': 1, 'Seraphim Vault, Cosmodrone': 1, 'Gislaved': 1, 'USA!': 1, 'South of Boston': 1, 'baltimore ': 1, 'East Texas': 1, 'Springfield Tn': 1, 'Jacksonville, Florida': 1, 'Amsterdam NL or Greenwich USA': 1, 'Denver,CO USA': 1, 'The Forbidden Forest': 1, 'Capitol Hill, Washington': 1, 'Fargo, ND | North of Normal ': 1, 'Philippines :)': 1, 'Strathmore, California': 1, 'Lithgow, NSW, Australia': 1, 'North Hollywood, CA. (SoCal)': 1, 'Newburgh, NY': 1, 'New Bedford, MA': 1, 'Paradise ': 1, 'Outer Rim': 1, 'bkk': 1, \"ZIKKO'S HQ\": 1, 'Crawley, England': 1, 'On The Net': 1, 'Montreal,QC': 1, 'Dublin,Ireland': 1, '??????????? :P': 1, 'Mass.': 1, 'Sherbrooke & MontrÌ©al': 1, 'Northeast, Ohio': 1, 'Outworld': 1, 'Terre Haute': 1, 'psalms 27:1': 1, 'slytherin /': 1, 'Windy City, Land of the Snakes': 1, '35% gay. 65% water. ': 1, 'Oh.': 1, 'cucumber squad | she/her | ': 1, '8.27.14 & 7.28.15': 1, 'she/her ': 1, 'Texas, Forever ': 1, 'Coos Bay, OR': 1, 'Romans 1:16': 1, \"Your Girl's Pussy\": 1, 'twitch.tv/dgn_esports': 1, 'Eldora, IA': 1, 'Bridgetown, Barbados': 1, 'Stamford, CT': 1, 'Columbus, Ohio': 1, 'Upper Dicker, England': 1, 'centre of attention': 1, 'Highlands Ranch CO': 1, 'The other side of the mirror': 1, 'Metro Detroit': 1, 'Sporting capital of the World': 1, 'mn |7-18-13|8-27-14|7-26-15|': 1, 'Sunny Florida': 1, 'That place': 1, 'qui tacet consentire videtur': 1, 'Edwardsville, IL': 1, 'The Land of Pleasant Living': 1, 'Crescent Moon w/ Wook': 1, 'St Marys, OH': 1, \"305 but I'm So St. Louis...\": 1, 'Williamsport, PA': 1, 'XIX | 5SOS | Ed Sheeran |': 1, '             Waiheke Island': 1, 'Northampton': 1, 'Earthrealm': 1, 'Beacon Hills ~ The Glade': 1, 'IG: xbougiebri': 1, 'Scout Team ': 1, '? the Foothills of SC ?': 1, 'somewhere or other': 1, 'Toledo, OH ': 1, '22714 Ventura Blvd. WHills, CA': 1, 'Northern Scandinavia': 1, 'Salt Lake City': 1, 'Dalton': 1, 'DC Metro Area': 1, 'Rowlett, TX': 1, 'Bloemfontein, Free State': 1, \"Don't stalk me- thanks\": 1, 'North West': 1, 'On The Island: Nassau, Bahamas': 1, 'University, FL': 1, 'Harlem': 1, 'Wolfgangmuzic@gmail.com': 1, 'O-Town , The left end': 1, 'Botswana Gaborone': 1, 'Dirty Bay, CA': 1, 'Broward, Miami, Tally': 1, '10 hours from pluto': 1, 'West Monroe, Louisiana': 1, 'CLEVELAND': 1, 'Yemen': 1, 'Alexandria, VA ': 1, 'NYC, ??, VAN': 1, \"N 51å¡25' 0'' / W 0å¡45' 0''\": 1, 'Tinley Park, IL': 1, 'Long Beach, Dublin, Amsterdam': 1, 'shanghai': 1, 'VI~D[M]V': 1, 'SHIBUYA TOKYO JAPAN': 1, 'Ventura County': 1, 'Jaipur, Rajasthan': 1, '#uniteblue': 1, 'Vernal, Utah': 1, ' Birmingham.': 1, 'Jon Bellion | Luke Christopher': 1, 'These United States': 1, 'Tokyo JAPAN': 1, 'South East Asia': 1, 'Kill Devil Hills': 1, 'Derbyshire, England': 1, 'Saint-Petersburg': 1, 'New York City & Mpls/St. Paul': 1, 'Minneapolis St. Paul Minnesota': 1, 'manchester, UK': 1, 'Liverpool, England': 1, 'Las Baegas': 1, 'Rochester NY': 1, 'Sunshine Coast of BC': 1, 'Cin City': 1, 'Mighty Tempe, Arizona': 1, 'IG: 94fijiwater': 1, '?arsehole squad?': 1, 'Wherever the music takes me ': 1, 'Fallen TX': 1, '?????????, ?????-?????????': 1, 'ÌÏT: 41.373061,-71.942237': 1, 'TAIZ - YEMEN': 1, 'New Hampshire \\x89Û¢ WMUR ': 1, 'Yorkshire and London': 1, 'Kalispell, Montana': 1, '557619': 1, 'Dallas, Texas': 1, 'Poyth WesssterrrnnOystrayahhh': 1, 'Ecruteak City, Johto': 1, 'Ann Arbor, MI': 1, 'North Bellmore, NY': 1, 'Hutchinson, MN': 1, 'who fuckin knows': 1, 'NYC ?? PA': 1, 'Conover, NC': 1, 'Los Angeles/ Las Vegas/ Boston': 1, 'gateway regional hs': 1, 'daily ? 18 ? ?': 1, 'TÌÁchira, Venezuela': 1, 'faisalabad': 1, 'Austin Texas, Ontario Canada': 1, 'SW London (RBK)': 1, 'San Diegohhjhhhhhghghpjg': 1, 'SQU\\\\/D, uk': 1, '$$$': 1, ';)': 1, \"Ellixton London's 33rd Borough\": 1, 'Ngayogyakarta Hadiningrat ': 1, 'San Francisco, Los Angeles': 1, 'Canada | #LUX': 1, 'among the socially awkward ?': 1, 'West Hampstead, London NW6': 1, 'Paranaque City, National Capital Region': 1, 'Toronto  #6ixSideMafia': 1, 'jonas/lovato/bieber/5sos': 1, 'Carrboro, NC': 1, '#BVSTRONG': 1, 'Blackfield, England': 1, 'united states': 1, 'Cape Coral Fl': 1, 'Leanbox?': 1, 'Mechanicsville, VA': 1, 'www.facebook.com/Randirobics': 1, 'OHIO': 1, '? In your head ?': 1, 'hyejeong?taehyung': 1, 'Emirate': 1, 'Twin Cities, MN': 1, 'Leeds, England, United Kingdom': 1, 'burger king with usher': 1, 'Greece': 1, 'Batam': 1, 'Cramerton, NC': 1, 'San Antone': 1, '(queer, trans, he/him, black)': 1, 'Eugene, OR.': 1, 'EVERYWHERE, USA': 1, 'Tampa Bay': 1, 'sending rude things to heather': 1, 'Conway, AR': 1, 'ham ham clubhouse': 1, \"luisa's heart\": 1, 'Lehigh Acres, FL': 1, '#IzzoWorld': 1, 'Capital Federal, Argentina': 1, 'INEQUITY  IS  INJUSTICE || NJ': 1, 'Wellington, FL': 1, 'Denver Colorado': 1, 'Parkway, CA': 1, 'PPCC ': 1, 'The Open road!': 1, 'The New Way To Surf!': 1, 'Ponyville,Equestria ': 1, 'Highway to Hell': 1, 'Indian Trail, North Carolina': 1, 'Kentucky': 1, 'Pleasantville, NY': 1, 'Arlington VA (DC Area)': 1, 'Ventura, CA': 1, 'Swat Pakistan': 1, 'Edinburgh/ West Yorkshire': 1, '?illinois?': 1, 'pa': 1, 'Dreamville | Hoolagan': 1, 'MNL, Philippines': 1, 'Lawn, PA': 1, 'NoPa, San Francisco': 1, 'War Drobe, Spare Oom': 1, 'Motown, WV': 1, 'Fredericton, NB': 1, 'downriver.': 1, 'Ottawa, ON, Canada': 1, 'House of El': 1, 'Piscataway, NJ': 1, 'FL/NJ': 1, 'Hodesto, Cuntlifornia': 1, 'Jammu Kashmir ': 1, 'Lufkin.Texas,USA': 1, 'Mississauga': 1, 'Ohio land of no sun': 1, 'Nor Cal': 1, '770 to Benedict College ': 1, 'isabel beatriz paras de leon': 1, 'Waraq': 1, 'Winchester, UK': 1, 'Comox Valley Courtenay, BC  ': 1, 'Quezon City, PHILIPPINES': 1, 'Sittwe': 1, 'Seoul, Republic of Korea': 1, 'Vineland, NJ, USA': 1, 'Mansfield, Ohio': 1, 'Downtown New York': 1, 'Toronto, Ontario, Canada': 1, 'Queens': 1, 'BGSU': 1, 'Buzz City ': 1, 'In outer space': 1, 'Trujillo, Peru': 1, 'Huntington Beach, CA': 1, 'Leeds ': 1, \"N 32å¡39' 0'' / W 97å¡16' 0''\": 1, 'Brinscall, England': 1, 'it was yesterday :(': 1, 'Monaghan, Ireland': 1, 'dancer - Peter Pan panto 2015 ': 1, 'My World': 1, '65 Skelmersdale Lane': 1, 'wolverhampton, low hill': 1, 'bristol ': 1, 'Colwyn Bay, Wales': 1, 'Death City, Nevada': 1, 'Manchester,England': 1, 'In my baby with pie': 1, 'ICO Arkansas': 1, 'Prague, CZ, the Planet of Fans': 1, 'UAE': 1, 'Georgetown,Guyana': 1, 'Elko, Nevada': 1, 'Rochester Minnesota': 1, 'Eastbourne East Sussex ': 1, 'Calabasas, CA': 1, 'Montana': 1, 'South Wairarapa/Wellington ': 1, 'Hartford, CT': 1, 'West Powelton, Philadelphia': 1, 'Republic of Harper ': 1, 'Aragua': 1, \"'schland\": 1, 'Venice, Sweden': 1, 'Camberville (Bostonish)': 1, 'Nr Great Missenden, Bucks': 1, 'Southend-on-Sea, England': 1, 'Garland, Texas': 1, 'Your Backyard': 1, 'HTX iNNeRvErSe': 1, 'Pridelands, IN': 1, 'Connecticut, USA': 1, 'Ankeny': 1, 'Hiding in a cardboard box.': 1, 'Melbourne VIC Australia': 1, 'Bolton, England': 1, 'TO YOUR CHOSEN DESTINATION': 1, 'Carthage, OH': 1, 'cyberspace': 1, 'Wherever the #Sooners are': 1, 'Cheltenham': 1, 'Accrington, Lancashire': 1, 'Washington, DC and on planes': 1, 'DC & MoCo': 1, 'District of Columbia, USA': 1, 'PG': 1, 'Waterloo, Ontario, Canada': 1, 'st. louis, missouri': 1, 'Woodbridge, VA ': 1, '/ Kattappana, Kerala ': 1, 'Twin Falls, Idaho, 83301': 1, 'Michigander, USA': 1, 'From Harlem to Duke ! ': 1, 'Cardiff/London/NYC/Warwick': 1, 'Outreach Africa': 1, 'USA,Washington,Seattle': 1, 'LanÌ¼s': 1, 'Quezon City': 1, '#Global': 1, 'Phoenix, AZ ': 1, 'Between Manchester and Lille.': 1, 'globetrotter': 1, 'Raleigh': 1, 'Curitiba-PR': 1, '|Elsmere| Wilmington, DE.': 1, \"At Grandmother Willow's\": 1, 'festac,Lagos,Nigeria': 1, '@ArgentinaLiars ?| willbradley': 1, 'Dunedin, New Zealand': 1, 'norton ': 1, 'Rome': 1, 'L.A': 1, 'North Korea': 1, 'Hounslow, London': 1, 'lake worth, Fl': 1, 'The Floor': 1, 'Piedmont, CA': 1, 'The Interwebs!': 1, 'Nashville, Music City, USA': 1, 'Amsterdam, Worldwide': 1, 'Detroit, MI ': 1, 'Texas Hill Country': 1, 'charlotte, nc': 1, 'D.C.': 1, ' Aomori': 1, 'Boulder via DC': 1, 'Palacio, Madrid': 1, 'ShloMotion': 1, 'Poughkeepsie, NY': 1, 'Please follow and RT! :)': 1, 'dam squad 4 lyf': 1, 'astral plane': 1, 'south wales valleys': 1, 'toronto \\x89Û¢ unicorn island ': 1, 'wherever Wolf Blitzer is': 1, 'Polska': 1, 'Fort Worth, TX': 1, 'EspaÌ±a/Catalunya/Girona': 1, 'Greer, SC': 1, 'kansas USA': 1, 'crying': 1, 'UiTM, Shah Alam': 1, 'NYC/LI/NJ/LHV': 1, 'magodo': 1, 'usa': 1, 'Beaumont, Texas': 1, 'Cary, North Carolina': 1, 'San Gabriel Valley, CA': 1, 'arizona': 1, 'Windsor ??CT ': 1, 'Portugal-Spain-Indonesia': 1, 'Hustle Flow Nation': 1, 'Rock Hill , SC ': 1, '#NAME?': 1, 'Under Ya Skin': 1, 'land-where-everything-sucks': 1, 'England UK': 1, 'My Own Little Corner': 1, '3-Jan': 1, 'East Coast ': 1, 'Manhattan, New York': 1, \"East Carolina University'19 ??\": 1, 'BogotÌÁ, Colombia': 1, 'chillin': 1, 'ID where potatoes grow': 1, 'FEMA REGION 2': 1, 'California USA': 1, 'almonds': 1, 'Ex Astris Scientia. TSSADID.': 1, 'Johnstown, NY': 1, 'Doo Doo Boy Island': 1, 'real world': 1, '130515 \\x89Û¢ Gallavich.': 1, 'Bangalore,India': 1, 'Pico Rivera, CA': 1, 'Playing: HL2: EP1, Dust: AET': 1, 'Mtl': 1, 'East la Mirada, CA': 1, 'Louisville Kentucky': 1, 'Jeddah, Makkah Al Mukarrama': 1, 'Do Not Follow Me, Am I a Bot.': 1, 'Bay Area, California ': 1, 'Rocky Mountains Colorado': 1, 'San Bernardo - Chile': 1, 'Duel Academia': 1, '   Manchester/Nantwich': 1, 'Under the rain...': 1, 'clearlake': 1, 'Twitter.': 1, 'beyond time and space': 1, 'jds ': 1, 'Milan, Lombardy': 1, 'Metro, Lampung ~ Balikpapan': 1, 'Bieber Fever UK': 1, '32935': 1, '301|804': 1, 'Gap': 1, 'Stone Ridge, VA': 1, 'Staffordshire': 1, 'Central #Ohio': 1, 'hayling ': 1, 'Bikini Bottom': 1, 'mullingar ireland': 1, 'Nap town': 1, 'South Park  ??????????????????': 1, 'Isle of Patmos': 1, 'Modesto, CA': 1, \"Ton's Ì¡ead town åÈ Tx\": 1, 'ocsf': 1, 'Paonia, Colorado': 1, 'Tampa, Florida': 1, 'the Great White North': 1, 'Fishkill, NY': 1, 'edmonton': 1, 'In erotic world ': 1, 'Lismore, New South Wales': 1, 'Sunny South Africa': 1, 'Greenwich, London': 1, 'Lansing, MI USA': 1, '#ViewsAreMyOwn #IBackTheBlue': 1, 'Antioch, CA': 1, 'Issaquah, WA': 1, 'Bodmin, Cornwall': 1, 'Hagerstown, MD 21742': 1, '?? | pittsburgh ': 1, 'Berkeley, CA 94703, USA ? ': 1, 'West Baltimore ': 1, 'Hollywood, California': 1, 'Sydney - Australia': 1, 'AZ ? TX ? CA ? IL ?': 1, 'HEAVEN': 1, 'Kurdistan ': 1, 'foothills': 1, 'she/her? \\x89Û¢ tr \\x89Û¢ jordan': 1, 'Oregon & SW Washington': 1, 'Seattle/Snohomish/Redlands': 1, 'Grand Rapids, Mich.': 1, 'State of Jefferson': 1, 'Auckland NZ': 1, 'Everywhere.. ': 1, 'ON, Canada': 1, 'West Palm Beach, FL': 1, 'The Dalles, Oregon': 1, 'Edmonton Alberta Canada': 1, 'Pea Ridge, WV': 1, 'sam': 1, '~always in motion~': 1, 'Redding ': 1, 'Concord, North Carolina': 1, 'Alexander, Iowa': 1, 'ÌÏT: 39.168519,-119.766123': 1, 'Ittihad .f.c': 1, 'Canaduh': 1, 'Ì\\x81th Cliath, Ìäire': 1, 'My house probably': 1, 'LOST Angeles lol': 1, 'YouTube Channel': 1, 'Free Palestine | Save Gaza': 1, 'Land of the Free': 1, 'Be Earth': 1, 'West Virginia': 1, 'Hudson Valley,NY': 1, 'Blog': 1, 'Punjab, Pakistan': 1, 'Kyiv (Kiev), Ukraine (????, ????, ???????)': 1, 'somewhere in time': 1, 'Dublin, Ireland. ': 1, 'kyiv. ukraine': 1, 'Cincinnati': 1, 'Gurgaon': 1, 'NJ, Amerikkka': 1, 'Baroda': 1, 'Greenville, SC': 1, 'seattle': 1, 'VH1 Soul in a BET World ': 1, 'Sericita, Minas Gerais': 1, 'Bobba Island ': 1, 'Mainer missing Guatemala': 1, 'Planet Earth (mainly) #Neuland': 1, 'Amos,Quebec,Canada': 1, '??????????': 1, 'Windsor ON Canada': 1, 'garbage disposal bc im trash': 1, 'Sherman ave South Bronx #STF': 1, 'Free Hanseatic City of Bremen, Germany': 1, 'a pool of my own tears': 1, 'San Jose State University ': 1, 'OUTERSPACE': 1, 'Sea of Green': 1, 'San Antonio': 1, 'salem ma': 1, 'Lakeland Fl': 1, 'Wonderland': 1, 'Lampe, MO': 1, 'Queens, New York': 1, 'Fredericksburg, VA': 1, 'Indianapolis, Indiana': 1, 'Columbia, MO': 1, 'Stuck In Traffic': 1, 'Serving Oklahoma': 1, 'From Boston, for New England': 1, 'Goldsboro, NC': 1, 'Nevada': 1, 'Hull ma': 1, 'Cedar City, Utah': 1, 'live from the low end': 1, 'Little Rock': 1, 'bestatriz \\x89Û¢29/4 \\x89Û¢ #askdemigod ': 1, 'Fargo, ND': 1, 'Here, There & Everywhere..': 1, 'support all girls!': 1, 'Swansea': 1, 'Derbyshire': 1, 'Hawkes Bay, New Zealand': 1, 'Salford, Greater Manchester': 1, 'Whitley Bay, England': 1, 'Worldwalking': 1, 'Hermiston, Oregon': 1, 'Desloge, Mo': 1, 'yakima, wa': 1, '36702 State Road 52, Dade City': 1, 'State College Pa': 1, 'Miami - Support NAVY #SEALS ': 1, 'Tampa FL': 1, 'Montana Misery': 1, ' Elizabeth, NJ': 1, 'Guayaquil, Ecuador': 1, 'Brooksville, Florida': 1, 'Forest Grove, OR': 1, 'Babylon Up-On Hudson': 1, 'west coast ': 1, 'Muskegon, MI': 1, 'Panama City Beach, Florida': 1, 'Kruibeke, BelgiÌÇ': 1, 'Sales Specialist~ Worldwide  ': 1, 'Stgo, Chile': 1, 'Qwuank': 1, 'Townsville': 1, 'British Columbia': 1, 'St Louis': 1, 'Rapid City & The Black Hills': 1, 'Bending the elements.': 1, 'North East America': 1, 'Sudbury': 1, 'Calgary ': 1, 'Golden British Columbia Canada': 1, 'Ottawa Canada': 1, 'Calgary and USA': 1, 'Blue Nation Naija': 1, 'HamptonRoads, Virginia': 1, 'Karma ': 1, 'Mystic Falls': 1, 'Oro Valley, AZ': 1, 'Android Land': 1, 'Dark Night. ???? ??': 1, 'El Cerrito, CA': 1, 'Sunderland/The Saaf': 1, 'Mobile, AL': 1, 'Minnesota': 1, 'Yellowknife NT Canada': 1, 'For a healthier, happier YOU!': 1, 'vb/norfolk,va': 1, 'Rahway, NJ': 1, 'Stockport, Uk': 1, 'Deerfield Beach Florida': 1, 'Milan, Italy': 1, 'Chiba,very close to Tokyo.': 1, 'Beal Feirste Northern Ireland': 1, 'Out and about ': 1, 'In my head.....': 1, 'Egypt': 1, 'Delta, Nigeria': 1, 'UK & Oversees': 1, '???/??': 1, '????? ?? ?????? -????? ????': 1, '#HDYNATION': 1, 'Saint Petersburg, FL': 1, 'Over the Hills and Far Away': 1, 'Roermond': 1, 'Amman': 1, 'California Central Valley': 1, 'The Court of Public Opinion.': 1, 'Chinade, Nigeria': 1, 'http://wingssilverwork.com': 1, 'Moncton, NB': 1, ' way way way up ??': 1, 'Limerick, Ireland.': 1, 'Long Island, New York': 1, 'Lahore, Pakistan': 1, 'Niels Groeneveld / RedSocks': 1, 'Behavioral Analysis Unit (BAU)': 1, ' Cairo': 1, 'Brentwood uk': 1, 'Hubli, Karnataka': 1, 'my USA, åµ???? ?aÌÙ? ': 1, 'melbs 1/2 #rham': 1, 'Astoria, NY': 1, 'Tuscumbia, AL': 1, 'MS': 1, 'Dublin ': 1, 'tacompton, washington ': 1, 'South Africa Braamfontein': 1, 'The North Coast': 1, 'United States, Ohio': 1, 'Nj ?? Az ': 1, '| INDIA |': 1, 'chapel hill, cary n.c.': 1, 'Glendale, AZ': 1, 'Covering the U.S.A.': 1, 'Fantasy Land': 1, 'Kibworth Beauchamp, England': 1, '3/12 + Jake Miller': 1, 'www.dorsavi.com': 1, 'All Round The World': 1, 'Bellingham, WA': 1, 'Searching for Rivendell': 1, 'Shrewsbury, England': 1, 'GroÌÙdeutsches Reich': 1, 'Beijing,China': 1, 'RELEASE THE REIS  ': 1, 'That London': 1, '#RoshanPakistan': 1, 'Wickford': 1, 'Central New Jersey': 1, 'Shangri-La': 1, 'Morgantown, WV': 1, 'Upper St. Clair': 1, 'trinity nc': 1, 'Budgam kashmir': 1, 'somewhere over the rainbow': 1, 'Staten Island, NY': 1, 'NWA & River Valley': 1, 'Winston Salem NC': 1, 'Nashville, Tenn.': 1, 'in your dreams': 1, 'Santa Cruz ': 1, 'Detroit, Mi': 1, 'Raleigh, North Carolina, USA': 1, 'The Three Broomsticks ': 1, '17 year old anti-theist.': 1, 'Albany, Western Australia': 1, 'The Real World': 1, 'Islamabad Pakistan': 1, 'Pedophilia': 1, 'Reaching for the stars ': 1, 'Still on my laptop': 1, 'Fukushima, JAPAN': 1, 'Los Angeles via Pittsburgh': 1, 'University of Maryland': 1, 'Santos, SÌ£o Paulo': 1, 'House of the Rising Sun': 1, '@KEYTNC3 @KCOY': 1, 'Wales Cymru': 1, 'Perth, Scotland': 1, 'SweizyLand': 1, 'Ohio...yep we said it.': 1, 'Dili. East Timor': 1, 'Hollywood, Ca': 1, 'The Woodlands, TX': 1, 'Central Jersey': 1, 'Boston/NY/Montreal/London': 1, 'Iowa': 1, \"Wouldn't u like to know\": 1, 'North Vernon, IN': 1, 'Manisto Trap House ': 1, 'St. Catherine, Jamaica, W.I.': 1, 'Tuksa, OK': 1, 'FL.CO.HI.NJ': 1, 'PrincetonAve': 1, 'West Coast, Canada': 1, 'Syracuse, NY': 1, 'Boca Raton, FL': 1, 'Merseyside': 1, 'Kocaeli-Izmit': 1, 'LaPorte, IN': 1, 'tarn et garonne/lot et garonne': 1, '1/11 numberjacks squad': 1, 'Sandbach Cheshire UK ': 1, 'ÌÏT: 58.193556,-5.334943': 1, 'St Albans': 1, 'California most of the time': 1, 'Nepal': 1, 'bishop amat': 1, 'Canberra (mostly)': 1, 'U.A.E.': 1, 'Modishthaan': 1, 'Washington, DC area': 1, 'Interwebs': 1, 'Thessaloniki, Greece': 1, 'Almost there ': 1, 'Japan ': 1, ' Stah-koomi-tapii-akii': 1, 'Brussels': 1, 'VA': 1, 'Tokio / Tokyo': 1, 'Haifa, Israel': 1, 'Washington DC region': 1, 'Head of the Family': 1, 'Lemon Grove, CA': 1, 'Orlando, FL ': 1, 'Cape Coral, FL USA': 1, 'Denver|Boulder|Ft. Collins, CO': 1, 'trashcan somewhere in hell': 1, ' ? they/them ?': 1, 'Bucks': 1, 'FL': 1, 'Rhyming': 1, 'Grand Rapids, MI': 1, 'Nanda Parbat': 1, 'MIA': 1, 'LastLevelPress.com': 1, 'Metropolis, TX': 1, 'uchiha': 1, 'Nigeria,West African': 1, 'The best side of middlesbrough': 1, 'Harlem New York': 1, 'Port Townsend, WA': 1, 'U.S.A. ': 1, 'KNOXVILLE TN USA': 1, 'Virginia (USA)': 1, 'Utopia ': 1, 'Arlington\\n': 1, 'Dallas': 1, 'Lagos,nigeria': 1, 'LND Greatest City In the World': 1, 'Loreto College, Mullingar': 1, 'lagos': 1, 'Jabalpur': 1, 'Nigeria|| Lagos': 1, 'sad': 1, 'St. Louie': 1, 'Louisiana the real La': 1, 'they/them or she/her': 1, 'North Devon, UK ': 1, 'leicester': 1, 'Italia': 1, 'omaha neblastya': 1, 'Home is wherever I am ': 1, '9.25.14?8.5.15?10.6.15 | gen?': 1, 'Bedford': 1, 'Wolverhampton ': 1, 'Philadelphia & Worldwide': 1, 'Uganda l Africa l Worldwide. ': 1, 'Colorado, The Mile High City': 1, '2014.02.14~ing': 1, 'Milano': 1, 'Johnson County, Kansas': 1, 'ÌÏT: 41.106046,-80.657836': 1, 'someplace safe': 1, 'Chattanooga, TN': 1, 'Pretoria, South Africa': 1, '?x??p = ?/2': 1, 'Morganton GA': 1, 'Salem, OR': 1, 'nipple squad makes me happy': 1, 'Secane, PA': 1, 'Keffi': 1, 'Kent, United Kingdom': 1, 'Banner Elk, NC': 1, 'South East Florida': 1, 'Harare': 1, 'Kaneville': 1, 'Try looking at the map?': 1, 'Digitosphere': 1, 'University of Alabama': 1, 'Kansas  KS': 1, 'Toulouse Haute-Garonne France': 1, 'Hannover': 1, 'Shellharbour, Wollongong': 1, 'lbtidronegirlshell ': 1, 'Europa': 1, 'Chillicothe, OH': 1, 'Lexington, KY': 1, ' Kaijo High School': 1, 'Summerside': 1, 'Niger State': 1, 'Burnley, Lancashire': 1, 'Pembroke Dock, Wales': 1, 'Bath, England': 1, 'ÌÏT: 50.953278,-113.978785': 1, 'Rome, IT': 1, 'Los Angeles, CA 90045': 1, 'Orange County, California ': 1, '9 Benua Ltd.': 1, 'ÌÏT: 7.384559,3.8793718': 1, 'Manado,Sulawesi Utara': 1, 'Wakefield, England': 1, '#sundaunited': 1, 'GO Bucks!': 1, 'Cali': 1, 'Tri-State': 1, '#DCjacobin': 1, 'Davis': 1, 'å©hicago': 1, 'Portland': 1, 'UberlÌ¢ndia - MG - Brasil': 1, 'Diantara Temlen Laksani': 1, 'HUSTON TEXAS 1-844-360-WISE': 1, 'West Coast': 1, 'MANAGEMENT MULTIMEDIA': 1, 'CANADA ': 1, 'Globally 1-844-360-WISE': 1, '55 Wall Street': 1, 'teen top ? jongsuk ? exo ? bts': 1, \"In ma daddy nd mummy's. Hart..\": 1, 'Albequerque': 1, 'Monroe, OH': 1, 'bang bang bang': 1, 'West Midlands, England': 1, 'WARNING: I TWEET NSFW AND NSFL': 1, 'quantico': 1, 'Holland,MI': 1, 'fairly local': 1, 'earth': 1, 'started acc 1.9.15 2:25 pm': 1, 'she/her \\x89Û¢ 19 \\x89Û¢ poland': 1, 'Rice Lake, WI/Toronto, ON': 1, 'trust none..': 1, 'Atlanta, GA (kind of)': 1, 'IRELAND ': 1, 'with my music and air heads': 1, 'Honeymoon Tour 03.26.15?': 1, 'HYPE RESSHA HYPE RESSHA': 1, \"Trapin'\": 1, 'moon ': 1, '#ALLblacklivesmatter': 1, 'North Druid Hills, GA': 1, 'stars/pens/caps/hawks': 1, 'In A Multi-Fandom': 1, 'Malta; Gozo': 1, 'Kanto, Japan': 1, 'mombasa': 1, 'University of Oklahoma': 1, 'Georgia/Florida  ': 1, 'London / Herts': 1, 'Kano': 1, \"Maryland/Myrtle Beach CCU'19\": 1, '#TeamHKNgang ': 1, 'palm spraangs': 1, 'Berisso, Argentina': 1, 'Texas, United States': 1, '62': 1, 'new jersey': 1, 'Atrapada en el mundo.': 1, 'probably bargos': 1, 'Moreno City - Buenos Aires': 1, 'Salem, Oregon': 1, 'Franklinton - BR - Houston': 1, 'Roseland': 1, 'Barnsley': 1, 'IL?MI': 1, 'your mom': 1, ' ': 1, 'bliss': 1, '@rejxctedmgc is my Harry?': 1, 'kentucky': 1, 'ig: j.nessaa': 1, 'madrid': 1, 'NJ, USA': 1, 'The Land of Make Believe': 1, 'Alberta, Canada': 1, 'Saint John, N.B, Canada ': 1, 'Northeast United States ': 1, 'New England ????': 1, 'AUSTRALIA': 1, 'Florence, SC': 1, 'Sunmy Melbourne, England': 1, '424 N. FAIRFAX AVE. 90036': 1, 'Fairbanks Alaska': 1, 'Where is my mind?': 1, 'North Coast of O-H-I-O': 1, 'Oman ': 1, 'BLF (MP)/ PTA (GP)/ PHB(LIMPS)': 1, 'Bedford Stuyvesant, Brooklyn': 1, 'SP - Brasil #1': 1, 'Lakerland': 1, 'Utica , New York (Upstate) ': 1, 'Washington DC, an airport ': 1, 'St.Louis': 1, 'Stone Mountain, GA': 1, 'Virginia Beach, VA USA': 1, 'BurBank, CA': 1, 'Fano (Italy)': 1, 'Swaggdad, Irock': 1, 'lagos , Usa': 1, 'Seek for LIGHT today!!!': 1, 'London/Lagos': 1, 'YesNaija.com': 1, 'Netherverse': 1, 'Vienna, Austria, Europe': 1, 'istanbul': 1, 'philadelphia, pa': 1, 'Sussex, UK': 1, '{Daughter of Ares} {Eighteen}': 1, 'Tweets by David ': 1, 'vine: woah stelena ': 1, '  ?becky?chloe?': 1, 'St. Catharines': 1, \"sarah's dreads\": 1, 'Kearney (area) Nebraska': 1, '???\\x89Û¢???\\x89Û¢s??\\x89Û¢????\\x89Û¢????????s': 1, 'HELL': 1, 'm a a l k ': 1, '6/24/12 7/21/13 8/22/14 7/17/15': 1, 'portsmouth ': 1, 'behind them oranges': 1, 'London. ': 1, 'Paddington, London': 1, 'argentina': 1, 'uncanny valley': 1, 'Gornal - England': 1, 'Keeper of the TriForce ': 1, 'Cardiff': 1, 'Carlow, Ireland': 1, 'Bangkok, Thailand.': 1, 'Brisbane, Australia': 1, 'SDF-1 Macross S. Ataria Island': 1, 'SantibaÌ±ez de Vidriales ZAMORA': 1, 'Temple, GA': 1, 'Denver, Co': 1, 'Last Legs, New Zealand': 1, 'Greater Boston Area': 1, 'Udaipur': 1, '                           FLA': 1, 'Citizen of the World': 1, '(SoCal)': 1, 'Kurnool': 1, 'Tampa Bay. Fire the cannons': 1, 'Lagos, Nigeria.': 1, 'patna': 1, 'Bharat.': 1, 'Portland, Oregon, USA': 1, 'phx az': 1, 'kolkata': 1, '@kiarakardashhh | Fayetteville': 1, 'Michigan ?? South Carolina': 1, 'Journey ': 1, 'ny || ga': 1, 'Red Deer, Alberta, Canada': 1, 'OKC': 1, 'Lake Hefner Bike Trail': 1, 'Cambridge ': 1, 'finland ': 1, 'Florence, South Carolina': 1, '336': 1, 'ÌÏT: 35.353272,-78.553744': 1, 'Mumbai, India.': 1, 'Any town USA': 1, 'riverwest, milw ': 1, 'bucky barnes hell': 1, 'SÌ©te, France, (foto c.1968)': 1, 'Berkeley, CA': 1, 'Sheeps Clothing': 1, 'Jefferson, GA': 1, 'Namma Bengaluru': 1, 'instagram- joeyparmenterr': 1, 'Ur BaQ': 1, 'A glass case of emotions': 1, 'N.E.Ohio': 1, 'Austin,Tx': 1, 'Brooklyn, NY and Norfolk, Va': 1, 'S.P.Brasil': 1, '53.337853,-6.288693': 1, 'MakoHaru Hell': 1, 'Time for NON VIOLENT dissent! ': 1, 'Halifax, Nova Scotia, Canada': 1, 'Bideford, England': 1, 'Plymouth': 1, 'Unauthentically British UK': 1, 'Free and democratic Britain': 1, 'Southeast Michigan (HOTH)': 1, 'City of Bacoor, CALABARZON PHL': 1, 'SeattIe': 1, 'Lawrence, MA': 1, 'Lansing ?? Ypsilanti ': 1, 'Kansas ': 1, 'rest easy angel @datboiiharri.': 1, 'SIUC | 618': 1, 'Okinawa': 1, 'http://t.co/mOY6lmu': 1, 'Quezon, Philippines': 1, 'boca raton': 1, 'Flat Rock': 1, 'Bengaluru, India': 1, 'ID': 1, 'BHUBANESWAR': 1, 'No': 1, 'Andhra Pradesh, India': 1, 'Surrey, BC': 1, 'Bentonville, Arkansas': 1, 'Philadelphia; World War I': 1, 'Shanatic/GGian/SRKian': 1, 'Harvard Square, Cambridge, MA': 1, 'Greater Vancouver, British Columbia': 1, 'Herbville': 1, 'Richmond, VA & Bristow, VA': 1, 'Algonquin, IL': 1, 'Worcester': 1, 'Sawangan 1, Central Java': 1, 'Baker, Louisiana': 1, 'Enemy of the state ': 1, 'baltimore maryland': 1, 'Wellington City, New Zealand': 1, 'MDS af ?': 1, 'Canton Ohio': 1, 'In Range ': 1, \"Sky's The limit (B.I.G) ????\": 1, 'Monroe,LA': 1, 'PNW': 1, '????????': 1, 'Pune, Maharashtra India': 1, '?orth, SG. ': 1, 'GARRUS?': 1, 'Sheffield.?': 1, 'Northwest Jersey': 1, 'YYC': 1, 'New york': 1, 'North Tonawanda, NY': 1, \"Where e'er the mood takes me\": 1, 'Montana/North Carolina': 1, 'FRM JERZ LIVING IN DADE COUNTY': 1, 'Brantford, Ontario': 1, 'Tucson, Arizona': 1, 'West Virginia ': 1, '408 N. Western, Wenatchee, WA ': 1, '28.709672,-97.376514': 1, 'Pasadena, TX': 1, '?? Newport , RI ??': 1, 'Chicago, Illinois  ': 1, 'Mii Facebook': 1, 'Southern Cali': 1, '626 - 702': 1, 'Gauteng Heidelberg,Ratanda': 1, 'Back of the beyond, Lesotho': 1, 'CLT via NOLA via MO via MN': 1, 'the beautiful Northwest (USA)': 1, 'Washington D.C. / Istanbul': 1, 'Vancouver ': 1, 'K-Town ': 1, '#Kashmir': 1, \"sam's town\": 1, 'atl, ga': 1, 'probably in hell ': 1, 'St. Petersburg. Fla.': 1, 'Inwood ontario': 1, 'would rather be in my room': 1, 'Philippians 4:13': 1, 'our galaxy': 1, 'Sunny Southern California': 1, 'Plymouth, England': 1, 'Deep in the heart of LibLand': 1, 'Canada,Ontario': 1, 'Love Reiss': 1, 'Seattle Washington': 1, 'Acey mountain islanddåÇTorontoåÈ': 1, 'Brussels, Belgium': 1})\n"
     ]
    }
   ],
   "source": [
    "location_train = collections.Counter(location)\n",
    "print(location_train)"
   ]
  },
  {
   "cell_type": "markdown",
   "metadata": {},
   "source": [
    "*Olhando a freqüência da localidade das tweets, acredito que essa feature não vai contribuir para a previsão \n",
    "dos desastres, considerando que o dado está muito sujo, desnormalizado e não tem um padrão. Vou excluir essa feature do modelo*"
   ]
  },
  {
   "cell_type": "code",
   "execution_count": 15,
   "metadata": {},
   "outputs": [],
   "source": [
    "df.drop('location', axis=1, inplace=True)"
   ]
  },
  {
   "cell_type": "code",
   "execution_count": 16,
   "metadata": {},
   "outputs": [],
   "source": [
    "df['keyword'] = df['keyword'].apply(lambda x: str(x).replace('nan', 'Not identified'))"
   ]
  },
  {
   "cell_type": "code",
   "execution_count": 17,
   "metadata": {},
   "outputs": [],
   "source": [
    "keyword = list(df['keyword'])"
   ]
  },
  {
   "cell_type": "code",
   "execution_count": 18,
   "metadata": {},
   "outputs": [
    {
     "name": "stdout",
     "output_type": "stream",
     "text": [
      "Counter({'Not identified': 87, 'ablaze': 50, 'accident': 50, 'aftershock': 50, 'airplane%20accident': 50, 'ambulance': 50, 'annihilated': 50, 'annihilation': 50, 'apocalypse': 50, 'armageddon': 50, 'army': 50, 'arson': 50, 'arsonist': 50, 'attack': 50, 'attacked': 50, 'avalanche': 50, 'bioterror': 50, 'bioterrorism': 50, 'blaze': 50, 'blazing': 50, 'bleeding': 50, 'blew%20up': 50, 'blight': 50, 'blizzard': 50, 'blood': 50, 'bloody': 50, 'blown%20up': 50, 'body%20bag': 50, 'body%20bagging': 50, 'body%20bags': 50, 'bomb': 50, 'bombed': 50, 'bridge%20collapse': 50, 'buildings%20burning': 50, 'buildings%20on%20fire': 50, 'burned': 50, 'burning': 50, 'burning%20buildings': 50, 'casualties': 50, 'casualty': 50, 'catastrophe': 50, 'catastrophic': 50, 'cliff%20fall': 50, 'collapse': 50, 'collapsed': 50, 'collide': 50, 'collided': 50, 'crash': 50, 'crashed': 50, 'crush': 50, 'crushed': 50, 'curfew': 50, 'cyclone': 50, 'damage': 50, 'danger': 50, 'dead': 50, 'death': 50, 'deaths': 50, 'debris': 50, 'deluge': 50, 'deluged': 50, 'demolish': 50, 'demolished': 50, 'demolition': 50, 'derail': 50, 'derailed': 50, 'derailment': 50, 'desolation': 50, 'destroy': 50, 'destroyed': 50, 'destruction': 50, 'detonate': 50, 'detonation': 50, 'devastated': 50, 'devastation': 50, 'disaster': 50, 'displaced': 50, 'drought': 50, 'drown': 50, 'drowned': 50, 'drowning': 50, 'dust%20storm': 50, 'earthquake': 50, 'electrocute': 50, 'electrocuted': 50, 'emergency': 50, 'emergency%20plan': 50, 'emergency%20services': 50, 'engulfed': 50, 'evacuate': 50, 'evacuated': 50, 'evacuation': 50, 'explode': 50, 'exploded': 50, 'explosion': 50, 'eyewitness': 50, 'famine': 50, 'fatal': 50, 'fatalities': 50, 'fatality': 50, 'fear': 50, 'fire': 50, 'fire%20truck': 50, 'first%20responders': 50, 'flames': 50, 'flattened': 50, 'flood': 50, 'flooding': 50, 'floods': 50, 'forest%20fires': 50, 'hail': 50, 'hailstorm': 50, 'harm': 50, 'hazard': 50, 'hazardous': 50, 'heat%20wave': 50, 'hellfire': 50, 'hijack': 50, 'hijacker': 50, 'hijacking': 50, 'hostage': 50, 'hostages': 50, 'hurricane': 50, 'injured': 50, 'injuries': 50, 'injury': 50, 'inundated': 50, 'landslide': 50, 'lava': 50, 'lightning': 50, 'loud%20bang': 50, 'mass%20murder': 50, 'massacre': 50, 'mayhem': 50, 'meltdown': 50, 'military': 50, 'mudslide': 50, 'natural%20disaster': 50, 'nuclear%20disaster': 50, 'nuclear%20reactor': 50, 'obliterate': 50, 'obliterated': 50, 'obliteration': 50, 'oil%20spill': 50, 'outbreak': 50, 'pandemonium': 50, 'panic': 50, 'panicking': 50, 'police': 50, 'quarantine': 50, 'quarantined': 50, 'rainstorm': 50, 'razed': 50, 'refugees': 50, 'rescued': 50, 'rescuers': 50, 'riot': 50, 'rioting': 50, 'rubble': 50, 'ruin': 50, 'sandstorm': 50, 'screamed': 50, 'screaming': 50, 'screams': 50, 'seismic': 50, 'sinkhole': 50, 'sinking': 50, 'siren': 50, 'sirens': 50, 'smoke': 50, 'snowstorm': 50, 'storm': 50, 'stretcher': 50, 'structural%20failure': 50, 'suicide%20bomb': 50, 'suicide%20bomber': 50, 'suicide%20bombing': 50, 'sunk': 50, 'survive': 50, 'survived': 50, 'survivors': 50, 'terrorism': 50, 'terrorist': 50, 'thunder': 50, 'thunderstorm': 50, 'tornado': 50, 'tragedy': 50, 'trapped': 50, 'trauma': 50, 'traumatised': 50, 'trouble': 50, 'tsunami': 50, 'twister': 50, 'typhoon': 50, 'upheaval': 50, 'violent%20storm': 50, 'weapon': 50, 'weapons': 50, 'whirlwind': 50, 'wild%20fires': 50, 'wildfire': 50, 'windstorm': 50, 'wounded': 50, 'wounds': 50, 'wreck': 50, 'wreckage': 50, 'wrecked': 50, 'collision': 49, 'mass%20murderer': 46, 'chemical%20emergency': 45, 'desolate': 45, 'bombing': 42, 'volcano': 42, 'bush%20fires': 38, 'war%20zone': 35, 'battle': 33, 'rescue': 33, 'forest%20fire': 24, 'threat': 16, 'inundation': 14, 'radiation%20emergency': 14, 'epicentre': 13})\n"
     ]
    }
   ],
   "source": [
    "keyword_train = collections.Counter(keyword)\n",
    "print(keyword_train)"
   ]
  },
  {
   "cell_type": "markdown",
   "metadata": {},
   "source": [
    "*A feature de keyword acredito que tenha mais relevancia para o modelo, os termos estão normalizados e apresentam uma distribuição mais uniforme.*"
   ]
  },
  {
   "cell_type": "code",
   "execution_count": 19,
   "metadata": {},
   "outputs": [],
   "source": [
    "keyword_train = dict(keyword_train)"
   ]
  },
  {
   "cell_type": "code",
   "execution_count": 20,
   "metadata": {},
   "outputs": [],
   "source": [
    "df_keyword_train = pd.Series(keyword_train)"
   ]
  },
  {
   "cell_type": "code",
   "execution_count": 21,
   "metadata": {},
   "outputs": [],
   "source": [
    "df_keyword_train = df_keyword_train.sort_values(ascending=False)"
   ]
  },
  {
   "cell_type": "code",
   "execution_count": 22,
   "metadata": {},
   "outputs": [
    {
     "data": {
      "text/plain": [
       "Not identified    87\n",
       "drowned           50\n",
       "drought           50\n",
       "displaced         50\n",
       "disaster          50\n",
       "dtype: int64"
      ]
     },
     "execution_count": 22,
     "metadata": {},
     "output_type": "execute_result"
    }
   ],
   "source": [
    "df_keyword_train.head()"
   ]
  },
  {
   "cell_type": "code",
   "execution_count": 23,
   "metadata": {},
   "outputs": [],
   "source": [
    "df_train_1 = df[df['target'] == 1]"
   ]
  },
  {
   "cell_type": "code",
   "execution_count": 24,
   "metadata": {},
   "outputs": [],
   "source": [
    "keyword_1 = list(df_train_1['keyword'])"
   ]
  },
  {
   "cell_type": "code",
   "execution_count": 25,
   "metadata": {},
   "outputs": [
    {
     "name": "stdout",
     "output_type": "stream",
     "text": [
      "Counter({'Not identified': 42, 'derailment': 39, 'outbreak': 39, 'wreckage': 39, 'debris': 37, 'oil%20spill': 37, 'typhoon': 37, 'evacuated': 32, 'rescuers': 32, 'suicide%20bomb': 32, 'suicide%20bombing': 32, 'nuclear%20disaster': 31, 'razed': 31, 'airplane%20accident': 30, 'earthquake': 30, 'suicide%20bomber': 30, 'bridge%20collapse': 29, 'collision': 29, 'wildfire': 29, 'buildings%20on%20fire': 28, 'casualties': 28, 'drought': 28, 'evacuation': 28, 'mass%20murder': 28, 'sandstorm': 28, 'bombing': 27, 'devastation': 27, 'forest%20fires': 27, 'hostages': 27, 'sinkhole': 27, 'wild%20fires': 27, 'deaths': 26, 'derailed': 26, 'displaced': 26, 'famine': 26, 'fatal': 26, 'fatalities': 26, 'floods': 26, 'thunderstorm': 26, 'violent%20storm': 26, 'wounded': 26, 'attack': 25, 'evacuate': 25, 'flooding': 25, 'heat%20wave': 25, 'massacre': 25, 'accident': 24, 'buildings%20burning': 24, 'dust%20storm': 24, 'hailstorm': 24, 'injured': 24, 'terrorism': 24, 'collided': 23, 'rioting': 23, 'structural%20failure': 23, 'terrorist': 23, 'arson': 22, 'bioterror': 22, 'fire%20truck': 22, 'hazardous': 22, 'refugees': 22, 'tragedy': 22, 'attacked': 21, 'bioterrorism': 21, 'burning%20buildings': 21, 'crashed': 21, 'emergency%20plan': 21, 'police': 21, 'survivors': 21, 'ambulance': 20, 'catastrophic': 20, 'explosion': 20, 'hurricane': 20, 'bombed': 19, 'cyclone': 19, 'damage': 19, 'engulfed': 19, 'hijacker': 19, 'mass%20murderer': 19, 'bush%20fires': 18, 'devastated': 18, 'hail': 18, 'natural%20disaster': 18, 'rainstorm': 18, 'storm': 18, 'volcano': 18, 'derail': 17, 'lightning': 17, 'rescued': 17, 'weapons': 17, 'hijack': 16, 'tornado': 16, 'windstorm': 16, 'bomb': 15, 'casualty': 15, 'chemical%20emergency': 15, 'collapse': 15, 'disaster': 15, 'drowned': 15, 'flood': 15, 'forest%20fire': 15, 'hijacking': 15, 'hostage': 15, 'emergency': 14, 'landslide': 14, 'nuclear%20reactor': 14, 'quarantined': 14, 'weapon': 14, 'whirlwind': 14, 'ablaze': 13, 'collapsed': 13, 'electrocuted': 13, 'flames': 13, 'seismic': 13, 'snowstorm': 13, 'crash': 12, 'eyewitness': 12, 'first%20responders': 12, 'mudslide': 12, 'thunder': 12, 'annihilated': 11, 'emergency%20services': 11, 'fire': 11, 'injury': 11, 'trauma': 11, 'tsunami': 11, 'annihilation': 10, 'burning': 10, 'detonate': 10, 'fatality': 10, 'rubble': 10, 'survived': 10, 'wounds': 10, 'apocalypse': 9, 'death': 9, 'demolition': 9, 'destroy': 9, 'detonation': 9, 'drowning': 9, 'exploded': 9, 'injuries': 9, 'sunk': 9, 'trapped': 9, 'arsonist': 8, 'cliff%20fall': 8, 'danger': 8, 'destroyed': 8, 'military': 8, 'pandemonium': 8, 'sinking': 8, 'burned': 7, 'catastrophe': 7, 'dead': 7, 'deluged': 7, 'demolished': 7, 'desolate': 7, 'desolation': 7, 'hazard': 7, 'hellfire': 7, 'loud%20bang': 7, 'sirens': 7, 'war%20zone': 7, 'wreck': 7, 'deluge': 6, 'destruction': 6, 'inundated': 6, 'riot': 6, 'upheaval': 6, 'armageddon': 5, 'army': 5, 'battle': 5, 'blaze': 5, 'bleeding': 5, 'blood': 5, 'blown%20up': 5, 'body%20bagging': 5, 'curfew': 5, 'demolish': 5, 'fear': 5, 'flattened': 5, 'lava': 5, 'meltdown': 5, 'quarantine': 5, 'radiation%20emergency': 5, 'rescue': 5, 'screams': 5, 'siren': 5, 'survive': 5, 'trouble': 5, 'twister': 5, 'avalanche': 4, 'blizzard': 4, 'crush': 4, 'crushed': 4, 'harm': 4, 'obliterate': 4, 'obliterated': 4, 'obliteration': 4, 'screamed': 4, 'bloody': 3, 'collide': 3, 'drown': 3, 'explode': 3, 'mayhem': 3, 'panic': 3, 'smoke': 3, 'stretcher': 3, 'wrecked': 3, 'blew%20up': 2, 'blight': 2, 'inundation': 2, 'panicking': 2, 'screaming': 2, 'threat': 2, 'traumatised': 2, 'blazing': 1, 'body%20bag': 1, 'body%20bags': 1, 'electrocute': 1, 'epicentre': 1, 'ruin': 1})\n"
     ]
    }
   ],
   "source": [
    "keyword_train_1 = collections.Counter(keyword_1)\n",
    "print(keyword_train_1)"
   ]
  },
  {
   "cell_type": "code",
   "execution_count": 26,
   "metadata": {},
   "outputs": [],
   "source": [
    "keyword_train_1 = dict(keyword_train_1)"
   ]
  },
  {
   "cell_type": "code",
   "execution_count": 27,
   "metadata": {},
   "outputs": [],
   "source": [
    "df_keyword_train_1 = pd.Series(keyword_train_1)"
   ]
  },
  {
   "cell_type": "code",
   "execution_count": 28,
   "metadata": {},
   "outputs": [],
   "source": [
    "df_keyword_train_1 = df_keyword_train_1.sort_values(ascending=False)"
   ]
  },
  {
   "cell_type": "code",
   "execution_count": 29,
   "metadata": {},
   "outputs": [],
   "source": [
    "df_keyword_train = df_keyword_train.to_frame()"
   ]
  },
  {
   "cell_type": "code",
   "execution_count": 30,
   "metadata": {},
   "outputs": [],
   "source": [
    "df_keyword_train = df_keyword_train.reset_index()"
   ]
  },
  {
   "cell_type": "code",
   "execution_count": 31,
   "metadata": {},
   "outputs": [
    {
     "data": {
      "text/html": [
       "<div>\n",
       "<style scoped>\n",
       "    .dataframe tbody tr th:only-of-type {\n",
       "        vertical-align: middle;\n",
       "    }\n",
       "\n",
       "    .dataframe tbody tr th {\n",
       "        vertical-align: top;\n",
       "    }\n",
       "\n",
       "    .dataframe thead th {\n",
       "        text-align: right;\n",
       "    }\n",
       "</style>\n",
       "<table border=\"1\" class=\"dataframe\">\n",
       "  <thead>\n",
       "    <tr style=\"text-align: right;\">\n",
       "      <th></th>\n",
       "      <th>index</th>\n",
       "      <th>0</th>\n",
       "    </tr>\n",
       "  </thead>\n",
       "  <tbody>\n",
       "    <tr>\n",
       "      <th>0</th>\n",
       "      <td>Not identified</td>\n",
       "      <td>87</td>\n",
       "    </tr>\n",
       "    <tr>\n",
       "      <th>1</th>\n",
       "      <td>drowned</td>\n",
       "      <td>50</td>\n",
       "    </tr>\n",
       "    <tr>\n",
       "      <th>2</th>\n",
       "      <td>drought</td>\n",
       "      <td>50</td>\n",
       "    </tr>\n",
       "    <tr>\n",
       "      <th>3</th>\n",
       "      <td>displaced</td>\n",
       "      <td>50</td>\n",
       "    </tr>\n",
       "    <tr>\n",
       "      <th>4</th>\n",
       "      <td>disaster</td>\n",
       "      <td>50</td>\n",
       "    </tr>\n",
       "  </tbody>\n",
       "</table>\n",
       "</div>"
      ],
      "text/plain": [
       "            index   0\n",
       "0  Not identified  87\n",
       "1         drowned  50\n",
       "2         drought  50\n",
       "3       displaced  50\n",
       "4        disaster  50"
      ]
     },
     "execution_count": 31,
     "metadata": {},
     "output_type": "execute_result"
    }
   ],
   "source": [
    "df_keyword_train.head()"
   ]
  },
  {
   "cell_type": "code",
   "execution_count": 32,
   "metadata": {},
   "outputs": [],
   "source": [
    "df_keyword_train.columns = ['keyword', 'frequency_total']"
   ]
  },
  {
   "cell_type": "code",
   "execution_count": 33,
   "metadata": {},
   "outputs": [],
   "source": [
    "df_keyword_train_1 = df_keyword_train_1.to_frame()"
   ]
  },
  {
   "cell_type": "code",
   "execution_count": 34,
   "metadata": {},
   "outputs": [],
   "source": [
    "df_keyword_train_1 = df_keyword_train_1.reset_index()"
   ]
  },
  {
   "cell_type": "code",
   "execution_count": 35,
   "metadata": {},
   "outputs": [],
   "source": [
    "df_keyword_train_1.columns = ['keyword', 'frequency']"
   ]
  },
  {
   "cell_type": "code",
   "execution_count": 36,
   "metadata": {},
   "outputs": [
    {
     "data": {
      "text/html": [
       "<div>\n",
       "<style scoped>\n",
       "    .dataframe tbody tr th:only-of-type {\n",
       "        vertical-align: middle;\n",
       "    }\n",
       "\n",
       "    .dataframe tbody tr th {\n",
       "        vertical-align: top;\n",
       "    }\n",
       "\n",
       "    .dataframe thead th {\n",
       "        text-align: right;\n",
       "    }\n",
       "</style>\n",
       "<table border=\"1\" class=\"dataframe\">\n",
       "  <thead>\n",
       "    <tr style=\"text-align: right;\">\n",
       "      <th></th>\n",
       "      <th>keyword</th>\n",
       "      <th>frequency</th>\n",
       "    </tr>\n",
       "  </thead>\n",
       "  <tbody>\n",
       "    <tr>\n",
       "      <th>0</th>\n",
       "      <td>Not identified</td>\n",
       "      <td>42</td>\n",
       "    </tr>\n",
       "    <tr>\n",
       "      <th>1</th>\n",
       "      <td>wreckage</td>\n",
       "      <td>39</td>\n",
       "    </tr>\n",
       "    <tr>\n",
       "      <th>2</th>\n",
       "      <td>derailment</td>\n",
       "      <td>39</td>\n",
       "    </tr>\n",
       "    <tr>\n",
       "      <th>3</th>\n",
       "      <td>outbreak</td>\n",
       "      <td>39</td>\n",
       "    </tr>\n",
       "    <tr>\n",
       "      <th>4</th>\n",
       "      <td>debris</td>\n",
       "      <td>37</td>\n",
       "    </tr>\n",
       "  </tbody>\n",
       "</table>\n",
       "</div>"
      ],
      "text/plain": [
       "          keyword  frequency\n",
       "0  Not identified         42\n",
       "1        wreckage         39\n",
       "2      derailment         39\n",
       "3        outbreak         39\n",
       "4          debris         37"
      ]
     },
     "execution_count": 36,
     "metadata": {},
     "output_type": "execute_result"
    }
   ],
   "source": [
    "df_keyword_train_1.head()"
   ]
  },
  {
   "cell_type": "code",
   "execution_count": 37,
   "metadata": {},
   "outputs": [],
   "source": [
    "df_keyword_prob = df_keyword_train.merge(df_keyword_train_1, left_on='keyword', right_on='keyword')"
   ]
  },
  {
   "cell_type": "code",
   "execution_count": 38,
   "metadata": {},
   "outputs": [
    {
     "data": {
      "text/html": [
       "<div>\n",
       "<style scoped>\n",
       "    .dataframe tbody tr th:only-of-type {\n",
       "        vertical-align: middle;\n",
       "    }\n",
       "\n",
       "    .dataframe tbody tr th {\n",
       "        vertical-align: top;\n",
       "    }\n",
       "\n",
       "    .dataframe thead th {\n",
       "        text-align: right;\n",
       "    }\n",
       "</style>\n",
       "<table border=\"1\" class=\"dataframe\">\n",
       "  <thead>\n",
       "    <tr style=\"text-align: right;\">\n",
       "      <th></th>\n",
       "      <th>keyword</th>\n",
       "      <th>frequency_total</th>\n",
       "      <th>frequency</th>\n",
       "    </tr>\n",
       "  </thead>\n",
       "  <tbody>\n",
       "    <tr>\n",
       "      <th>0</th>\n",
       "      <td>Not identified</td>\n",
       "      <td>87</td>\n",
       "      <td>42</td>\n",
       "    </tr>\n",
       "    <tr>\n",
       "      <th>1</th>\n",
       "      <td>drowned</td>\n",
       "      <td>50</td>\n",
       "      <td>15</td>\n",
       "    </tr>\n",
       "    <tr>\n",
       "      <th>2</th>\n",
       "      <td>drought</td>\n",
       "      <td>50</td>\n",
       "      <td>28</td>\n",
       "    </tr>\n",
       "    <tr>\n",
       "      <th>3</th>\n",
       "      <td>displaced</td>\n",
       "      <td>50</td>\n",
       "      <td>26</td>\n",
       "    </tr>\n",
       "    <tr>\n",
       "      <th>4</th>\n",
       "      <td>disaster</td>\n",
       "      <td>50</td>\n",
       "      <td>15</td>\n",
       "    </tr>\n",
       "  </tbody>\n",
       "</table>\n",
       "</div>"
      ],
      "text/plain": [
       "          keyword  frequency_total  frequency\n",
       "0  Not identified               87         42\n",
       "1         drowned               50         15\n",
       "2         drought               50         28\n",
       "3       displaced               50         26\n",
       "4        disaster               50         15"
      ]
     },
     "execution_count": 38,
     "metadata": {},
     "output_type": "execute_result"
    }
   ],
   "source": [
    "df_keyword_prob.head()"
   ]
  },
  {
   "cell_type": "code",
   "execution_count": 39,
   "metadata": {},
   "outputs": [],
   "source": [
    "df_keyword_prob['prob'] =  df_keyword_prob['frequency']/df_keyword_prob['frequency_total']"
   ]
  },
  {
   "cell_type": "code",
   "execution_count": 40,
   "metadata": {},
   "outputs": [
    {
     "name": "stdout",
     "output_type": "stream",
     "text": [
      "<class 'pandas.core.frame.DataFrame'>\n",
      "Int64Index: 221 entries, 0 to 220\n",
      "Data columns (total 4 columns):\n",
      " #   Column           Non-Null Count  Dtype  \n",
      "---  ------           --------------  -----  \n",
      " 0   keyword          221 non-null    object \n",
      " 1   frequency_total  221 non-null    int64  \n",
      " 2   frequency        221 non-null    int64  \n",
      " 3   prob             221 non-null    float64\n",
      "dtypes: float64(1), int64(2), object(1)\n",
      "memory usage: 8.6+ KB\n"
     ]
    }
   ],
   "source": [
    "df_keyword_prob.info()"
   ]
  },
  {
   "cell_type": "code",
   "execution_count": 41,
   "metadata": {},
   "outputs": [
    {
     "data": {
      "text/html": [
       "<div>\n",
       "<style scoped>\n",
       "    .dataframe tbody tr th:only-of-type {\n",
       "        vertical-align: middle;\n",
       "    }\n",
       "\n",
       "    .dataframe tbody tr th {\n",
       "        vertical-align: top;\n",
       "    }\n",
       "\n",
       "    .dataframe thead th {\n",
       "        text-align: right;\n",
       "    }\n",
       "</style>\n",
       "<table border=\"1\" class=\"dataframe\">\n",
       "  <thead>\n",
       "    <tr style=\"text-align: right;\">\n",
       "      <th></th>\n",
       "      <th>keyword</th>\n",
       "      <th>frequency_total</th>\n",
       "      <th>frequency</th>\n",
       "      <th>prob</th>\n",
       "    </tr>\n",
       "  </thead>\n",
       "  <tbody>\n",
       "    <tr>\n",
       "      <th>0</th>\n",
       "      <td>Not identified</td>\n",
       "      <td>87</td>\n",
       "      <td>42</td>\n",
       "      <td>0.482759</td>\n",
       "    </tr>\n",
       "    <tr>\n",
       "      <th>1</th>\n",
       "      <td>drowned</td>\n",
       "      <td>50</td>\n",
       "      <td>15</td>\n",
       "      <td>0.300000</td>\n",
       "    </tr>\n",
       "    <tr>\n",
       "      <th>2</th>\n",
       "      <td>drought</td>\n",
       "      <td>50</td>\n",
       "      <td>28</td>\n",
       "      <td>0.560000</td>\n",
       "    </tr>\n",
       "    <tr>\n",
       "      <th>3</th>\n",
       "      <td>displaced</td>\n",
       "      <td>50</td>\n",
       "      <td>26</td>\n",
       "      <td>0.520000</td>\n",
       "    </tr>\n",
       "    <tr>\n",
       "      <th>4</th>\n",
       "      <td>disaster</td>\n",
       "      <td>50</td>\n",
       "      <td>15</td>\n",
       "      <td>0.300000</td>\n",
       "    </tr>\n",
       "  </tbody>\n",
       "</table>\n",
       "</div>"
      ],
      "text/plain": [
       "          keyword  frequency_total  frequency      prob\n",
       "0  Not identified               87         42  0.482759\n",
       "1         drowned               50         15  0.300000\n",
       "2         drought               50         28  0.560000\n",
       "3       displaced               50         26  0.520000\n",
       "4        disaster               50         15  0.300000"
      ]
     },
     "execution_count": 41,
     "metadata": {},
     "output_type": "execute_result"
    }
   ],
   "source": [
    "df_keyword_prob.head()"
   ]
  },
  {
   "cell_type": "markdown",
   "metadata": {},
   "source": [
    "*Probabilidade de um tweet ser um desatre real de acordo com a palavra chave, lembrando que aqui está sendo considerada o dataset de treino e test*"
   ]
  },
  {
   "cell_type": "markdown",
   "metadata": {},
   "source": [
    "## Preprocessing"
   ]
  },
  {
   "cell_type": "code",
   "execution_count": 42,
   "metadata": {},
   "outputs": [],
   "source": [
    "df['keyword_text'] = df['keyword'] + ' ' + df['text']"
   ]
  },
  {
   "cell_type": "code",
   "execution_count": 43,
   "metadata": {},
   "outputs": [
    {
     "data": {
      "text/html": [
       "<div>\n",
       "<style scoped>\n",
       "    .dataframe tbody tr th:only-of-type {\n",
       "        vertical-align: middle;\n",
       "    }\n",
       "\n",
       "    .dataframe tbody tr th {\n",
       "        vertical-align: top;\n",
       "    }\n",
       "\n",
       "    .dataframe thead th {\n",
       "        text-align: right;\n",
       "    }\n",
       "</style>\n",
       "<table border=\"1\" class=\"dataframe\">\n",
       "  <thead>\n",
       "    <tr style=\"text-align: right;\">\n",
       "      <th></th>\n",
       "      <th>keyword</th>\n",
       "      <th>text</th>\n",
       "      <th>target</th>\n",
       "      <th>dataset</th>\n",
       "      <th>keyword_text</th>\n",
       "    </tr>\n",
       "  </thead>\n",
       "  <tbody>\n",
       "    <tr>\n",
       "      <th>0</th>\n",
       "      <td>Not identified</td>\n",
       "      <td>Our Deeds are the Reason of this #earthquake M...</td>\n",
       "      <td>1</td>\n",
       "      <td>train</td>\n",
       "      <td>Not identified Our Deeds are the Reason of thi...</td>\n",
       "    </tr>\n",
       "    <tr>\n",
       "      <th>1</th>\n",
       "      <td>Not identified</td>\n",
       "      <td>Forest fire near La Ronge Sask. Canada</td>\n",
       "      <td>1</td>\n",
       "      <td>train</td>\n",
       "      <td>Not identified Forest fire near La Ronge Sask....</td>\n",
       "    </tr>\n",
       "    <tr>\n",
       "      <th>2</th>\n",
       "      <td>Not identified</td>\n",
       "      <td>All residents asked to 'shelter in place' are ...</td>\n",
       "      <td>1</td>\n",
       "      <td>train</td>\n",
       "      <td>Not identified All residents asked to 'shelter...</td>\n",
       "    </tr>\n",
       "    <tr>\n",
       "      <th>3</th>\n",
       "      <td>Not identified</td>\n",
       "      <td>13,000 people receive #wildfires evacuation or...</td>\n",
       "      <td>1</td>\n",
       "      <td>train</td>\n",
       "      <td>Not identified 13,000 people receive #wildfire...</td>\n",
       "    </tr>\n",
       "    <tr>\n",
       "      <th>4</th>\n",
       "      <td>Not identified</td>\n",
       "      <td>Just got sent this photo from Ruby #Alaska as ...</td>\n",
       "      <td>1</td>\n",
       "      <td>train</td>\n",
       "      <td>Not identified Just got sent this photo from R...</td>\n",
       "    </tr>\n",
       "  </tbody>\n",
       "</table>\n",
       "</div>"
      ],
      "text/plain": [
       "          keyword                                               text  target  \\\n",
       "0  Not identified  Our Deeds are the Reason of this #earthquake M...       1   \n",
       "1  Not identified             Forest fire near La Ronge Sask. Canada       1   \n",
       "2  Not identified  All residents asked to 'shelter in place' are ...       1   \n",
       "3  Not identified  13,000 people receive #wildfires evacuation or...       1   \n",
       "4  Not identified  Just got sent this photo from Ruby #Alaska as ...       1   \n",
       "\n",
       "  dataset                                       keyword_text  \n",
       "0   train  Not identified Our Deeds are the Reason of thi...  \n",
       "1   train  Not identified Forest fire near La Ronge Sask....  \n",
       "2   train  Not identified All residents asked to 'shelter...  \n",
       "3   train  Not identified 13,000 people receive #wildfire...  \n",
       "4   train  Not identified Just got sent this photo from R...  "
      ]
     },
     "execution_count": 43,
     "metadata": {},
     "output_type": "execute_result"
    }
   ],
   "source": [
    "df.head()"
   ]
  },
  {
   "cell_type": "code",
   "execution_count": 44,
   "metadata": {},
   "outputs": [],
   "source": [
    "df['keyword_text'] = df['keyword_text'].apply(lambda x: x.lower())"
   ]
  },
  {
   "cell_type": "code",
   "execution_count": 45,
   "metadata": {},
   "outputs": [],
   "source": [
    "df['keyword_text'] = df['keyword_text'].str.replace('[^\\w\\s]','')"
   ]
  },
  {
   "cell_type": "code",
   "execution_count": 46,
   "metadata": {},
   "outputs": [
    {
     "data": {
      "text/html": [
       "<div>\n",
       "<style scoped>\n",
       "    .dataframe tbody tr th:only-of-type {\n",
       "        vertical-align: middle;\n",
       "    }\n",
       "\n",
       "    .dataframe tbody tr th {\n",
       "        vertical-align: top;\n",
       "    }\n",
       "\n",
       "    .dataframe thead th {\n",
       "        text-align: right;\n",
       "    }\n",
       "</style>\n",
       "<table border=\"1\" class=\"dataframe\">\n",
       "  <thead>\n",
       "    <tr style=\"text-align: right;\">\n",
       "      <th></th>\n",
       "      <th>keyword</th>\n",
       "      <th>text</th>\n",
       "      <th>target</th>\n",
       "      <th>dataset</th>\n",
       "      <th>keyword_text</th>\n",
       "    </tr>\n",
       "  </thead>\n",
       "  <tbody>\n",
       "    <tr>\n",
       "      <th>0</th>\n",
       "      <td>Not identified</td>\n",
       "      <td>Our Deeds are the Reason of this #earthquake M...</td>\n",
       "      <td>1</td>\n",
       "      <td>train</td>\n",
       "      <td>not identified our deeds are the reason of thi...</td>\n",
       "    </tr>\n",
       "    <tr>\n",
       "      <th>1</th>\n",
       "      <td>Not identified</td>\n",
       "      <td>Forest fire near La Ronge Sask. Canada</td>\n",
       "      <td>1</td>\n",
       "      <td>train</td>\n",
       "      <td>not identified forest fire near la ronge sask ...</td>\n",
       "    </tr>\n",
       "    <tr>\n",
       "      <th>2</th>\n",
       "      <td>Not identified</td>\n",
       "      <td>All residents asked to 'shelter in place' are ...</td>\n",
       "      <td>1</td>\n",
       "      <td>train</td>\n",
       "      <td>not identified all residents asked to shelter ...</td>\n",
       "    </tr>\n",
       "    <tr>\n",
       "      <th>3</th>\n",
       "      <td>Not identified</td>\n",
       "      <td>13,000 people receive #wildfires evacuation or...</td>\n",
       "      <td>1</td>\n",
       "      <td>train</td>\n",
       "      <td>not identified 13000 people receive wildfires ...</td>\n",
       "    </tr>\n",
       "    <tr>\n",
       "      <th>4</th>\n",
       "      <td>Not identified</td>\n",
       "      <td>Just got sent this photo from Ruby #Alaska as ...</td>\n",
       "      <td>1</td>\n",
       "      <td>train</td>\n",
       "      <td>not identified just got sent this photo from r...</td>\n",
       "    </tr>\n",
       "  </tbody>\n",
       "</table>\n",
       "</div>"
      ],
      "text/plain": [
       "          keyword                                               text  target  \\\n",
       "0  Not identified  Our Deeds are the Reason of this #earthquake M...       1   \n",
       "1  Not identified             Forest fire near La Ronge Sask. Canada       1   \n",
       "2  Not identified  All residents asked to 'shelter in place' are ...       1   \n",
       "3  Not identified  13,000 people receive #wildfires evacuation or...       1   \n",
       "4  Not identified  Just got sent this photo from Ruby #Alaska as ...       1   \n",
       "\n",
       "  dataset                                       keyword_text  \n",
       "0   train  not identified our deeds are the reason of thi...  \n",
       "1   train  not identified forest fire near la ronge sask ...  \n",
       "2   train  not identified all residents asked to shelter ...  \n",
       "3   train  not identified 13000 people receive wildfires ...  \n",
       "4   train  not identified just got sent this photo from r...  "
      ]
     },
     "execution_count": 46,
     "metadata": {},
     "output_type": "execute_result"
    }
   ],
   "source": [
    "df.head()"
   ]
  },
  {
   "cell_type": "code",
   "execution_count": 47,
   "metadata": {},
   "outputs": [
    {
     "name": "stdout",
     "output_type": "stream",
     "text": [
      "<class 'pandas.core.frame.DataFrame'>\n",
      "Int64Index: 10876 entries, 0 to 3262\n",
      "Data columns (total 5 columns):\n",
      " #   Column        Non-Null Count  Dtype \n",
      "---  ------        --------------  ----- \n",
      " 0   keyword       10876 non-null  object\n",
      " 1   text          10876 non-null  object\n",
      " 2   target        10876 non-null  int64 \n",
      " 3   dataset       10876 non-null  object\n",
      " 4   keyword_text  10876 non-null  object\n",
      "dtypes: int64(1), object(4)\n",
      "memory usage: 509.8+ KB\n"
     ]
    }
   ],
   "source": [
    "df.info()"
   ]
  },
  {
   "cell_type": "code",
   "execution_count": 48,
   "metadata": {},
   "outputs": [],
   "source": [
    "def remove_stopwords(word):\n",
    "    \n",
    "    normalize = ' '.join([w for w in word if w.lower() not in stopwords])\n",
    "    return normalize"
   ]
  },
  {
   "cell_type": "code",
   "execution_count": 49,
   "metadata": {},
   "outputs": [],
   "source": [
    "stopwords = list(set(stopwords.words('english')))"
   ]
  },
  {
   "cell_type": "code",
   "execution_count": 50,
   "metadata": {},
   "outputs": [],
   "source": [
    "df['keyword_text'] = df['keyword_text'].apply(lambda x:remove_stopwords(word_tokenize(x)))"
   ]
  },
  {
   "cell_type": "code",
   "execution_count": 51,
   "metadata": {},
   "outputs": [],
   "source": [
    "df['text_sentence'] = df['keyword_text'].apply(lambda x:text_to_word_sequence(x))"
   ]
  },
  {
   "cell_type": "code",
   "execution_count": 52,
   "metadata": {},
   "outputs": [],
   "source": [
    "df['text_sentence'] = df['text_sentence'].apply(lambda x: str(x).replace('[','').replace(']',''))"
   ]
  },
  {
   "cell_type": "code",
   "execution_count": 53,
   "metadata": {
    "scrolled": true
   },
   "outputs": [
    {
     "data": {
      "text/html": [
       "<div>\n",
       "<style scoped>\n",
       "    .dataframe tbody tr th:only-of-type {\n",
       "        vertical-align: middle;\n",
       "    }\n",
       "\n",
       "    .dataframe tbody tr th {\n",
       "        vertical-align: top;\n",
       "    }\n",
       "\n",
       "    .dataframe thead th {\n",
       "        text-align: right;\n",
       "    }\n",
       "</style>\n",
       "<table border=\"1\" class=\"dataframe\">\n",
       "  <thead>\n",
       "    <tr style=\"text-align: right;\">\n",
       "      <th></th>\n",
       "      <th>keyword</th>\n",
       "      <th>text</th>\n",
       "      <th>target</th>\n",
       "      <th>dataset</th>\n",
       "      <th>keyword_text</th>\n",
       "      <th>text_sentence</th>\n",
       "    </tr>\n",
       "  </thead>\n",
       "  <tbody>\n",
       "    <tr>\n",
       "      <th>0</th>\n",
       "      <td>Not identified</td>\n",
       "      <td>Our Deeds are the Reason of this #earthquake M...</td>\n",
       "      <td>1</td>\n",
       "      <td>train</td>\n",
       "      <td>identified deeds reason earthquake may allah f...</td>\n",
       "      <td>'identified', 'deeds', 'reason', 'earthquake',...</td>\n",
       "    </tr>\n",
       "    <tr>\n",
       "      <th>1</th>\n",
       "      <td>Not identified</td>\n",
       "      <td>Forest fire near La Ronge Sask. Canada</td>\n",
       "      <td>1</td>\n",
       "      <td>train</td>\n",
       "      <td>identified forest fire near la ronge sask canada</td>\n",
       "      <td>'identified', 'forest', 'fire', 'near', 'la', ...</td>\n",
       "    </tr>\n",
       "    <tr>\n",
       "      <th>2</th>\n",
       "      <td>Not identified</td>\n",
       "      <td>All residents asked to 'shelter in place' are ...</td>\n",
       "      <td>1</td>\n",
       "      <td>train</td>\n",
       "      <td>identified residents asked shelter place notif...</td>\n",
       "      <td>'identified', 'residents', 'asked', 'shelter',...</td>\n",
       "    </tr>\n",
       "    <tr>\n",
       "      <th>3</th>\n",
       "      <td>Not identified</td>\n",
       "      <td>13,000 people receive #wildfires evacuation or...</td>\n",
       "      <td>1</td>\n",
       "      <td>train</td>\n",
       "      <td>identified 13000 people receive wildfires evac...</td>\n",
       "      <td>'identified', '13000', 'people', 'receive', 'w...</td>\n",
       "    </tr>\n",
       "    <tr>\n",
       "      <th>4</th>\n",
       "      <td>Not identified</td>\n",
       "      <td>Just got sent this photo from Ruby #Alaska as ...</td>\n",
       "      <td>1</td>\n",
       "      <td>train</td>\n",
       "      <td>identified got sent photo ruby alaska smoke wi...</td>\n",
       "      <td>'identified', 'got', 'sent', 'photo', 'ruby', ...</td>\n",
       "    </tr>\n",
       "  </tbody>\n",
       "</table>\n",
       "</div>"
      ],
      "text/plain": [
       "          keyword                                               text  target  \\\n",
       "0  Not identified  Our Deeds are the Reason of this #earthquake M...       1   \n",
       "1  Not identified             Forest fire near La Ronge Sask. Canada       1   \n",
       "2  Not identified  All residents asked to 'shelter in place' are ...       1   \n",
       "3  Not identified  13,000 people receive #wildfires evacuation or...       1   \n",
       "4  Not identified  Just got sent this photo from Ruby #Alaska as ...       1   \n",
       "\n",
       "  dataset                                       keyword_text  \\\n",
       "0   train  identified deeds reason earthquake may allah f...   \n",
       "1   train   identified forest fire near la ronge sask canada   \n",
       "2   train  identified residents asked shelter place notif...   \n",
       "3   train  identified 13000 people receive wildfires evac...   \n",
       "4   train  identified got sent photo ruby alaska smoke wi...   \n",
       "\n",
       "                                       text_sentence  \n",
       "0  'identified', 'deeds', 'reason', 'earthquake',...  \n",
       "1  'identified', 'forest', 'fire', 'near', 'la', ...  \n",
       "2  'identified', 'residents', 'asked', 'shelter',...  \n",
       "3  'identified', '13000', 'people', 'receive', 'w...  \n",
       "4  'identified', 'got', 'sent', 'photo', 'ruby', ...  "
      ]
     },
     "execution_count": 53,
     "metadata": {},
     "output_type": "execute_result"
    }
   ],
   "source": [
    "df.head()"
   ]
  },
  {
   "cell_type": "markdown",
   "metadata": {},
   "source": [
    "## Naive Bayes"
   ]
  },
  {
   "cell_type": "code",
   "execution_count": 54,
   "metadata": {},
   "outputs": [],
   "source": [
    "df_aux1 = df[df['dataset'] == 'train']\n",
    "X = df_aux1.text_sentence\n",
    "y = df_aux1.target"
   ]
  },
  {
   "cell_type": "code",
   "execution_count": 55,
   "metadata": {},
   "outputs": [],
   "source": [
    "X_train, X_test, y_train, y_test = train_test_split(X, y, test_size=0.3, random_state = 42)"
   ]
  },
  {
   "cell_type": "markdown",
   "metadata": {},
   "source": [
    "*Fazendo a divisão do dataset em dados de treino e teste*"
   ]
  },
  {
   "cell_type": "code",
   "execution_count": 56,
   "metadata": {},
   "outputs": [],
   "source": [
    "nb = Pipeline([('vect', CountVectorizer()),\n",
    "               ('tfidf', TfidfTransformer()),\n",
    "               ('clf', MultinomialNB()),\n",
    "              ])"
   ]
  },
  {
   "cell_type": "markdown",
   "metadata": {},
   "source": [
    "*Instanciando os modelos de CountVectorizer para converter os dados em um vetor de tokens, TfidfTransformer para a frequencia de termos e exclusão dos termos mais frequentes e o MultinomialNB, modelo de classificação Naive Bayes comumente utilizada em classificação de textos*"
   ]
  },
  {
   "cell_type": "code",
   "execution_count": 57,
   "metadata": {},
   "outputs": [
    {
     "data": {
      "text/plain": [
       "Pipeline(steps=[('vect', CountVectorizer()), ('tfidf', TfidfTransformer()),\n",
       "                ('clf', MultinomialNB())])"
      ]
     },
     "execution_count": 57,
     "metadata": {},
     "output_type": "execute_result"
    }
   ],
   "source": [
    "nb.fit(X_train, y_train)"
   ]
  },
  {
   "cell_type": "markdown",
   "metadata": {},
   "source": [
    "*Treinando o modelo na base de treino*"
   ]
  },
  {
   "cell_type": "code",
   "execution_count": 58,
   "metadata": {},
   "outputs": [],
   "source": [
    "def plot_metrics(X_test, y_test):\n",
    "    \n",
    "    #Predições\n",
    "    y_pred = nb.predict(X_test)\n",
    "\n",
    "    cm = metrics.confusion_matrix(y_test, y_pred)\n",
    "    classes = list(range(0, 10))\n",
    "    fig, ax = plt.subplots(figsize=(7, 7))\n",
    "    im = ax.imshow(cm, interpolation='nearest', cmap=plt.cm.Blues)\n",
    "    ax.figure.colorbar(im, ax=ax)\n",
    "    ax.set(xticks=np.arange(cm.shape[1]),\n",
    "           yticks=np.arange(cm.shape[0]),\n",
    "           xticklabels=classes, yticklabels=classes,\n",
    "           title=\"Matriz de Confusão\",\n",
    "           ylabel=\"Real\",\n",
    "           xlabel=\"Predito\")\n",
    "\n",
    "    plt.setp(ax.get_xticklabels(), rotation=45, ha=\"right\",\n",
    "             rotation_mode=\"anchor\")\n",
    "\n",
    "    for i in range(cm.shape[0]):\n",
    "        for j in range(cm.shape[1]):\n",
    "            ax.text(j, i, format(cm[i, j], \"d\"),\n",
    "                    ha=\"center\", va=\"center\",\n",
    "                    color=\"white\" if cm[i, j] > cm.max()/2. else \"black\")\n",
    "    fig.tight_layout()\n",
    "    plt.show()\n",
    "    \n",
    "    print('Accuracy %s' % (metrics.accuracy_score(y_pred, y_test)*100))"
   ]
  },
  {
   "cell_type": "code",
   "execution_count": 59,
   "metadata": {
    "scrolled": false
   },
   "outputs": [
    {
     "data": {
      "image/png": "[encoded data removed]",
      "text/plain": [
       "<Figure size 504x504 with 2 Axes>"
      ]
     },
     "metadata": {
      "needs_background": "light"
     },
     "output_type": "display_data"
    },
    {
     "name": "stdout",
     "output_type": "stream",
     "text": [
      "Accuracy 79.7723292469352\n"
     ]
    }
   ],
   "source": [
    "plot_metrics(X_test, y_test)"
   ]
  },
  {
   "cell_type": "markdown",
   "metadata": {},
   "source": [
    "*O Naive Bayes utiliza de probabilidade, ou seja, ele classifica os itens baseado na probabilidade mais alta daquela texto pertencer ou não aquela classe. Para um modelo não parametrico e relativamente simples, teve uma acurácia bem legal aproximando de 80%*"
   ]
  },
  {
   "cell_type": "markdown",
   "metadata": {},
   "source": [
    "## Preprocessing for LSTM"
   ]
  },
  {
   "cell_type": "code",
   "execution_count": 60,
   "metadata": {},
   "outputs": [
    {
     "name": "stdout",
     "output_type": "stream",
     "text": [
      "7515\n"
     ]
    }
   ],
   "source": [
    "words = set(list(df_aux1['text_sentence']))\n",
    "vocab_size = len(words)+1\n",
    "print(vocab_size)"
   ]
  },
  {
   "cell_type": "code",
   "execution_count": 61,
   "metadata": {},
   "outputs": [],
   "source": [
    "df_aux1['text_one_hot'] = df_aux1['keyword_text'].apply(lambda x: one_hot(x, round(vocab_size))) "
   ]
  },
  {
   "cell_type": "code",
   "execution_count": 62,
   "metadata": {},
   "outputs": [
    {
     "data": {
      "text/html": [
       "<div>\n",
       "<style scoped>\n",
       "    .dataframe tbody tr th:only-of-type {\n",
       "        vertical-align: middle;\n",
       "    }\n",
       "\n",
       "    .dataframe tbody tr th {\n",
       "        vertical-align: top;\n",
       "    }\n",
       "\n",
       "    .dataframe thead th {\n",
       "        text-align: right;\n",
       "    }\n",
       "</style>\n",
       "<table border=\"1\" class=\"dataframe\">\n",
       "  <thead>\n",
       "    <tr style=\"text-align: right;\">\n",
       "      <th></th>\n",
       "      <th>keyword</th>\n",
       "      <th>text</th>\n",
       "      <th>target</th>\n",
       "      <th>dataset</th>\n",
       "      <th>keyword_text</th>\n",
       "      <th>text_sentence</th>\n",
       "      <th>text_one_hot</th>\n",
       "    </tr>\n",
       "  </thead>\n",
       "  <tbody>\n",
       "    <tr>\n",
       "      <th>0</th>\n",
       "      <td>Not identified</td>\n",
       "      <td>Our Deeds are the Reason of this #earthquake M...</td>\n",
       "      <td>1</td>\n",
       "      <td>train</td>\n",
       "      <td>identified deeds reason earthquake may allah f...</td>\n",
       "      <td>'identified', 'deeds', 'reason', 'earthquake',...</td>\n",
       "      <td>[6477, 3647, 6566, 3972, 6414, 4204, 6192, 1320]</td>\n",
       "    </tr>\n",
       "    <tr>\n",
       "      <th>1</th>\n",
       "      <td>Not identified</td>\n",
       "      <td>Forest fire near La Ronge Sask. Canada</td>\n",
       "      <td>1</td>\n",
       "      <td>train</td>\n",
       "      <td>identified forest fire near la ronge sask canada</td>\n",
       "      <td>'identified', 'forest', 'fire', 'near', 'la', ...</td>\n",
       "      <td>[6477, 3788, 281, 1829, 6138, 5972, 1217, 6767]</td>\n",
       "    </tr>\n",
       "    <tr>\n",
       "      <th>2</th>\n",
       "      <td>Not identified</td>\n",
       "      <td>All residents asked to 'shelter in place' are ...</td>\n",
       "      <td>1</td>\n",
       "      <td>train</td>\n",
       "      <td>identified residents asked shelter place notif...</td>\n",
       "      <td>'identified', 'residents', 'asked', 'shelter',...</td>\n",
       "      <td>[6477, 5281, 1598, 3436, 3340, 7240, 2066, 112...</td>\n",
       "    </tr>\n",
       "    <tr>\n",
       "      <th>3</th>\n",
       "      <td>Not identified</td>\n",
       "      <td>13,000 people receive #wildfires evacuation or...</td>\n",
       "      <td>1</td>\n",
       "      <td>train</td>\n",
       "      <td>identified 13000 people receive wildfires evac...</td>\n",
       "      <td>'identified', '13000', 'people', 'receive', 'w...</td>\n",
       "      <td>[6477, 3943, 6777, 2444, 3885, 1123, 4, 4097]</td>\n",
       "    </tr>\n",
       "    <tr>\n",
       "      <th>4</th>\n",
       "      <td>Not identified</td>\n",
       "      <td>Just got sent this photo from Ruby #Alaska as ...</td>\n",
       "      <td>1</td>\n",
       "      <td>train</td>\n",
       "      <td>identified got sent photo ruby alaska smoke wi...</td>\n",
       "      <td>'identified', 'got', 'sent', 'photo', 'ruby', ...</td>\n",
       "      <td>[6477, 4926, 6518, 3886, 2697, 5469, 1247, 388...</td>\n",
       "    </tr>\n",
       "  </tbody>\n",
       "</table>\n",
       "</div>"
      ],
      "text/plain": [
       "          keyword                                               text  target  \\\n",
       "0  Not identified  Our Deeds are the Reason of this #earthquake M...       1   \n",
       "1  Not identified             Forest fire near La Ronge Sask. Canada       1   \n",
       "2  Not identified  All residents asked to 'shelter in place' are ...       1   \n",
       "3  Not identified  13,000 people receive #wildfires evacuation or...       1   \n",
       "4  Not identified  Just got sent this photo from Ruby #Alaska as ...       1   \n",
       "\n",
       "  dataset                                       keyword_text  \\\n",
       "0   train  identified deeds reason earthquake may allah f...   \n",
       "1   train   identified forest fire near la ronge sask canada   \n",
       "2   train  identified residents asked shelter place notif...   \n",
       "3   train  identified 13000 people receive wildfires evac...   \n",
       "4   train  identified got sent photo ruby alaska smoke wi...   \n",
       "\n",
       "                                       text_sentence  \\\n",
       "0  'identified', 'deeds', 'reason', 'earthquake',...   \n",
       "1  'identified', 'forest', 'fire', 'near', 'la', ...   \n",
       "2  'identified', 'residents', 'asked', 'shelter',...   \n",
       "3  'identified', '13000', 'people', 'receive', 'w...   \n",
       "4  'identified', 'got', 'sent', 'photo', 'ruby', ...   \n",
       "\n",
       "                                        text_one_hot  \n",
       "0   [6477, 3647, 6566, 3972, 6414, 4204, 6192, 1320]  \n",
       "1    [6477, 3788, 281, 1829, 6138, 5972, 1217, 6767]  \n",
       "2  [6477, 5281, 1598, 3436, 3340, 7240, 2066, 112...  \n",
       "3      [6477, 3943, 6777, 2444, 3885, 1123, 4, 4097]  \n",
       "4  [6477, 4926, 6518, 3886, 2697, 5469, 1247, 388...  "
      ]
     },
     "execution_count": 62,
     "metadata": {},
     "output_type": "execute_result"
    }
   ],
   "source": [
    "df_aux1.head()"
   ]
  },
  {
   "cell_type": "code",
   "execution_count": 63,
   "metadata": {},
   "outputs": [],
   "source": [
    "df_aux1['num_words'] = df_aux1['keyword_text'].apply(lambda x: len(x))"
   ]
  },
  {
   "cell_type": "code",
   "execution_count": 64,
   "metadata": {},
   "outputs": [],
   "source": [
    "max_length_word = df_aux1['num_words'].max()"
   ]
  },
  {
   "cell_type": "code",
   "execution_count": 65,
   "metadata": {},
   "outputs": [],
   "source": [
    "cod_tweets = list(df_aux1['text_one_hot'])"
   ]
  },
  {
   "cell_type": "code",
   "execution_count": 66,
   "metadata": {},
   "outputs": [],
   "source": [
    "pad_tweets = pad_sequences(cod_tweets, maxlen=max_length_word, dtype='int32', padding='post')"
   ]
  },
  {
   "cell_type": "code",
   "execution_count": 67,
   "metadata": {},
   "outputs": [],
   "source": [
    "target = list(df_aux1['target'])"
   ]
  },
  {
   "cell_type": "code",
   "execution_count": 68,
   "metadata": {},
   "outputs": [
    {
     "name": "stdout",
     "output_type": "stream",
     "text": [
      "(5709, 158) (5709,)\n",
      "(1904, 158) (1904,)\n"
     ]
    }
   ],
   "source": [
    "X_train, X_test, Y_train, Y_test = train_test_split(pad_tweets, target, shuffle = True)\n",
    "\n",
    "X_train = np.array(X_train) \n",
    "X_test = np.array(X_test)  \n",
    "Y_train = np.array(Y_train)  \n",
    "Y_test = np.array(Y_test) \n",
    "\n",
    "print(X_train.shape,Y_train.shape)\n",
    "print(X_test.shape,Y_test.shape)"
   ]
  },
  {
   "cell_type": "markdown",
   "metadata": {},
   "source": [
    "## LSTM Model - Train"
   ]
  },
  {
   "cell_type": "code",
   "execution_count": 69,
   "metadata": {},
   "outputs": [],
   "source": [
    "#Instanciando o modelo da LSTM\n",
    "model = Sequential()\n",
    "model.add(Embedding(input_dim=vocab_size, output_dim=8, input_length=max_length_word))\n",
    "model.add(Bidirectional(LSTM(64, return_sequences=True))),\n",
    "model.add(Dropout(0.3, name = \"Dropout\"))\n",
    "model.add(LSTM(64, return_sequences=True)),\n",
    "model.add(Dense(1, activation='relu'))"
   ]
  },
  {
   "cell_type": "code",
   "execution_count": 70,
   "metadata": {},
   "outputs": [
    {
     "name": "stdout",
     "output_type": "stream",
     "text": [
      "Model: \"sequential\"\n",
      "_________________________________________________________________\n",
      "Layer (type)                 Output Shape              Param #   \n",
      "=================================================================\n",
      "embedding (Embedding)        (None, 158, 8)            60120     \n",
      "_________________________________________________________________\n",
      "bidirectional (Bidirectional (None, 158, 128)          37376     \n",
      "_________________________________________________________________\n",
      "Dropout (Dropout)            (None, 158, 128)          0         \n",
      "_________________________________________________________________\n",
      "lstm_1 (LSTM)                (None, 158, 64)           49408     \n",
      "_________________________________________________________________\n",
      "dense (Dense)                (None, 158, 1)            65        \n",
      "=================================================================\n",
      "Total params: 146,969\n",
      "Trainable params: 146,969\n",
      "Non-trainable params: 0\n",
      "_________________________________________________________________\n",
      "None\n"
     ]
    }
   ],
   "source": [
    "model.compile(optimizer='adam', loss='binary_crossentropy', metrics=['accuracy'])\n",
    "print(model.summary())"
   ]
  },
  {
   "cell_type": "markdown",
   "metadata": {},
   "source": [
    "*Foi instaciado um modelo com 2 camadas LSTM, sendo uma Bidirecional com peso 64, uma camada Dropout 0.3 para evitar que a rede overfit e uma camada de ativação (Dense) com a função Relu, uma função que é linear para valores positivos e cancela valores negativos, e bastante usada em classificação de texto. A métrica utilizada de avaliação do modelo é a acurácia, a mesma utilizada para a avaliação do Naive Bayes e função de perda binary_crossentropy, considerando os valores da classe é 0 ou 1*"
   ]
  },
  {
   "cell_type": "code",
   "execution_count": 71,
   "metadata": {},
   "outputs": [
    {
     "name": "stdout",
     "output_type": "stream",
     "text": [
      "Epoch 1/10\n",
      "90/90 [==============================] - 32s 356ms/step - loss: 0.7596 - accuracy: 0.5596 - val_loss: 0.6932 - val_accuracy: 0.5804\n",
      "Epoch 2/10\n",
      "90/90 [==============================] - 32s 354ms/step - loss: 0.6925 - accuracy: 0.5607 - val_loss: 0.6853 - val_accuracy: 0.5804\n",
      "Epoch 3/10\n",
      "90/90 [==============================] - 33s 362ms/step - loss: 0.6867 - accuracy: 0.5683 - val_loss: 0.6855 - val_accuracy: 0.5884\n",
      "Epoch 4/10\n",
      "90/90 [==============================] - 32s 353ms/step - loss: 0.6803 - accuracy: 0.5702 - val_loss: 0.6725 - val_accuracy: 0.5926\n",
      "Epoch 5/10\n",
      "90/90 [==============================] - 32s 356ms/step - loss: 0.7002 - accuracy: 0.5834 - val_loss: 0.6667 - val_accuracy: 0.6053\n",
      "Epoch 6/10\n",
      "90/90 [==============================] - 32s 356ms/step - loss: 0.7021 - accuracy: 0.6064 - val_loss: 0.6783 - val_accuracy: 0.5993\n",
      "Epoch 7/10\n",
      "90/90 [==============================] - 32s 355ms/step - loss: 0.6379 - accuracy: 0.6593 - val_loss: 0.5823 - val_accuracy: 0.7252\n",
      "Epoch 8/10\n",
      "90/90 [==============================] - 32s 358ms/step - loss: 0.4973 - accuracy: 0.8268 - val_loss: 0.9370 - val_accuracy: 0.7707\n",
      "Epoch 9/10\n",
      "90/90 [==============================] - 32s 359ms/step - loss: 0.5960 - accuracy: 0.7139 - val_loss: 0.6678 - val_accuracy: 0.5972\n",
      "Epoch 10/10\n",
      "90/90 [==============================] - 32s 354ms/step - loss: 0.6382 - accuracy: 0.6150 - val_loss: 0.6596 - val_accuracy: 0.6118\n"
     ]
    }
   ],
   "source": [
    "history = model.fit(X_train, Y_train, epochs=10, batch_size=64, validation_data=(X_test, Y_test))"
   ]
  },
  {
   "cell_type": "code",
   "execution_count": 72,
   "metadata": {},
   "outputs": [
    {
     "name": "stdout",
     "output_type": "stream",
     "text": [
      "Accuracy: 61.179322\n"
     ]
    }
   ],
   "source": [
    "#Avaliação do modelo\n",
    "loss, accuracy = model.evaluate(X_test, Y_test, verbose=0)\n",
    "print('Accuracy: %f' % (accuracy*100))"
   ]
  },
  {
   "cell_type": "code",
   "execution_count": 73,
   "metadata": {},
   "outputs": [
    {
     "data": {
      "image/png": "[encoded data removed]",
      "text/plain": [
       "<Figure size 1224x504 with 2 Axes>"
      ]
     },
     "metadata": {
      "needs_background": "light"
     },
     "output_type": "display_data"
    }
   ],
   "source": [
    "#Gera graficos do resultado do treino\n",
    "mpl.rc(\"font\", **{\"size\": 14})\n",
    "fig, axes = plt.subplots(1, 2, figsize=(17, 7))\n",
    "\n",
    "#Loss\n",
    "axes[0].plot(range(1, len(history.history[\"loss\"])+1), history.history[\"loss\"], \n",
    "        label=\"Train Loss\", color=\"red\", lw=3)\n",
    "axes[0].set_ylabel(\"Loss\")\n",
    "axes[0].set_xlabel(\"Epoch\")\n",
    "axes[0].set_xticks(range(1, len(history.history[\"loss\"])+1))\n",
    "axes[0].legend()\n",
    "\n",
    "#Accuracy\n",
    "axes[1].plot(range(1, len(history.history[\"accuracy\"])+1), history.history[\"accuracy\"], \n",
    "        label=\"Train AUC\", color=\"royalblue\", lw=3)\n",
    "axes[1].plot(range(1, len(history.history[\"val_accuracy\"])+1), history.history[\"val_accuracy\"], \n",
    "        label=\"Teste ACC\", color=\"forestgreen\", lw=3)\n",
    "axes[1].set_ylabel(\"Accuracy\")\n",
    "axes[1].set_xlabel(\"Epoch\")\n",
    "axes[1].set_xticks(range(1, len(history.history[\"accuracy\"])+1))\n",
    "axes[1].legend()\n",
    "plt.show()"
   ]
  },
  {
   "cell_type": "markdown",
   "metadata": {},
   "source": [
    "*O LSTM é um modelo de rede neural recorrente, que conta com função de ativações dentre outros parametros de otimização, mesmo assim o modelo mais simples foi mais eficiente comparando os resultados, uma diferença de 22%*"
   ]
  },
  {
   "cell_type": "markdown",
   "metadata": {},
   "source": [
    "## Test dataset"
   ]
  },
  {
   "cell_type": "code",
   "execution_count": 86,
   "metadata": {},
   "outputs": [],
   "source": [
    "df_aux2 = df[df['dataset'] == 'test']"
   ]
  },
  {
   "cell_type": "code",
   "execution_count": 87,
   "metadata": {},
   "outputs": [
    {
     "name": "stdout",
     "output_type": "stream",
     "text": [
      "3245\n"
     ]
    }
   ],
   "source": [
    "words = set(list(df_aux2['text_sentence']))\n",
    "vocab_size = len(words)+1\n",
    "print(vocab_size)"
   ]
  },
  {
   "cell_type": "code",
   "execution_count": 88,
   "metadata": {},
   "outputs": [],
   "source": [
    "df_aux2['text_one_hot'] = df_aux2['keyword_text'].apply(lambda x: one_hot(x, round(vocab_size))) "
   ]
  },
  {
   "cell_type": "code",
   "execution_count": 89,
   "metadata": {},
   "outputs": [
    {
     "data": {
      "text/html": [
       "<div>\n",
       "<style scoped>\n",
       "    .dataframe tbody tr th:only-of-type {\n",
       "        vertical-align: middle;\n",
       "    }\n",
       "\n",
       "    .dataframe tbody tr th {\n",
       "        vertical-align: top;\n",
       "    }\n",
       "\n",
       "    .dataframe thead th {\n",
       "        text-align: right;\n",
       "    }\n",
       "</style>\n",
       "<table border=\"1\" class=\"dataframe\">\n",
       "  <thead>\n",
       "    <tr style=\"text-align: right;\">\n",
       "      <th></th>\n",
       "      <th>keyword</th>\n",
       "      <th>text</th>\n",
       "      <th>target</th>\n",
       "      <th>dataset</th>\n",
       "      <th>keyword_text</th>\n",
       "      <th>text_sentence</th>\n",
       "      <th>text_one_hot</th>\n",
       "    </tr>\n",
       "  </thead>\n",
       "  <tbody>\n",
       "    <tr>\n",
       "      <th>0</th>\n",
       "      <td>Not identified</td>\n",
       "      <td>Just happened a terrible car crash</td>\n",
       "      <td>0</td>\n",
       "      <td>test</td>\n",
       "      <td>identified happened terrible car crash</td>\n",
       "      <td>'identified', 'happened', 'terrible', 'car', '...</td>\n",
       "      <td>[1341, 1072, 671, 384, 2157]</td>\n",
       "    </tr>\n",
       "    <tr>\n",
       "      <th>1</th>\n",
       "      <td>Not identified</td>\n",
       "      <td>Heard about #earthquake is different cities, s...</td>\n",
       "      <td>0</td>\n",
       "      <td>test</td>\n",
       "      <td>identified heard earthquake different cities s...</td>\n",
       "      <td>'identified', 'heard', 'earthquake', 'differen...</td>\n",
       "      <td>[1341, 2467, 1910, 175, 160, 1238, 2629, 2630]</td>\n",
       "    </tr>\n",
       "    <tr>\n",
       "      <th>2</th>\n",
       "      <td>Not identified</td>\n",
       "      <td>there is a forest fire at spot pond, geese are...</td>\n",
       "      <td>0</td>\n",
       "      <td>test</td>\n",
       "      <td>identified forest fire spot pond geese fleeing...</td>\n",
       "      <td>'identified', 'forest', 'fire', 'spot', 'pond'...</td>\n",
       "      <td>[1341, 1682, 2859, 2759, 3218, 1336, 884, 1307...</td>\n",
       "    </tr>\n",
       "    <tr>\n",
       "      <th>3</th>\n",
       "      <td>Not identified</td>\n",
       "      <td>Apocalypse lighting. #Spokane #wildfires</td>\n",
       "      <td>0</td>\n",
       "      <td>test</td>\n",
       "      <td>identified apocalypse lighting spokane wildfires</td>\n",
       "      <td>'identified', 'apocalypse', 'lighting', 'spoka...</td>\n",
       "      <td>[1341, 1147, 790, 1939, 999]</td>\n",
       "    </tr>\n",
       "    <tr>\n",
       "      <th>4</th>\n",
       "      <td>Not identified</td>\n",
       "      <td>Typhoon Soudelor kills 28 in China and Taiwan</td>\n",
       "      <td>0</td>\n",
       "      <td>test</td>\n",
       "      <td>identified typhoon soudelor kills 28 china taiwan</td>\n",
       "      <td>'identified', 'typhoon', 'soudelor', 'kills', ...</td>\n",
       "      <td>[1341, 1287, 1157, 1735, 1067, 2740, 711]</td>\n",
       "    </tr>\n",
       "  </tbody>\n",
       "</table>\n",
       "</div>"
      ],
      "text/plain": [
       "          keyword                                               text  target  \\\n",
       "0  Not identified                 Just happened a terrible car crash       0   \n",
       "1  Not identified  Heard about #earthquake is different cities, s...       0   \n",
       "2  Not identified  there is a forest fire at spot pond, geese are...       0   \n",
       "3  Not identified           Apocalypse lighting. #Spokane #wildfires       0   \n",
       "4  Not identified      Typhoon Soudelor kills 28 in China and Taiwan       0   \n",
       "\n",
       "  dataset                                       keyword_text  \\\n",
       "0    test             identified happened terrible car crash   \n",
       "1    test  identified heard earthquake different cities s...   \n",
       "2    test  identified forest fire spot pond geese fleeing...   \n",
       "3    test   identified apocalypse lighting spokane wildfires   \n",
       "4    test  identified typhoon soudelor kills 28 china taiwan   \n",
       "\n",
       "                                       text_sentence  \\\n",
       "0  'identified', 'happened', 'terrible', 'car', '...   \n",
       "1  'identified', 'heard', 'earthquake', 'differen...   \n",
       "2  'identified', 'forest', 'fire', 'spot', 'pond'...   \n",
       "3  'identified', 'apocalypse', 'lighting', 'spoka...   \n",
       "4  'identified', 'typhoon', 'soudelor', 'kills', ...   \n",
       "\n",
       "                                        text_one_hot  \n",
       "0                       [1341, 1072, 671, 384, 2157]  \n",
       "1     [1341, 2467, 1910, 175, 160, 1238, 2629, 2630]  \n",
       "2  [1341, 1682, 2859, 2759, 3218, 1336, 884, 1307...  \n",
       "3                       [1341, 1147, 790, 1939, 999]  \n",
       "4          [1341, 1287, 1157, 1735, 1067, 2740, 711]  "
      ]
     },
     "execution_count": 89,
     "metadata": {},
     "output_type": "execute_result"
    }
   ],
   "source": [
    "df_aux2.head()"
   ]
  },
  {
   "cell_type": "code",
   "execution_count": 90,
   "metadata": {},
   "outputs": [],
   "source": [
    "df_aux2['num_words'] = df_aux2['keyword_text'].apply(lambda x: len(x))"
   ]
  },
  {
   "cell_type": "code",
   "execution_count": 91,
   "metadata": {},
   "outputs": [],
   "source": [
    "max_length_word = df_aux2['num_words'].max()"
   ]
  },
  {
   "cell_type": "code",
   "execution_count": 92,
   "metadata": {},
   "outputs": [],
   "source": [
    "cod_tweets_test = list(df_aux2['text_one_hot'])"
   ]
  },
  {
   "cell_type": "code",
   "execution_count": 93,
   "metadata": {},
   "outputs": [],
   "source": [
    "pad_tweets_test = pad_sequences(cod_tweets_test, maxlen=max_length_word, dtype='int32', padding='post')"
   ]
  },
  {
   "cell_type": "code",
   "execution_count": 94,
   "metadata": {},
   "outputs": [
    {
     "name": "stdout",
     "output_type": "stream",
     "text": [
      "Format (3263, 146)\n"
     ]
    }
   ],
   "source": [
    "y_test = np.array(pad_tweets_test)\n",
    "print('Format', y_test.shape)"
   ]
  },
  {
   "cell_type": "markdown",
   "metadata": {},
   "source": [
    "## Predict"
   ]
  },
  {
   "cell_type": "markdown",
   "metadata": {},
   "source": [
    "### LSTM"
   ]
  },
  {
   "cell_type": "code",
   "execution_count": 95,
   "metadata": {},
   "outputs": [
    {
     "name": "stdout",
     "output_type": "stream",
     "text": [
      "WARNING:tensorflow:Model was constructed with shape (None, 158) for input Tensor(\"embedding_input:0\", shape=(None, 158), dtype=float32), but it was called on an input with incompatible shape (None, 146).\n"
     ]
    }
   ],
   "source": [
    "predict = model.predict_classes(y_test)"
   ]
  },
  {
   "cell_type": "code",
   "execution_count": 96,
   "metadata": {},
   "outputs": [],
   "source": [
    "result_predict = pd.DataFrame(predict[0])"
   ]
  },
  {
   "cell_type": "code",
   "execution_count": 97,
   "metadata": {},
   "outputs": [
    {
     "data": {
      "text/html": [
       "<div>\n",
       "<style scoped>\n",
       "    .dataframe tbody tr th:only-of-type {\n",
       "        vertical-align: middle;\n",
       "    }\n",
       "\n",
       "    .dataframe tbody tr th {\n",
       "        vertical-align: top;\n",
       "    }\n",
       "\n",
       "    .dataframe thead th {\n",
       "        text-align: right;\n",
       "    }\n",
       "</style>\n",
       "<table border=\"1\" class=\"dataframe\">\n",
       "  <thead>\n",
       "    <tr style=\"text-align: right;\">\n",
       "      <th></th>\n",
       "      <th>0</th>\n",
       "    </tr>\n",
       "  </thead>\n",
       "  <tbody>\n",
       "    <tr>\n",
       "      <th>0</th>\n",
       "      <td>0</td>\n",
       "    </tr>\n",
       "    <tr>\n",
       "      <th>1</th>\n",
       "      <td>0</td>\n",
       "    </tr>\n",
       "    <tr>\n",
       "      <th>2</th>\n",
       "      <td>0</td>\n",
       "    </tr>\n",
       "    <tr>\n",
       "      <th>3</th>\n",
       "      <td>0</td>\n",
       "    </tr>\n",
       "    <tr>\n",
       "      <th>4</th>\n",
       "      <td>0</td>\n",
       "    </tr>\n",
       "  </tbody>\n",
       "</table>\n",
       "</div>"
      ],
      "text/plain": [
       "   0\n",
       "0  0\n",
       "1  0\n",
       "2  0\n",
       "3  0\n",
       "4  0"
      ]
     },
     "execution_count": 97,
     "metadata": {},
     "output_type": "execute_result"
    }
   ],
   "source": [
    "result_predict.head()"
   ]
  },
  {
   "cell_type": "code",
   "execution_count": 98,
   "metadata": {},
   "outputs": [],
   "source": [
    "df_result_aux = df_aux2.copy()"
   ]
  },
  {
   "cell_type": "code",
   "execution_count": 99,
   "metadata": {},
   "outputs": [],
   "source": [
    "df_result_aux = df_aux2[['keyword','text']]"
   ]
  },
  {
   "cell_type": "code",
   "execution_count": 100,
   "metadata": {},
   "outputs": [
    {
     "name": "stdout",
     "output_type": "stream",
     "text": [
      "<class 'pandas.core.frame.DataFrame'>\n",
      "Int64Index: 3263 entries, 0 to 3262\n",
      "Data columns (total 2 columns):\n",
      " #   Column   Non-Null Count  Dtype \n",
      "---  ------   --------------  ----- \n",
      " 0   keyword  3263 non-null   object\n",
      " 1   text     3263 non-null   object\n",
      "dtypes: object(2)\n",
      "memory usage: 76.5+ KB\n"
     ]
    }
   ],
   "source": [
    "df_result_aux.info()"
   ]
  },
  {
   "cell_type": "code",
   "execution_count": 101,
   "metadata": {},
   "outputs": [],
   "source": [
    "df_aux3 = pd.DataFrame(result_predict)"
   ]
  },
  {
   "cell_type": "code",
   "execution_count": 102,
   "metadata": {},
   "outputs": [],
   "source": [
    "df_result = pd.concat([df_result_aux, df_aux3], axis=1, join='inner')"
   ]
  },
  {
   "cell_type": "code",
   "execution_count": 103,
   "metadata": {},
   "outputs": [
    {
     "data": {
      "text/html": [
       "<div>\n",
       "<style scoped>\n",
       "    .dataframe tbody tr th:only-of-type {\n",
       "        vertical-align: middle;\n",
       "    }\n",
       "\n",
       "    .dataframe tbody tr th {\n",
       "        vertical-align: top;\n",
       "    }\n",
       "\n",
       "    .dataframe thead th {\n",
       "        text-align: right;\n",
       "    }\n",
       "</style>\n",
       "<table border=\"1\" class=\"dataframe\">\n",
       "  <thead>\n",
       "    <tr style=\"text-align: right;\">\n",
       "      <th></th>\n",
       "      <th>keyword</th>\n",
       "      <th>text</th>\n",
       "      <th>0</th>\n",
       "    </tr>\n",
       "  </thead>\n",
       "  <tbody>\n",
       "    <tr>\n",
       "      <th>0</th>\n",
       "      <td>Not identified</td>\n",
       "      <td>Just happened a terrible car crash</td>\n",
       "      <td>0</td>\n",
       "    </tr>\n",
       "    <tr>\n",
       "      <th>1</th>\n",
       "      <td>Not identified</td>\n",
       "      <td>Heard about #earthquake is different cities, s...</td>\n",
       "      <td>0</td>\n",
       "    </tr>\n",
       "    <tr>\n",
       "      <th>2</th>\n",
       "      <td>Not identified</td>\n",
       "      <td>there is a forest fire at spot pond, geese are...</td>\n",
       "      <td>0</td>\n",
       "    </tr>\n",
       "    <tr>\n",
       "      <th>3</th>\n",
       "      <td>Not identified</td>\n",
       "      <td>Apocalypse lighting. #Spokane #wildfires</td>\n",
       "      <td>0</td>\n",
       "    </tr>\n",
       "    <tr>\n",
       "      <th>4</th>\n",
       "      <td>Not identified</td>\n",
       "      <td>Typhoon Soudelor kills 28 in China and Taiwan</td>\n",
       "      <td>0</td>\n",
       "    </tr>\n",
       "  </tbody>\n",
       "</table>\n",
       "</div>"
      ],
      "text/plain": [
       "          keyword                                               text  0\n",
       "0  Not identified                 Just happened a terrible car crash  0\n",
       "1  Not identified  Heard about #earthquake is different cities, s...  0\n",
       "2  Not identified  there is a forest fire at spot pond, geese are...  0\n",
       "3  Not identified           Apocalypse lighting. #Spokane #wildfires  0\n",
       "4  Not identified      Typhoon Soudelor kills 28 in China and Taiwan  0"
      ]
     },
     "execution_count": 103,
     "metadata": {},
     "output_type": "execute_result"
    }
   ],
   "source": [
    "df_result.head()"
   ]
  },
  {
   "cell_type": "code",
   "execution_count": 104,
   "metadata": {},
   "outputs": [],
   "source": [
    "df_result.columns = ['keyword', 'text', 'result']"
   ]
  },
  {
   "cell_type": "code",
   "execution_count": 105,
   "metadata": {},
   "outputs": [
    {
     "data": {
      "text/html": [
       "<div>\n",
       "<style scoped>\n",
       "    .dataframe tbody tr th:only-of-type {\n",
       "        vertical-align: middle;\n",
       "    }\n",
       "\n",
       "    .dataframe tbody tr th {\n",
       "        vertical-align: top;\n",
       "    }\n",
       "\n",
       "    .dataframe thead th {\n",
       "        text-align: right;\n",
       "    }\n",
       "</style>\n",
       "<table border=\"1\" class=\"dataframe\">\n",
       "  <thead>\n",
       "    <tr style=\"text-align: right;\">\n",
       "      <th></th>\n",
       "      <th>keyword</th>\n",
       "      <th>text</th>\n",
       "      <th>result</th>\n",
       "    </tr>\n",
       "  </thead>\n",
       "  <tbody>\n",
       "    <tr>\n",
       "      <th>0</th>\n",
       "      <td>Not identified</td>\n",
       "      <td>Just happened a terrible car crash</td>\n",
       "      <td>0</td>\n",
       "    </tr>\n",
       "    <tr>\n",
       "      <th>1</th>\n",
       "      <td>Not identified</td>\n",
       "      <td>Heard about #earthquake is different cities, s...</td>\n",
       "      <td>0</td>\n",
       "    </tr>\n",
       "    <tr>\n",
       "      <th>2</th>\n",
       "      <td>Not identified</td>\n",
       "      <td>there is a forest fire at spot pond, geese are...</td>\n",
       "      <td>0</td>\n",
       "    </tr>\n",
       "    <tr>\n",
       "      <th>3</th>\n",
       "      <td>Not identified</td>\n",
       "      <td>Apocalypse lighting. #Spokane #wildfires</td>\n",
       "      <td>0</td>\n",
       "    </tr>\n",
       "    <tr>\n",
       "      <th>4</th>\n",
       "      <td>Not identified</td>\n",
       "      <td>Typhoon Soudelor kills 28 in China and Taiwan</td>\n",
       "      <td>0</td>\n",
       "    </tr>\n",
       "  </tbody>\n",
       "</table>\n",
       "</div>"
      ],
      "text/plain": [
       "          keyword                                               text  result\n",
       "0  Not identified                 Just happened a terrible car crash       0\n",
       "1  Not identified  Heard about #earthquake is different cities, s...       0\n",
       "2  Not identified  there is a forest fire at spot pond, geese are...       0\n",
       "3  Not identified           Apocalypse lighting. #Spokane #wildfires       0\n",
       "4  Not identified      Typhoon Soudelor kills 28 in China and Taiwan       0"
      ]
     },
     "execution_count": 105,
     "metadata": {},
     "output_type": "execute_result"
    }
   ],
   "source": [
    "df_result.head()"
   ]
  },
  {
   "cell_type": "markdown",
   "metadata": {},
   "source": [
    "*A coluna result é o resultado para as previsões dos tweets da base de teste.*"
   ]
  },
  {
   "cell_type": "code",
   "execution_count": 106,
   "metadata": {},
   "outputs": [
    {
     "data": {
      "text/plain": [
       "0    1.0\n",
       "Name: result, dtype: float64"
      ]
     },
     "execution_count": 106,
     "metadata": {},
     "output_type": "execute_result"
    }
   ],
   "source": [
    "df_result['result'].value_counts(normalize=True)"
   ]
  },
  {
   "cell_type": "markdown",
   "metadata": {},
   "source": [
    "*Distribuição da previsão dos resultados com o modelo LSTM *"
   ]
  },
  {
   "cell_type": "markdown",
   "metadata": {},
   "source": [
    "### Naive Bayes"
   ]
  },
  {
   "cell_type": "code",
   "execution_count": 107,
   "metadata": {},
   "outputs": [],
   "source": [
    "df_aux1 = df[df['dataset'] == 'test']\n",
    "X_predict = df_aux1.text_sentence\n",
    "y_predict = df_aux1.target"
   ]
  },
  {
   "cell_type": "code",
   "execution_count": 108,
   "metadata": {},
   "outputs": [],
   "source": [
    "predict_nb = nb.predict(X_predict)"
   ]
  },
  {
   "cell_type": "code",
   "execution_count": 109,
   "metadata": {},
   "outputs": [
    {
     "name": "stdout",
     "output_type": "stream",
     "text": [
      "[1 1 1 ... 1 1 1]\n"
     ]
    }
   ],
   "source": [
    "print(predict_nb)"
   ]
  },
  {
   "cell_type": "code",
   "execution_count": 110,
   "metadata": {},
   "outputs": [],
   "source": [
    "df_nb = pd.DataFrame(predict_nb)"
   ]
  },
  {
   "cell_type": "code",
   "execution_count": 113,
   "metadata": {},
   "outputs": [
    {
     "data": {
      "text/html": [
       "<div>\n",
       "<style scoped>\n",
       "    .dataframe tbody tr th:only-of-type {\n",
       "        vertical-align: middle;\n",
       "    }\n",
       "\n",
       "    .dataframe tbody tr th {\n",
       "        vertical-align: top;\n",
       "    }\n",
       "\n",
       "    .dataframe thead th {\n",
       "        text-align: right;\n",
       "    }\n",
       "</style>\n",
       "<table border=\"1\" class=\"dataframe\">\n",
       "  <thead>\n",
       "    <tr style=\"text-align: right;\">\n",
       "      <th></th>\n",
       "      <th>0</th>\n",
       "    </tr>\n",
       "  </thead>\n",
       "  <tbody>\n",
       "    <tr>\n",
       "      <th>0</th>\n",
       "      <td>1</td>\n",
       "    </tr>\n",
       "    <tr>\n",
       "      <th>1</th>\n",
       "      <td>1</td>\n",
       "    </tr>\n",
       "    <tr>\n",
       "      <th>2</th>\n",
       "      <td>1</td>\n",
       "    </tr>\n",
       "    <tr>\n",
       "      <th>3</th>\n",
       "      <td>1</td>\n",
       "    </tr>\n",
       "    <tr>\n",
       "      <th>4</th>\n",
       "      <td>1</td>\n",
       "    </tr>\n",
       "  </tbody>\n",
       "</table>\n",
       "</div>"
      ],
      "text/plain": [
       "   0\n",
       "0  1\n",
       "1  1\n",
       "2  1\n",
       "3  1\n",
       "4  1"
      ]
     },
     "execution_count": 113,
     "metadata": {},
     "output_type": "execute_result"
    }
   ],
   "source": [
    "df_nb.head()"
   ]
  },
  {
   "cell_type": "code",
   "execution_count": 114,
   "metadata": {},
   "outputs": [],
   "source": [
    "df_result_nb = pd.concat([df_result_aux, df_nb], axis=1, join='inner')"
   ]
  },
  {
   "cell_type": "code",
   "execution_count": 115,
   "metadata": {},
   "outputs": [
    {
     "data": {
      "text/html": [
       "<div>\n",
       "<style scoped>\n",
       "    .dataframe tbody tr th:only-of-type {\n",
       "        vertical-align: middle;\n",
       "    }\n",
       "\n",
       "    .dataframe tbody tr th {\n",
       "        vertical-align: top;\n",
       "    }\n",
       "\n",
       "    .dataframe thead th {\n",
       "        text-align: right;\n",
       "    }\n",
       "</style>\n",
       "<table border=\"1\" class=\"dataframe\">\n",
       "  <thead>\n",
       "    <tr style=\"text-align: right;\">\n",
       "      <th></th>\n",
       "      <th>keyword</th>\n",
       "      <th>text</th>\n",
       "      <th>0</th>\n",
       "    </tr>\n",
       "  </thead>\n",
       "  <tbody>\n",
       "    <tr>\n",
       "      <th>0</th>\n",
       "      <td>Not identified</td>\n",
       "      <td>Just happened a terrible car crash</td>\n",
       "      <td>1</td>\n",
       "    </tr>\n",
       "    <tr>\n",
       "      <th>1</th>\n",
       "      <td>Not identified</td>\n",
       "      <td>Heard about #earthquake is different cities, s...</td>\n",
       "      <td>1</td>\n",
       "    </tr>\n",
       "    <tr>\n",
       "      <th>2</th>\n",
       "      <td>Not identified</td>\n",
       "      <td>there is a forest fire at spot pond, geese are...</td>\n",
       "      <td>1</td>\n",
       "    </tr>\n",
       "    <tr>\n",
       "      <th>3</th>\n",
       "      <td>Not identified</td>\n",
       "      <td>Apocalypse lighting. #Spokane #wildfires</td>\n",
       "      <td>1</td>\n",
       "    </tr>\n",
       "    <tr>\n",
       "      <th>4</th>\n",
       "      <td>Not identified</td>\n",
       "      <td>Typhoon Soudelor kills 28 in China and Taiwan</td>\n",
       "      <td>1</td>\n",
       "    </tr>\n",
       "  </tbody>\n",
       "</table>\n",
       "</div>"
      ],
      "text/plain": [
       "          keyword                                               text  0\n",
       "0  Not identified                 Just happened a terrible car crash  1\n",
       "1  Not identified  Heard about #earthquake is different cities, s...  1\n",
       "2  Not identified  there is a forest fire at spot pond, geese are...  1\n",
       "3  Not identified           Apocalypse lighting. #Spokane #wildfires  1\n",
       "4  Not identified      Typhoon Soudelor kills 28 in China and Taiwan  1"
      ]
     },
     "execution_count": 115,
     "metadata": {},
     "output_type": "execute_result"
    }
   ],
   "source": [
    "df_result_nb.head()"
   ]
  },
  {
   "cell_type": "code",
   "execution_count": 116,
   "metadata": {},
   "outputs": [],
   "source": [
    "df_result_nb.columns = ['keyword', 'text', 'result']"
   ]
  },
  {
   "cell_type": "code",
   "execution_count": 117,
   "metadata": {},
   "outputs": [
    {
     "data": {
      "text/plain": [
       "0    0.671468\n",
       "1    0.328532\n",
       "Name: result, dtype: float64"
      ]
     },
     "execution_count": 117,
     "metadata": {},
     "output_type": "execute_result"
    }
   ],
   "source": [
    "df_result_nb['result'].value_counts(normalize=True)"
   ]
  },
  {
   "cell_type": "markdown",
   "metadata": {},
   "source": [
    "*Na predição o modelo do LSTM foi mais eficiente, acertou todos os registros enquanto o Naive Bayes, erros cerca de 33% dos registros.*"
   ]
  }
 ],
 "metadata": {
  "kernelspec": {
   "display_name": "Python 3",
   "language": "python",
   "name": "python3"
  },
  "language_info": {
   "codemirror_mode": {
    "name": "ipython",
    "version": 3
   },
   "file_extension": ".py",
   "mimetype": "text/x-python",
   "name": "python",
   "nbconvert_exporter": "python",
   "pygments_lexer": "ipython3",
   "version": "3.7.6"
  }
 },
 "nbformat": 4,
 "nbformat_minor": 4
}
